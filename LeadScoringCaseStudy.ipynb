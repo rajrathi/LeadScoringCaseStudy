{
 "cells": [
  {
   "cell_type": "code",
   "execution_count": 2,
   "id": "6469b292-5870-43b5-99bd-512fb42e8c74",
   "metadata": {
    "ExecuteTime": {
     "end_time": "2021-06-21T16:25:54.980446Z",
     "start_time": "2021-06-21T16:25:54.970490Z"
    }
   },
   "outputs": [],
   "source": [
    "# Suppressing Warnings\n",
    "import warnings\n",
    "warnings.filterwarnings('ignore')"
   ]
  },
  {
   "cell_type": "code",
   "execution_count": 3,
   "id": "bizarre-closer",
   "metadata": {
    "ExecuteTime": {
     "end_time": "2021-06-21T16:25:56.256667Z",
     "start_time": "2021-06-21T16:25:54.981898Z"
    }
   },
   "outputs": [],
   "source": [
    "#importing  required libraries\n",
    "import numpy as np\n",
    "import pandas as pd\n",
    "import matplotlib.pyplot as plt\n",
    "import seaborn as sns"
   ]
  },
  {
   "cell_type": "code",
   "execution_count": 4,
   "id": "4aee090b-55a9-45d9-994c-154ea528338c",
   "metadata": {
    "ExecuteTime": {
     "end_time": "2021-06-21T16:25:56.272195Z",
     "start_time": "2021-06-21T16:25:56.258018Z"
    }
   },
   "outputs": [],
   "source": [
    "# setting display option for pandas for columns\n",
    "pd.set_option(\"display.max_columns\",100)"
   ]
  },
  {
   "cell_type": "markdown",
   "id": "2fb77ae7",
   "metadata": {},
   "source": [
    "# Read and Understand Data"
   ]
  },
  {
   "cell_type": "code",
   "execution_count": 5,
   "id": "c68d48d3-b2b7-4946-b2ae-02c46fa00403",
   "metadata": {
    "ExecuteTime": {
     "end_time": "2021-06-21T16:25:56.349059Z",
     "start_time": "2021-06-21T16:25:56.273508Z"
    }
   },
   "outputs": [
    {
     "data": {
      "text/html": [
       "<div>\n",
       "<style scoped>\n",
       "    .dataframe tbody tr th:only-of-type {\n",
       "        vertical-align: middle;\n",
       "    }\n",
       "\n",
       "    .dataframe tbody tr th {\n",
       "        vertical-align: top;\n",
       "    }\n",
       "\n",
       "    .dataframe thead th {\n",
       "        text-align: right;\n",
       "    }\n",
       "</style>\n",
       "<table border=\"1\" class=\"dataframe\">\n",
       "  <thead>\n",
       "    <tr style=\"text-align: right;\">\n",
       "      <th></th>\n",
       "      <th>Prospect ID</th>\n",
       "      <th>Lead Number</th>\n",
       "      <th>Lead Origin</th>\n",
       "      <th>Lead Source</th>\n",
       "      <th>Do Not Email</th>\n",
       "      <th>Do Not Call</th>\n",
       "      <th>Converted</th>\n",
       "      <th>TotalVisits</th>\n",
       "      <th>Total Time Spent on Website</th>\n",
       "      <th>Page Views Per Visit</th>\n",
       "      <th>Last Activity</th>\n",
       "      <th>Country</th>\n",
       "      <th>Specialization</th>\n",
       "      <th>How did you hear about X Education</th>\n",
       "      <th>What is your current occupation</th>\n",
       "      <th>What matters most to you in choosing a course</th>\n",
       "      <th>Search</th>\n",
       "      <th>Magazine</th>\n",
       "      <th>Newspaper Article</th>\n",
       "      <th>X Education Forums</th>\n",
       "      <th>Newspaper</th>\n",
       "      <th>Digital Advertisement</th>\n",
       "      <th>Through Recommendations</th>\n",
       "      <th>Receive More Updates About Our Courses</th>\n",
       "      <th>Tags</th>\n",
       "      <th>Lead Quality</th>\n",
       "      <th>Update me on Supply Chain Content</th>\n",
       "      <th>Get updates on DM Content</th>\n",
       "      <th>Lead Profile</th>\n",
       "      <th>City</th>\n",
       "      <th>Asymmetrique Activity Index</th>\n",
       "      <th>Asymmetrique Profile Index</th>\n",
       "      <th>Asymmetrique Activity Score</th>\n",
       "      <th>Asymmetrique Profile Score</th>\n",
       "      <th>I agree to pay the amount through cheque</th>\n",
       "      <th>A free copy of Mastering The Interview</th>\n",
       "      <th>Last Notable Activity</th>\n",
       "    </tr>\n",
       "  </thead>\n",
       "  <tbody>\n",
       "    <tr>\n",
       "      <th>0</th>\n",
       "      <td>7927b2df-8bba-4d29-b9a2-b6e0beafe620</td>\n",
       "      <td>660737</td>\n",
       "      <td>API</td>\n",
       "      <td>Olark Chat</td>\n",
       "      <td>No</td>\n",
       "      <td>No</td>\n",
       "      <td>0</td>\n",
       "      <td>0.0</td>\n",
       "      <td>0</td>\n",
       "      <td>0.0</td>\n",
       "      <td>Page Visited on Website</td>\n",
       "      <td>NaN</td>\n",
       "      <td>Select</td>\n",
       "      <td>Select</td>\n",
       "      <td>Unemployed</td>\n",
       "      <td>Better Career Prospects</td>\n",
       "      <td>No</td>\n",
       "      <td>No</td>\n",
       "      <td>No</td>\n",
       "      <td>No</td>\n",
       "      <td>No</td>\n",
       "      <td>No</td>\n",
       "      <td>No</td>\n",
       "      <td>No</td>\n",
       "      <td>Interested in other courses</td>\n",
       "      <td>Low in Relevance</td>\n",
       "      <td>No</td>\n",
       "      <td>No</td>\n",
       "      <td>Select</td>\n",
       "      <td>Select</td>\n",
       "      <td>02.Medium</td>\n",
       "      <td>02.Medium</td>\n",
       "      <td>15.0</td>\n",
       "      <td>15.0</td>\n",
       "      <td>No</td>\n",
       "      <td>No</td>\n",
       "      <td>Modified</td>\n",
       "    </tr>\n",
       "    <tr>\n",
       "      <th>1</th>\n",
       "      <td>2a272436-5132-4136-86fa-dcc88c88f482</td>\n",
       "      <td>660728</td>\n",
       "      <td>API</td>\n",
       "      <td>Organic Search</td>\n",
       "      <td>No</td>\n",
       "      <td>No</td>\n",
       "      <td>0</td>\n",
       "      <td>5.0</td>\n",
       "      <td>674</td>\n",
       "      <td>2.5</td>\n",
       "      <td>Email Opened</td>\n",
       "      <td>India</td>\n",
       "      <td>Select</td>\n",
       "      <td>Select</td>\n",
       "      <td>Unemployed</td>\n",
       "      <td>Better Career Prospects</td>\n",
       "      <td>No</td>\n",
       "      <td>No</td>\n",
       "      <td>No</td>\n",
       "      <td>No</td>\n",
       "      <td>No</td>\n",
       "      <td>No</td>\n",
       "      <td>No</td>\n",
       "      <td>No</td>\n",
       "      <td>Ringing</td>\n",
       "      <td>NaN</td>\n",
       "      <td>No</td>\n",
       "      <td>No</td>\n",
       "      <td>Select</td>\n",
       "      <td>Select</td>\n",
       "      <td>02.Medium</td>\n",
       "      <td>02.Medium</td>\n",
       "      <td>15.0</td>\n",
       "      <td>15.0</td>\n",
       "      <td>No</td>\n",
       "      <td>No</td>\n",
       "      <td>Email Opened</td>\n",
       "    </tr>\n",
       "    <tr>\n",
       "      <th>2</th>\n",
       "      <td>8cc8c611-a219-4f35-ad23-fdfd2656bd8a</td>\n",
       "      <td>660727</td>\n",
       "      <td>Landing Page Submission</td>\n",
       "      <td>Direct Traffic</td>\n",
       "      <td>No</td>\n",
       "      <td>No</td>\n",
       "      <td>1</td>\n",
       "      <td>2.0</td>\n",
       "      <td>1532</td>\n",
       "      <td>2.0</td>\n",
       "      <td>Email Opened</td>\n",
       "      <td>India</td>\n",
       "      <td>Business Administration</td>\n",
       "      <td>Select</td>\n",
       "      <td>Student</td>\n",
       "      <td>Better Career Prospects</td>\n",
       "      <td>No</td>\n",
       "      <td>No</td>\n",
       "      <td>No</td>\n",
       "      <td>No</td>\n",
       "      <td>No</td>\n",
       "      <td>No</td>\n",
       "      <td>No</td>\n",
       "      <td>No</td>\n",
       "      <td>Will revert after reading the email</td>\n",
       "      <td>Might be</td>\n",
       "      <td>No</td>\n",
       "      <td>No</td>\n",
       "      <td>Potential Lead</td>\n",
       "      <td>Mumbai</td>\n",
       "      <td>02.Medium</td>\n",
       "      <td>01.High</td>\n",
       "      <td>14.0</td>\n",
       "      <td>20.0</td>\n",
       "      <td>No</td>\n",
       "      <td>Yes</td>\n",
       "      <td>Email Opened</td>\n",
       "    </tr>\n",
       "    <tr>\n",
       "      <th>3</th>\n",
       "      <td>0cc2df48-7cf4-4e39-9de9-19797f9b38cc</td>\n",
       "      <td>660719</td>\n",
       "      <td>Landing Page Submission</td>\n",
       "      <td>Direct Traffic</td>\n",
       "      <td>No</td>\n",
       "      <td>No</td>\n",
       "      <td>0</td>\n",
       "      <td>1.0</td>\n",
       "      <td>305</td>\n",
       "      <td>1.0</td>\n",
       "      <td>Unreachable</td>\n",
       "      <td>India</td>\n",
       "      <td>Media and Advertising</td>\n",
       "      <td>Word Of Mouth</td>\n",
       "      <td>Unemployed</td>\n",
       "      <td>Better Career Prospects</td>\n",
       "      <td>No</td>\n",
       "      <td>No</td>\n",
       "      <td>No</td>\n",
       "      <td>No</td>\n",
       "      <td>No</td>\n",
       "      <td>No</td>\n",
       "      <td>No</td>\n",
       "      <td>No</td>\n",
       "      <td>Ringing</td>\n",
       "      <td>Not Sure</td>\n",
       "      <td>No</td>\n",
       "      <td>No</td>\n",
       "      <td>Select</td>\n",
       "      <td>Mumbai</td>\n",
       "      <td>02.Medium</td>\n",
       "      <td>01.High</td>\n",
       "      <td>13.0</td>\n",
       "      <td>17.0</td>\n",
       "      <td>No</td>\n",
       "      <td>No</td>\n",
       "      <td>Modified</td>\n",
       "    </tr>\n",
       "    <tr>\n",
       "      <th>4</th>\n",
       "      <td>3256f628-e534-4826-9d63-4a8b88782852</td>\n",
       "      <td>660681</td>\n",
       "      <td>Landing Page Submission</td>\n",
       "      <td>Google</td>\n",
       "      <td>No</td>\n",
       "      <td>No</td>\n",
       "      <td>1</td>\n",
       "      <td>2.0</td>\n",
       "      <td>1428</td>\n",
       "      <td>1.0</td>\n",
       "      <td>Converted to Lead</td>\n",
       "      <td>India</td>\n",
       "      <td>Select</td>\n",
       "      <td>Other</td>\n",
       "      <td>Unemployed</td>\n",
       "      <td>Better Career Prospects</td>\n",
       "      <td>No</td>\n",
       "      <td>No</td>\n",
       "      <td>No</td>\n",
       "      <td>No</td>\n",
       "      <td>No</td>\n",
       "      <td>No</td>\n",
       "      <td>No</td>\n",
       "      <td>No</td>\n",
       "      <td>Will revert after reading the email</td>\n",
       "      <td>Might be</td>\n",
       "      <td>No</td>\n",
       "      <td>No</td>\n",
       "      <td>Select</td>\n",
       "      <td>Mumbai</td>\n",
       "      <td>02.Medium</td>\n",
       "      <td>01.High</td>\n",
       "      <td>15.0</td>\n",
       "      <td>18.0</td>\n",
       "      <td>No</td>\n",
       "      <td>No</td>\n",
       "      <td>Modified</td>\n",
       "    </tr>\n",
       "  </tbody>\n",
       "</table>\n",
       "</div>"
      ],
      "text/plain": [
       "                            Prospect ID  Lead Number              Lead Origin  \\\n",
       "0  7927b2df-8bba-4d29-b9a2-b6e0beafe620       660737                      API   \n",
       "1  2a272436-5132-4136-86fa-dcc88c88f482       660728                      API   \n",
       "2  8cc8c611-a219-4f35-ad23-fdfd2656bd8a       660727  Landing Page Submission   \n",
       "3  0cc2df48-7cf4-4e39-9de9-19797f9b38cc       660719  Landing Page Submission   \n",
       "4  3256f628-e534-4826-9d63-4a8b88782852       660681  Landing Page Submission   \n",
       "\n",
       "      Lead Source Do Not Email Do Not Call  Converted  TotalVisits  \\\n",
       "0      Olark Chat           No          No          0          0.0   \n",
       "1  Organic Search           No          No          0          5.0   \n",
       "2  Direct Traffic           No          No          1          2.0   \n",
       "3  Direct Traffic           No          No          0          1.0   \n",
       "4          Google           No          No          1          2.0   \n",
       "\n",
       "   Total Time Spent on Website  Page Views Per Visit            Last Activity  \\\n",
       "0                            0                   0.0  Page Visited on Website   \n",
       "1                          674                   2.5             Email Opened   \n",
       "2                         1532                   2.0             Email Opened   \n",
       "3                          305                   1.0              Unreachable   \n",
       "4                         1428                   1.0        Converted to Lead   \n",
       "\n",
       "  Country           Specialization How did you hear about X Education  \\\n",
       "0     NaN                   Select                             Select   \n",
       "1   India                   Select                             Select   \n",
       "2   India  Business Administration                             Select   \n",
       "3   India    Media and Advertising                      Word Of Mouth   \n",
       "4   India                   Select                              Other   \n",
       "\n",
       "  What is your current occupation  \\\n",
       "0                      Unemployed   \n",
       "1                      Unemployed   \n",
       "2                         Student   \n",
       "3                      Unemployed   \n",
       "4                      Unemployed   \n",
       "\n",
       "  What matters most to you in choosing a course Search Magazine  \\\n",
       "0                       Better Career Prospects     No       No   \n",
       "1                       Better Career Prospects     No       No   \n",
       "2                       Better Career Prospects     No       No   \n",
       "3                       Better Career Prospects     No       No   \n",
       "4                       Better Career Prospects     No       No   \n",
       "\n",
       "  Newspaper Article X Education Forums Newspaper Digital Advertisement  \\\n",
       "0                No                 No        No                    No   \n",
       "1                No                 No        No                    No   \n",
       "2                No                 No        No                    No   \n",
       "3                No                 No        No                    No   \n",
       "4                No                 No        No                    No   \n",
       "\n",
       "  Through Recommendations Receive More Updates About Our Courses  \\\n",
       "0                      No                                     No   \n",
       "1                      No                                     No   \n",
       "2                      No                                     No   \n",
       "3                      No                                     No   \n",
       "4                      No                                     No   \n",
       "\n",
       "                                  Tags      Lead Quality  \\\n",
       "0          Interested in other courses  Low in Relevance   \n",
       "1                              Ringing               NaN   \n",
       "2  Will revert after reading the email          Might be   \n",
       "3                              Ringing          Not Sure   \n",
       "4  Will revert after reading the email          Might be   \n",
       "\n",
       "  Update me on Supply Chain Content Get updates on DM Content    Lead Profile  \\\n",
       "0                                No                        No          Select   \n",
       "1                                No                        No          Select   \n",
       "2                                No                        No  Potential Lead   \n",
       "3                                No                        No          Select   \n",
       "4                                No                        No          Select   \n",
       "\n",
       "     City Asymmetrique Activity Index Asymmetrique Profile Index  \\\n",
       "0  Select                   02.Medium                  02.Medium   \n",
       "1  Select                   02.Medium                  02.Medium   \n",
       "2  Mumbai                   02.Medium                    01.High   \n",
       "3  Mumbai                   02.Medium                    01.High   \n",
       "4  Mumbai                   02.Medium                    01.High   \n",
       "\n",
       "   Asymmetrique Activity Score  Asymmetrique Profile Score  \\\n",
       "0                         15.0                        15.0   \n",
       "1                         15.0                        15.0   \n",
       "2                         14.0                        20.0   \n",
       "3                         13.0                        17.0   \n",
       "4                         15.0                        18.0   \n",
       "\n",
       "  I agree to pay the amount through cheque  \\\n",
       "0                                       No   \n",
       "1                                       No   \n",
       "2                                       No   \n",
       "3                                       No   \n",
       "4                                       No   \n",
       "\n",
       "  A free copy of Mastering The Interview Last Notable Activity  \n",
       "0                                     No              Modified  \n",
       "1                                     No          Email Opened  \n",
       "2                                    Yes          Email Opened  \n",
       "3                                     No              Modified  \n",
       "4                                     No              Modified  "
      ]
     },
     "execution_count": 5,
     "metadata": {},
     "output_type": "execute_result"
    }
   ],
   "source": [
    "#reading csv into lead data frame\n",
    "lead = pd.read_csv(\"leads.csv\")\n",
    "lead.head()"
   ]
  },
  {
   "cell_type": "code",
   "execution_count": 6,
   "id": "30033132-5b67-4336-b9f7-98b32b830a67",
   "metadata": {
    "ExecuteTime": {
     "end_time": "2021-06-21T16:25:56.364436Z",
     "start_time": "2021-06-21T16:25:56.350052Z"
    }
   },
   "outputs": [
    {
     "data": {
      "text/plain": [
       "(9240, 37)"
      ]
     },
     "execution_count": 6,
     "metadata": {},
     "output_type": "execute_result"
    }
   ],
   "source": [
    "#checking dimensions of data set\n",
    "lead.shape"
   ]
  },
  {
   "cell_type": "code",
   "execution_count": 7,
   "id": "9824d0b4-6fb3-41ee-ad80-f579f6a191f8",
   "metadata": {
    "ExecuteTime": {
     "end_time": "2021-06-21T16:25:56.395188Z",
     "start_time": "2021-06-21T16:25:56.365428Z"
    }
   },
   "outputs": [
    {
     "name": "stdout",
     "output_type": "stream",
     "text": [
      "<class 'pandas.core.frame.DataFrame'>\n",
      "RangeIndex: 9240 entries, 0 to 9239\n",
      "Data columns (total 37 columns):\n",
      " #   Column                                         Non-Null Count  Dtype  \n",
      "---  ------                                         --------------  -----  \n",
      " 0   Prospect ID                                    9240 non-null   object \n",
      " 1   Lead Number                                    9240 non-null   int64  \n",
      " 2   Lead Origin                                    9240 non-null   object \n",
      " 3   Lead Source                                    9204 non-null   object \n",
      " 4   Do Not Email                                   9240 non-null   object \n",
      " 5   Do Not Call                                    9240 non-null   object \n",
      " 6   Converted                                      9240 non-null   int64  \n",
      " 7   TotalVisits                                    9103 non-null   float64\n",
      " 8   Total Time Spent on Website                    9240 non-null   int64  \n",
      " 9   Page Views Per Visit                           9103 non-null   float64\n",
      " 10  Last Activity                                  9137 non-null   object \n",
      " 11  Country                                        6779 non-null   object \n",
      " 12  Specialization                                 7802 non-null   object \n",
      " 13  How did you hear about X Education             7033 non-null   object \n",
      " 14  What is your current occupation                6550 non-null   object \n",
      " 15  What matters most to you in choosing a course  6531 non-null   object \n",
      " 16  Search                                         9240 non-null   object \n",
      " 17  Magazine                                       9240 non-null   object \n",
      " 18  Newspaper Article                              9240 non-null   object \n",
      " 19  X Education Forums                             9240 non-null   object \n",
      " 20  Newspaper                                      9240 non-null   object \n",
      " 21  Digital Advertisement                          9240 non-null   object \n",
      " 22  Through Recommendations                        9240 non-null   object \n",
      " 23  Receive More Updates About Our Courses         9240 non-null   object \n",
      " 24  Tags                                           5887 non-null   object \n",
      " 25  Lead Quality                                   4473 non-null   object \n",
      " 26  Update me on Supply Chain Content              9240 non-null   object \n",
      " 27  Get updates on DM Content                      9240 non-null   object \n",
      " 28  Lead Profile                                   6531 non-null   object \n",
      " 29  City                                           7820 non-null   object \n",
      " 30  Asymmetrique Activity Index                    5022 non-null   object \n",
      " 31  Asymmetrique Profile Index                     5022 non-null   object \n",
      " 32  Asymmetrique Activity Score                    5022 non-null   float64\n",
      " 33  Asymmetrique Profile Score                     5022 non-null   float64\n",
      " 34  I agree to pay the amount through cheque       9240 non-null   object \n",
      " 35  A free copy of Mastering The Interview         9240 non-null   object \n",
      " 36  Last Notable Activity                          9240 non-null   object \n",
      "dtypes: float64(4), int64(3), object(30)\n",
      "memory usage: 2.6+ MB\n"
     ]
    }
   ],
   "source": [
    "lead.info()"
   ]
  },
  {
   "cell_type": "code",
   "execution_count": 8,
   "id": "4d9a999c-b53f-46fc-bd71-3e1009717cd7",
   "metadata": {
    "ExecuteTime": {
     "end_time": "2021-06-21T16:25:56.425983Z",
     "start_time": "2021-06-21T16:25:56.396180Z"
    }
   },
   "outputs": [
    {
     "data": {
      "text/html": [
       "<div>\n",
       "<style scoped>\n",
       "    .dataframe tbody tr th:only-of-type {\n",
       "        vertical-align: middle;\n",
       "    }\n",
       "\n",
       "    .dataframe tbody tr th {\n",
       "        vertical-align: top;\n",
       "    }\n",
       "\n",
       "    .dataframe thead th {\n",
       "        text-align: right;\n",
       "    }\n",
       "</style>\n",
       "<table border=\"1\" class=\"dataframe\">\n",
       "  <thead>\n",
       "    <tr style=\"text-align: right;\">\n",
       "      <th></th>\n",
       "      <th>Lead Number</th>\n",
       "      <th>Converted</th>\n",
       "      <th>TotalVisits</th>\n",
       "      <th>Total Time Spent on Website</th>\n",
       "      <th>Page Views Per Visit</th>\n",
       "      <th>Asymmetrique Activity Score</th>\n",
       "      <th>Asymmetrique Profile Score</th>\n",
       "    </tr>\n",
       "  </thead>\n",
       "  <tbody>\n",
       "    <tr>\n",
       "      <th>count</th>\n",
       "      <td>9240.000000</td>\n",
       "      <td>9240.000000</td>\n",
       "      <td>9103.000000</td>\n",
       "      <td>9240.000000</td>\n",
       "      <td>9103.000000</td>\n",
       "      <td>5022.000000</td>\n",
       "      <td>5022.000000</td>\n",
       "    </tr>\n",
       "    <tr>\n",
       "      <th>mean</th>\n",
       "      <td>617188.435606</td>\n",
       "      <td>0.385390</td>\n",
       "      <td>3.445238</td>\n",
       "      <td>487.698268</td>\n",
       "      <td>2.362820</td>\n",
       "      <td>14.306252</td>\n",
       "      <td>16.344883</td>\n",
       "    </tr>\n",
       "    <tr>\n",
       "      <th>std</th>\n",
       "      <td>23405.995698</td>\n",
       "      <td>0.486714</td>\n",
       "      <td>4.854853</td>\n",
       "      <td>548.021466</td>\n",
       "      <td>2.161418</td>\n",
       "      <td>1.386694</td>\n",
       "      <td>1.811395</td>\n",
       "    </tr>\n",
       "    <tr>\n",
       "      <th>min</th>\n",
       "      <td>579533.000000</td>\n",
       "      <td>0.000000</td>\n",
       "      <td>0.000000</td>\n",
       "      <td>0.000000</td>\n",
       "      <td>0.000000</td>\n",
       "      <td>7.000000</td>\n",
       "      <td>11.000000</td>\n",
       "    </tr>\n",
       "    <tr>\n",
       "      <th>25%</th>\n",
       "      <td>596484.500000</td>\n",
       "      <td>0.000000</td>\n",
       "      <td>1.000000</td>\n",
       "      <td>12.000000</td>\n",
       "      <td>1.000000</td>\n",
       "      <td>14.000000</td>\n",
       "      <td>15.000000</td>\n",
       "    </tr>\n",
       "    <tr>\n",
       "      <th>50%</th>\n",
       "      <td>615479.000000</td>\n",
       "      <td>0.000000</td>\n",
       "      <td>3.000000</td>\n",
       "      <td>248.000000</td>\n",
       "      <td>2.000000</td>\n",
       "      <td>14.000000</td>\n",
       "      <td>16.000000</td>\n",
       "    </tr>\n",
       "    <tr>\n",
       "      <th>75%</th>\n",
       "      <td>637387.250000</td>\n",
       "      <td>1.000000</td>\n",
       "      <td>5.000000</td>\n",
       "      <td>936.000000</td>\n",
       "      <td>3.000000</td>\n",
       "      <td>15.000000</td>\n",
       "      <td>18.000000</td>\n",
       "    </tr>\n",
       "    <tr>\n",
       "      <th>max</th>\n",
       "      <td>660737.000000</td>\n",
       "      <td>1.000000</td>\n",
       "      <td>251.000000</td>\n",
       "      <td>2272.000000</td>\n",
       "      <td>55.000000</td>\n",
       "      <td>18.000000</td>\n",
       "      <td>20.000000</td>\n",
       "    </tr>\n",
       "  </tbody>\n",
       "</table>\n",
       "</div>"
      ],
      "text/plain": [
       "         Lead Number    Converted  TotalVisits  Total Time Spent on Website  \\\n",
       "count    9240.000000  9240.000000  9103.000000                  9240.000000   \n",
       "mean   617188.435606     0.385390     3.445238                   487.698268   \n",
       "std     23405.995698     0.486714     4.854853                   548.021466   \n",
       "min    579533.000000     0.000000     0.000000                     0.000000   \n",
       "25%    596484.500000     0.000000     1.000000                    12.000000   \n",
       "50%    615479.000000     0.000000     3.000000                   248.000000   \n",
       "75%    637387.250000     1.000000     5.000000                   936.000000   \n",
       "max    660737.000000     1.000000   251.000000                  2272.000000   \n",
       "\n",
       "       Page Views Per Visit  Asymmetrique Activity Score  \\\n",
       "count           9103.000000                  5022.000000   \n",
       "mean               2.362820                    14.306252   \n",
       "std                2.161418                     1.386694   \n",
       "min                0.000000                     7.000000   \n",
       "25%                1.000000                    14.000000   \n",
       "50%                2.000000                    14.000000   \n",
       "75%                3.000000                    15.000000   \n",
       "max               55.000000                    18.000000   \n",
       "\n",
       "       Asymmetrique Profile Score  \n",
       "count                 5022.000000  \n",
       "mean                    16.344883  \n",
       "std                      1.811395  \n",
       "min                     11.000000  \n",
       "25%                     15.000000  \n",
       "50%                     16.000000  \n",
       "75%                     18.000000  \n",
       "max                     20.000000  "
      ]
     },
     "execution_count": 8,
     "metadata": {},
     "output_type": "execute_result"
    }
   ],
   "source": [
    "#checking statistical Summary \n",
    "lead.describe()"
   ]
  },
  {
   "cell_type": "markdown",
   "id": "21b50aea",
   "metadata": {},
   "source": [
    "# Exploratory Data Analysis"
   ]
  },
  {
   "cell_type": "code",
   "execution_count": 9,
   "id": "55764df0-608b-4a2b-959f-daa628330900",
   "metadata": {
    "ExecuteTime": {
     "end_time": "2021-06-21T16:25:56.442080Z",
     "start_time": "2021-06-21T16:25:56.427924Z"
    }
   },
   "outputs": [
    {
     "data": {
      "text/plain": [
       "True"
      ]
     },
     "execution_count": 9,
     "metadata": {},
     "output_type": "execute_result"
    }
   ],
   "source": [
    "# checking any duplicates for Prospect ID\n",
    "sum(lead.duplicated(subset = 'Prospect ID')) == 0"
   ]
  },
  {
   "cell_type": "code",
   "execution_count": 10,
   "id": "b43b47b5-aea1-41e6-87dd-29e10f638a6e",
   "metadata": {
    "ExecuteTime": {
     "end_time": "2021-06-21T16:25:56.456692Z",
     "start_time": "2021-06-21T16:25:56.443300Z"
    }
   },
   "outputs": [
    {
     "data": {
      "text/plain": [
       "True"
      ]
     },
     "execution_count": 10,
     "metadata": {},
     "output_type": "execute_result"
    }
   ],
   "source": [
    "#checking any duplicates for Lead Number\n",
    "sum(lead.duplicated(subset = 'Lead Number')) == 0"
   ]
  },
  {
   "cell_type": "code",
   "execution_count": 11,
   "id": "26d7449a-5d45-49d5-bf09-9871b78d6e9b",
   "metadata": {
    "ExecuteTime": {
     "end_time": "2021-06-21T16:25:56.487488Z",
     "start_time": "2021-06-21T16:25:56.458179Z"
    }
   },
   "outputs": [
    {
     "data": {
      "text/html": [
       "<div>\n",
       "<style scoped>\n",
       "    .dataframe tbody tr th:only-of-type {\n",
       "        vertical-align: middle;\n",
       "    }\n",
       "\n",
       "    .dataframe tbody tr th {\n",
       "        vertical-align: top;\n",
       "    }\n",
       "\n",
       "    .dataframe thead th {\n",
       "        text-align: right;\n",
       "    }\n",
       "</style>\n",
       "<table border=\"1\" class=\"dataframe\">\n",
       "  <thead>\n",
       "    <tr style=\"text-align: right;\">\n",
       "      <th></th>\n",
       "      <th>Lead Origin</th>\n",
       "      <th>Lead Source</th>\n",
       "      <th>Do Not Email</th>\n",
       "      <th>Do Not Call</th>\n",
       "      <th>Converted</th>\n",
       "      <th>TotalVisits</th>\n",
       "      <th>Total Time Spent on Website</th>\n",
       "      <th>Page Views Per Visit</th>\n",
       "      <th>Last Activity</th>\n",
       "      <th>Country</th>\n",
       "      <th>Specialization</th>\n",
       "      <th>How did you hear about X Education</th>\n",
       "      <th>What is your current occupation</th>\n",
       "      <th>What matters most to you in choosing a course</th>\n",
       "      <th>Search</th>\n",
       "      <th>Magazine</th>\n",
       "      <th>Newspaper Article</th>\n",
       "      <th>X Education Forums</th>\n",
       "      <th>Newspaper</th>\n",
       "      <th>Digital Advertisement</th>\n",
       "      <th>Through Recommendations</th>\n",
       "      <th>Receive More Updates About Our Courses</th>\n",
       "      <th>Tags</th>\n",
       "      <th>Lead Quality</th>\n",
       "      <th>Update me on Supply Chain Content</th>\n",
       "      <th>Get updates on DM Content</th>\n",
       "      <th>Lead Profile</th>\n",
       "      <th>City</th>\n",
       "      <th>Asymmetrique Activity Index</th>\n",
       "      <th>Asymmetrique Profile Index</th>\n",
       "      <th>Asymmetrique Activity Score</th>\n",
       "      <th>Asymmetrique Profile Score</th>\n",
       "      <th>I agree to pay the amount through cheque</th>\n",
       "      <th>A free copy of Mastering The Interview</th>\n",
       "      <th>Last Notable Activity</th>\n",
       "    </tr>\n",
       "  </thead>\n",
       "  <tbody>\n",
       "    <tr>\n",
       "      <th>0</th>\n",
       "      <td>API</td>\n",
       "      <td>Olark Chat</td>\n",
       "      <td>No</td>\n",
       "      <td>No</td>\n",
       "      <td>0</td>\n",
       "      <td>0.0</td>\n",
       "      <td>0</td>\n",
       "      <td>0.0</td>\n",
       "      <td>Page Visited on Website</td>\n",
       "      <td>NaN</td>\n",
       "      <td>Select</td>\n",
       "      <td>Select</td>\n",
       "      <td>Unemployed</td>\n",
       "      <td>Better Career Prospects</td>\n",
       "      <td>No</td>\n",
       "      <td>No</td>\n",
       "      <td>No</td>\n",
       "      <td>No</td>\n",
       "      <td>No</td>\n",
       "      <td>No</td>\n",
       "      <td>No</td>\n",
       "      <td>No</td>\n",
       "      <td>Interested in other courses</td>\n",
       "      <td>Low in Relevance</td>\n",
       "      <td>No</td>\n",
       "      <td>No</td>\n",
       "      <td>Select</td>\n",
       "      <td>Select</td>\n",
       "      <td>02.Medium</td>\n",
       "      <td>02.Medium</td>\n",
       "      <td>15.0</td>\n",
       "      <td>15.0</td>\n",
       "      <td>No</td>\n",
       "      <td>No</td>\n",
       "      <td>Modified</td>\n",
       "    </tr>\n",
       "    <tr>\n",
       "      <th>1</th>\n",
       "      <td>API</td>\n",
       "      <td>Organic Search</td>\n",
       "      <td>No</td>\n",
       "      <td>No</td>\n",
       "      <td>0</td>\n",
       "      <td>5.0</td>\n",
       "      <td>674</td>\n",
       "      <td>2.5</td>\n",
       "      <td>Email Opened</td>\n",
       "      <td>India</td>\n",
       "      <td>Select</td>\n",
       "      <td>Select</td>\n",
       "      <td>Unemployed</td>\n",
       "      <td>Better Career Prospects</td>\n",
       "      <td>No</td>\n",
       "      <td>No</td>\n",
       "      <td>No</td>\n",
       "      <td>No</td>\n",
       "      <td>No</td>\n",
       "      <td>No</td>\n",
       "      <td>No</td>\n",
       "      <td>No</td>\n",
       "      <td>Ringing</td>\n",
       "      <td>NaN</td>\n",
       "      <td>No</td>\n",
       "      <td>No</td>\n",
       "      <td>Select</td>\n",
       "      <td>Select</td>\n",
       "      <td>02.Medium</td>\n",
       "      <td>02.Medium</td>\n",
       "      <td>15.0</td>\n",
       "      <td>15.0</td>\n",
       "      <td>No</td>\n",
       "      <td>No</td>\n",
       "      <td>Email Opened</td>\n",
       "    </tr>\n",
       "    <tr>\n",
       "      <th>2</th>\n",
       "      <td>Landing Page Submission</td>\n",
       "      <td>Direct Traffic</td>\n",
       "      <td>No</td>\n",
       "      <td>No</td>\n",
       "      <td>1</td>\n",
       "      <td>2.0</td>\n",
       "      <td>1532</td>\n",
       "      <td>2.0</td>\n",
       "      <td>Email Opened</td>\n",
       "      <td>India</td>\n",
       "      <td>Business Administration</td>\n",
       "      <td>Select</td>\n",
       "      <td>Student</td>\n",
       "      <td>Better Career Prospects</td>\n",
       "      <td>No</td>\n",
       "      <td>No</td>\n",
       "      <td>No</td>\n",
       "      <td>No</td>\n",
       "      <td>No</td>\n",
       "      <td>No</td>\n",
       "      <td>No</td>\n",
       "      <td>No</td>\n",
       "      <td>Will revert after reading the email</td>\n",
       "      <td>Might be</td>\n",
       "      <td>No</td>\n",
       "      <td>No</td>\n",
       "      <td>Potential Lead</td>\n",
       "      <td>Mumbai</td>\n",
       "      <td>02.Medium</td>\n",
       "      <td>01.High</td>\n",
       "      <td>14.0</td>\n",
       "      <td>20.0</td>\n",
       "      <td>No</td>\n",
       "      <td>Yes</td>\n",
       "      <td>Email Opened</td>\n",
       "    </tr>\n",
       "    <tr>\n",
       "      <th>3</th>\n",
       "      <td>Landing Page Submission</td>\n",
       "      <td>Direct Traffic</td>\n",
       "      <td>No</td>\n",
       "      <td>No</td>\n",
       "      <td>0</td>\n",
       "      <td>1.0</td>\n",
       "      <td>305</td>\n",
       "      <td>1.0</td>\n",
       "      <td>Unreachable</td>\n",
       "      <td>India</td>\n",
       "      <td>Media and Advertising</td>\n",
       "      <td>Word Of Mouth</td>\n",
       "      <td>Unemployed</td>\n",
       "      <td>Better Career Prospects</td>\n",
       "      <td>No</td>\n",
       "      <td>No</td>\n",
       "      <td>No</td>\n",
       "      <td>No</td>\n",
       "      <td>No</td>\n",
       "      <td>No</td>\n",
       "      <td>No</td>\n",
       "      <td>No</td>\n",
       "      <td>Ringing</td>\n",
       "      <td>Not Sure</td>\n",
       "      <td>No</td>\n",
       "      <td>No</td>\n",
       "      <td>Select</td>\n",
       "      <td>Mumbai</td>\n",
       "      <td>02.Medium</td>\n",
       "      <td>01.High</td>\n",
       "      <td>13.0</td>\n",
       "      <td>17.0</td>\n",
       "      <td>No</td>\n",
       "      <td>No</td>\n",
       "      <td>Modified</td>\n",
       "    </tr>\n",
       "    <tr>\n",
       "      <th>4</th>\n",
       "      <td>Landing Page Submission</td>\n",
       "      <td>Google</td>\n",
       "      <td>No</td>\n",
       "      <td>No</td>\n",
       "      <td>1</td>\n",
       "      <td>2.0</td>\n",
       "      <td>1428</td>\n",
       "      <td>1.0</td>\n",
       "      <td>Converted to Lead</td>\n",
       "      <td>India</td>\n",
       "      <td>Select</td>\n",
       "      <td>Other</td>\n",
       "      <td>Unemployed</td>\n",
       "      <td>Better Career Prospects</td>\n",
       "      <td>No</td>\n",
       "      <td>No</td>\n",
       "      <td>No</td>\n",
       "      <td>No</td>\n",
       "      <td>No</td>\n",
       "      <td>No</td>\n",
       "      <td>No</td>\n",
       "      <td>No</td>\n",
       "      <td>Will revert after reading the email</td>\n",
       "      <td>Might be</td>\n",
       "      <td>No</td>\n",
       "      <td>No</td>\n",
       "      <td>Select</td>\n",
       "      <td>Mumbai</td>\n",
       "      <td>02.Medium</td>\n",
       "      <td>01.High</td>\n",
       "      <td>15.0</td>\n",
       "      <td>18.0</td>\n",
       "      <td>No</td>\n",
       "      <td>No</td>\n",
       "      <td>Modified</td>\n",
       "    </tr>\n",
       "  </tbody>\n",
       "</table>\n",
       "</div>"
      ],
      "text/plain": [
       "               Lead Origin     Lead Source Do Not Email Do Not Call  \\\n",
       "0                      API      Olark Chat           No          No   \n",
       "1                      API  Organic Search           No          No   \n",
       "2  Landing Page Submission  Direct Traffic           No          No   \n",
       "3  Landing Page Submission  Direct Traffic           No          No   \n",
       "4  Landing Page Submission          Google           No          No   \n",
       "\n",
       "   Converted  TotalVisits  Total Time Spent on Website  Page Views Per Visit  \\\n",
       "0          0          0.0                            0                   0.0   \n",
       "1          0          5.0                          674                   2.5   \n",
       "2          1          2.0                         1532                   2.0   \n",
       "3          0          1.0                          305                   1.0   \n",
       "4          1          2.0                         1428                   1.0   \n",
       "\n",
       "             Last Activity Country           Specialization  \\\n",
       "0  Page Visited on Website     NaN                   Select   \n",
       "1             Email Opened   India                   Select   \n",
       "2             Email Opened   India  Business Administration   \n",
       "3              Unreachable   India    Media and Advertising   \n",
       "4        Converted to Lead   India                   Select   \n",
       "\n",
       "  How did you hear about X Education What is your current occupation  \\\n",
       "0                             Select                      Unemployed   \n",
       "1                             Select                      Unemployed   \n",
       "2                             Select                         Student   \n",
       "3                      Word Of Mouth                      Unemployed   \n",
       "4                              Other                      Unemployed   \n",
       "\n",
       "  What matters most to you in choosing a course Search Magazine  \\\n",
       "0                       Better Career Prospects     No       No   \n",
       "1                       Better Career Prospects     No       No   \n",
       "2                       Better Career Prospects     No       No   \n",
       "3                       Better Career Prospects     No       No   \n",
       "4                       Better Career Prospects     No       No   \n",
       "\n",
       "  Newspaper Article X Education Forums Newspaper Digital Advertisement  \\\n",
       "0                No                 No        No                    No   \n",
       "1                No                 No        No                    No   \n",
       "2                No                 No        No                    No   \n",
       "3                No                 No        No                    No   \n",
       "4                No                 No        No                    No   \n",
       "\n",
       "  Through Recommendations Receive More Updates About Our Courses  \\\n",
       "0                      No                                     No   \n",
       "1                      No                                     No   \n",
       "2                      No                                     No   \n",
       "3                      No                                     No   \n",
       "4                      No                                     No   \n",
       "\n",
       "                                  Tags      Lead Quality  \\\n",
       "0          Interested in other courses  Low in Relevance   \n",
       "1                              Ringing               NaN   \n",
       "2  Will revert after reading the email          Might be   \n",
       "3                              Ringing          Not Sure   \n",
       "4  Will revert after reading the email          Might be   \n",
       "\n",
       "  Update me on Supply Chain Content Get updates on DM Content    Lead Profile  \\\n",
       "0                                No                        No          Select   \n",
       "1                                No                        No          Select   \n",
       "2                                No                        No  Potential Lead   \n",
       "3                                No                        No          Select   \n",
       "4                                No                        No          Select   \n",
       "\n",
       "     City Asymmetrique Activity Index Asymmetrique Profile Index  \\\n",
       "0  Select                   02.Medium                  02.Medium   \n",
       "1  Select                   02.Medium                  02.Medium   \n",
       "2  Mumbai                   02.Medium                    01.High   \n",
       "3  Mumbai                   02.Medium                    01.High   \n",
       "4  Mumbai                   02.Medium                    01.High   \n",
       "\n",
       "   Asymmetrique Activity Score  Asymmetrique Profile Score  \\\n",
       "0                         15.0                        15.0   \n",
       "1                         15.0                        15.0   \n",
       "2                         14.0                        20.0   \n",
       "3                         13.0                        17.0   \n",
       "4                         15.0                        18.0   \n",
       "\n",
       "  I agree to pay the amount through cheque  \\\n",
       "0                                       No   \n",
       "1                                       No   \n",
       "2                                       No   \n",
       "3                                       No   \n",
       "4                                       No   \n",
       "\n",
       "  A free copy of Mastering The Interview Last Notable Activity  \n",
       "0                                     No              Modified  \n",
       "1                                     No          Email Opened  \n",
       "2                                    Yes          Email Opened  \n",
       "3                                     No              Modified  \n",
       "4                                     No              Modified  "
      ]
     },
     "execution_count": 11,
     "metadata": {},
     "output_type": "execute_result"
    }
   ],
   "source": [
    "#dropping Prospect Id and Lead Number as they both are Ids and useless for the analysis\n",
    "lead.drop(columns=['Prospect ID', 'Lead Number'], axis=1, inplace=True)\n",
    "lead.head()"
   ]
  },
  {
   "cell_type": "code",
   "execution_count": 12,
   "id": "9d2e5af8-da78-4a84-9178-28a6362bb8e6",
   "metadata": {
    "ExecuteTime": {
     "end_time": "2021-06-21T16:25:56.502820Z",
     "start_time": "2021-06-21T16:25:56.488931Z"
    }
   },
   "outputs": [
    {
     "data": {
      "text/plain": [
       "(9240, 35)"
      ]
     },
     "execution_count": 12,
     "metadata": {},
     "output_type": "execute_result"
    }
   ],
   "source": [
    "lead.shape"
   ]
  },
  {
   "cell_type": "code",
   "execution_count": 13,
   "id": "e05cd146-213b-4b25-81a0-ef3d98b2c27d",
   "metadata": {
    "ExecuteTime": {
     "end_time": "2021-06-21T16:25:56.518195Z",
     "start_time": "2021-06-21T16:25:56.503811Z"
    }
   },
   "outputs": [],
   "source": [
    "#replacing the 'Select' value with NaN as it is similar to null value as people has not choose any option\n",
    "lead.replace('Select', np.nan, inplace=True)"
   ]
  },
  {
   "cell_type": "code",
   "execution_count": 14,
   "id": "4504112b",
   "metadata": {
    "ExecuteTime": {
     "end_time": "2021-06-21T16:25:56.549000Z",
     "start_time": "2021-06-21T16:25:56.519683Z"
    }
   },
   "outputs": [
    {
     "data": {
      "text/plain": [
       "Lead Origin                                         0\n",
       "Lead Source                                        36\n",
       "Do Not Email                                        0\n",
       "Do Not Call                                         0\n",
       "Converted                                           0\n",
       "TotalVisits                                       137\n",
       "Total Time Spent on Website                         0\n",
       "Page Views Per Visit                              137\n",
       "Last Activity                                     103\n",
       "Country                                          2461\n",
       "Specialization                                   3380\n",
       "How did you hear about X Education               7250\n",
       "What is your current occupation                  2690\n",
       "What matters most to you in choosing a course    2709\n",
       "Search                                              0\n",
       "Magazine                                            0\n",
       "Newspaper Article                                   0\n",
       "X Education Forums                                  0\n",
       "Newspaper                                           0\n",
       "Digital Advertisement                               0\n",
       "Through Recommendations                             0\n",
       "Receive More Updates About Our Courses              0\n",
       "Tags                                             3353\n",
       "Lead Quality                                     4767\n",
       "Update me on Supply Chain Content                   0\n",
       "Get updates on DM Content                           0\n",
       "Lead Profile                                     6855\n",
       "City                                             3669\n",
       "Asymmetrique Activity Index                      4218\n",
       "Asymmetrique Profile Index                       4218\n",
       "Asymmetrique Activity Score                      4218\n",
       "Asymmetrique Profile Score                       4218\n",
       "I agree to pay the amount through cheque            0\n",
       "A free copy of Mastering The Interview              0\n",
       "Last Notable Activity                               0\n",
       "dtype: int64"
      ]
     },
     "execution_count": 14,
     "metadata": {},
     "output_type": "execute_result"
    }
   ],
   "source": [
    "#checking null values in the data\n",
    "lead.isnull().sum()"
   ]
  },
  {
   "cell_type": "code",
   "execution_count": 15,
   "id": "34f6c398",
   "metadata": {
    "ExecuteTime": {
     "end_time": "2021-06-21T16:25:56.579749Z",
     "start_time": "2021-06-21T16:25:56.549940Z"
    }
   },
   "outputs": [
    {
     "data": {
      "text/plain": [
       "Lead Origin                                       0.00\n",
       "Lead Source                                       0.39\n",
       "Do Not Email                                      0.00\n",
       "Do Not Call                                       0.00\n",
       "Converted                                         0.00\n",
       "TotalVisits                                       1.48\n",
       "Total Time Spent on Website                       0.00\n",
       "Page Views Per Visit                              1.48\n",
       "Last Activity                                     1.11\n",
       "Country                                          26.63\n",
       "Specialization                                   36.58\n",
       "How did you hear about X Education               78.46\n",
       "What is your current occupation                  29.11\n",
       "What matters most to you in choosing a course    29.32\n",
       "Search                                            0.00\n",
       "Magazine                                          0.00\n",
       "Newspaper Article                                 0.00\n",
       "X Education Forums                                0.00\n",
       "Newspaper                                         0.00\n",
       "Digital Advertisement                             0.00\n",
       "Through Recommendations                           0.00\n",
       "Receive More Updates About Our Courses            0.00\n",
       "Tags                                             36.29\n",
       "Lead Quality                                     51.59\n",
       "Update me on Supply Chain Content                 0.00\n",
       "Get updates on DM Content                         0.00\n",
       "Lead Profile                                     74.19\n",
       "City                                             39.71\n",
       "Asymmetrique Activity Index                      45.65\n",
       "Asymmetrique Profile Index                       45.65\n",
       "Asymmetrique Activity Score                      45.65\n",
       "Asymmetrique Profile Score                       45.65\n",
       "I agree to pay the amount through cheque          0.00\n",
       "A free copy of Mastering The Interview            0.00\n",
       "Last Notable Activity                             0.00\n",
       "dtype: float64"
      ]
     },
     "execution_count": 15,
     "metadata": {},
     "output_type": "execute_result"
    }
   ],
   "source": [
    "#calculating the null values in ratio with total count \n",
    "round(lead.isnull().sum()/len(lead.index)*100, 2)"
   ]
  },
  {
   "cell_type": "code",
   "execution_count": 16,
   "id": "8d730808",
   "metadata": {
    "ExecuteTime": {
     "end_time": "2021-06-21T16:25:56.610489Z",
     "start_time": "2021-06-21T16:25:56.580692Z"
    }
   },
   "outputs": [],
   "source": [
    "# droping the columns having more than 70% null values\n",
    "lead.drop(columns=lead.loc[:,list((lead.isnull().sum()/len(lead.index)*100)>70)].columns, axis=1, inplace=True)"
   ]
  },
  {
   "cell_type": "code",
   "execution_count": 17,
   "id": "ffcbdae5",
   "metadata": {
    "ExecuteTime": {
     "end_time": "2021-06-21T16:25:56.625828Z",
     "start_time": "2021-06-21T16:25:56.611444Z"
    }
   },
   "outputs": [
    {
     "data": {
      "text/plain": [
       "Lead Origin                                       0.00\n",
       "Lead Source                                       0.39\n",
       "Do Not Email                                      0.00\n",
       "Do Not Call                                       0.00\n",
       "Converted                                         0.00\n",
       "TotalVisits                                       1.48\n",
       "Total Time Spent on Website                       0.00\n",
       "Page Views Per Visit                              1.48\n",
       "Last Activity                                     1.11\n",
       "Country                                          26.63\n",
       "Specialization                                   36.58\n",
       "What is your current occupation                  29.11\n",
       "What matters most to you in choosing a course    29.32\n",
       "Search                                            0.00\n",
       "Magazine                                          0.00\n",
       "Newspaper Article                                 0.00\n",
       "X Education Forums                                0.00\n",
       "Newspaper                                         0.00\n",
       "Digital Advertisement                             0.00\n",
       "Through Recommendations                           0.00\n",
       "Receive More Updates About Our Courses            0.00\n",
       "Tags                                             36.29\n",
       "Lead Quality                                     51.59\n",
       "Update me on Supply Chain Content                 0.00\n",
       "Get updates on DM Content                         0.00\n",
       "City                                             39.71\n",
       "Asymmetrique Activity Index                      45.65\n",
       "Asymmetrique Profile Index                       45.65\n",
       "Asymmetrique Activity Score                      45.65\n",
       "Asymmetrique Profile Score                       45.65\n",
       "I agree to pay the amount through cheque          0.00\n",
       "A free copy of Mastering The Interview            0.00\n",
       "Last Notable Activity                             0.00\n",
       "dtype: float64"
      ]
     },
     "execution_count": 17,
     "metadata": {},
     "output_type": "execute_result"
    }
   ],
   "source": [
    "#again checking the nulls into column\n",
    "round(lead.isnull().sum()/len(lead.index)*100, 2)"
   ]
  },
  {
   "cell_type": "markdown",
   "id": "6d88d32e",
   "metadata": {},
   "source": [
    "## Checking each columns for nulls and treating it."
   ]
  },
  {
   "cell_type": "markdown",
   "id": "37ee425f",
   "metadata": {},
   "source": [
    "### Lead Source"
   ]
  },
  {
   "cell_type": "code",
   "execution_count": 18,
   "id": "d0f6e7ea",
   "metadata": {
    "ExecuteTime": {
     "end_time": "2021-06-21T16:25:56.641203Z",
     "start_time": "2021-06-21T16:25:56.626820Z"
    }
   },
   "outputs": [
    {
     "data": {
      "text/plain": [
       "Google               31.04\n",
       "Direct Traffic       27.52\n",
       "Olark Chat           18.99\n",
       "Organic Search       12.49\n",
       "Reference             5.78\n",
       "Welingak Website      1.54\n",
       "Referral Sites        1.35\n",
       "Facebook              0.60\n",
       "NaN                   0.39\n",
       "bing                  0.06\n",
       "google                0.05\n",
       "Click2call            0.04\n",
       "Live Chat             0.02\n",
       "Press_Release         0.02\n",
       "Social Media          0.02\n",
       "welearnblog_Home      0.01\n",
       "NC_EDM                0.01\n",
       "WeLearn               0.01\n",
       "youtubechannel        0.01\n",
       "blog                  0.01\n",
       "Pay per Click Ads     0.01\n",
       "testone               0.01\n",
       "Name: Lead Source, dtype: float64"
      ]
     },
     "execution_count": 18,
     "metadata": {},
     "output_type": "execute_result"
    }
   ],
   "source": [
    "#checking nulls for each Lead Source\n",
    "round(lead[\"Lead Source\"].value_counts(dropna=False, normalize=True)*100,2)"
   ]
  },
  {
   "cell_type": "code",
   "execution_count": 19,
   "id": "e89c14ee",
   "metadata": {
    "ExecuteTime": {
     "end_time": "2021-06-21T16:25:56.656580Z",
     "start_time": "2021-06-21T16:25:56.642196Z"
    }
   },
   "outputs": [],
   "source": [
    "#As Nan are less than one percent therfore dropping Nan\n",
    "lead = lead[~(lead['Lead Source'].isnull())]"
   ]
  },
  {
   "cell_type": "code",
   "execution_count": 20,
   "id": "90597f54",
   "metadata": {
    "ExecuteTime": {
     "end_time": "2021-06-21T16:25:56.671956Z",
     "start_time": "2021-06-21T16:25:56.658068Z"
    }
   },
   "outputs": [
    {
     "data": {
      "text/plain": [
       "Google               31.21\n",
       "Direct Traffic       27.63\n",
       "Olark Chat           19.07\n",
       "Organic Search       12.54\n",
       "Reference             5.80\n",
       "Welingak Website      1.54\n",
       "Referral Sites        1.36\n",
       "Facebook              0.60\n",
       "bing                  0.07\n",
       "Click2call            0.04\n",
       "Social Media          0.02\n",
       "Live Chat             0.02\n",
       "Press_Release         0.02\n",
       "welearnblog_Home      0.01\n",
       "NC_EDM                0.01\n",
       "WeLearn               0.01\n",
       "youtubechannel        0.01\n",
       "blog                  0.01\n",
       "Pay per Click Ads     0.01\n",
       "testone               0.01\n",
       "Name: Lead Source, dtype: float64"
      ]
     },
     "execution_count": 20,
     "metadata": {},
     "output_type": "execute_result"
    }
   ],
   "source": [
    "#replacing google with Google\n",
    "lead[\"Lead Source\"].replace('google', 'Google', inplace=True)\n",
    "round(lead[\"Lead Source\"].value_counts(dropna=False, normalize=True)*100,2)"
   ]
  },
  {
   "cell_type": "code",
   "execution_count": 21,
   "id": "1fa4c4d2",
   "metadata": {
    "ExecuteTime": {
     "end_time": "2021-06-21T16:25:56.687332Z",
     "start_time": "2021-06-21T16:25:56.672948Z"
    }
   },
   "outputs": [],
   "source": [
    "#replacing the levels having less than 5 percent into others\n",
    "lead[\"Lead Source\"].replace(['Welingak Website', 'Referral Sites', 'Facebook', 'bing'                  \n",
    ",'Click2call'            \n",
    ",'Live Chat'           \n",
    ",'Press_Release'\n",
    ",'Social Media'         \n",
    ",'NC_EDM'                \n",
    ",'WeLearn'               \n",
    ",'welearnblog_Home'\n",
    ",'Pay per Click Ads'     \n",
    ",'blog'                  \n",
    ",'youtubechannel'        \n",
    ",'testone'], 'Others', inplace=True)"
   ]
  },
  {
   "cell_type": "code",
   "execution_count": 22,
   "id": "cc02a54c",
   "metadata": {
    "ExecuteTime": {
     "end_time": "2021-06-21T16:25:56.856135Z",
     "start_time": "2021-06-21T16:25:56.689315Z"
    }
   },
   "outputs": [
    {
     "data": {
      "image/png": "[encoded data removed]",
      "text/plain": [
       "<Figure size 432x288 with 1 Axes>"
      ]
     },
     "metadata": {
      "needs_background": "light"
     },
     "output_type": "display_data"
    }
   ],
   "source": [
    "#Visualizing the Lead Source column w.r.t to Conerted\n",
    "sns.countplot(lead[\"Lead Source\"], hue=lead.Converted)\n",
    "plt.xticks(rotation=90)\n",
    "plt.show()"
   ]
  },
  {
   "cell_type": "markdown",
   "id": "5ebac9a6",
   "metadata": {},
   "source": [
    "Insights:\n",
    "- Highest number of people which are converted from Google\n",
    "- Converted to NOT converted ratio is highest for Reference, which means that there are high chances of converting when the leads are sourced from reference"
   ]
  },
  {
   "cell_type": "markdown",
   "id": "026b971d",
   "metadata": {},
   "source": [
    "### Dropping Rows where TotalVisits and Page Views Per Visit are null as Null perecentage is very low"
   ]
  },
  {
   "cell_type": "code",
   "execution_count": 23,
   "id": "e9e1eb15",
   "metadata": {
    "ExecuteTime": {
     "end_time": "2021-06-21T16:25:56.871515Z",
     "start_time": "2021-06-21T16:25:56.857122Z"
    }
   },
   "outputs": [],
   "source": [
    "#only 1.48% value are nulls, therfore dropping rows\n",
    "lead = lead[~(lead['TotalVisits'].isnull())]"
   ]
  },
  {
   "cell_type": "code",
   "execution_count": 24,
   "id": "280c6501",
   "metadata": {
    "ExecuteTime": {
     "end_time": "2021-06-21T16:25:56.886851Z",
     "start_time": "2021-06-21T16:25:56.876933Z"
    }
   },
   "outputs": [],
   "source": [
    "#only 1.48% value are nulls, therfore dropping rows\n",
    "lead = lead[~(lead['Page Views Per Visit'].isnull())]"
   ]
  },
  {
   "cell_type": "markdown",
   "id": "4b6edf3a",
   "metadata": {},
   "source": [
    "### Last Activity"
   ]
  },
  {
   "cell_type": "code",
   "execution_count": 25,
   "id": "99be45e5",
   "metadata": {
    "ExecuteTime": {
     "end_time": "2021-06-21T16:25:56.902226Z",
     "start_time": "2021-06-21T16:25:56.889330Z"
    }
   },
   "outputs": [
    {
     "data": {
      "text/plain": [
       "Email Opened                    37.82\n",
       "SMS Sent                        29.93\n",
       "Olark Chat Conversation         10.71\n",
       "Page Visited on Website          7.05\n",
       "Converted to Lead                4.72\n",
       "Email Bounced                    3.44\n",
       "Email Link Clicked               2.94\n",
       "Form Submitted on Website        1.28\n",
       "Unreachable                      0.99\n",
       "Unsubscribed                     0.65\n",
       "Had a Phone Conversation         0.28\n",
       "View in browser link Clicked     0.07\n",
       "Approached upfront               0.06\n",
       "Email Marked Spam                0.02\n",
       "Email Received                   0.02\n",
       "Visited Booth in Tradeshow       0.01\n",
       "Resubscribed to emails           0.01\n",
       "Name: Last Activity, dtype: float64"
      ]
     },
     "execution_count": 25,
     "metadata": {},
     "output_type": "execute_result"
    }
   ],
   "source": [
    "round(lead[\"Last Activity\"].value_counts(dropna=False, normalize=True)*100,2)"
   ]
  },
  {
   "cell_type": "markdown",
   "id": "29b8c4c5",
   "metadata": {},
   "source": [
    " - Here 'Email Bounced', 'Unreachable', 'Unsubscribed', 'Email Marked Spam' falls under one category, therefore renaming all this categories to 'Unreachable'"
   ]
  },
  {
   "cell_type": "code",
   "execution_count": 26,
   "id": "389b02eb",
   "metadata": {
    "ExecuteTime": {
     "end_time": "2021-06-21T16:25:56.917602Z",
     "start_time": "2021-06-21T16:25:56.903715Z"
    }
   },
   "outputs": [
    {
     "data": {
      "text/plain": [
       "Email Opened                    37.82\n",
       "SMS Sent                        29.93\n",
       "Olark Chat Conversation         10.71\n",
       "Page Visited on Website          7.05\n",
       "Unreachable                      5.10\n",
       "Converted to Lead                4.72\n",
       "Email Link Clicked               2.94\n",
       "Form Submitted on Website        1.28\n",
       "Had a Phone Conversation         0.28\n",
       "View in browser link Clicked     0.07\n",
       "Approached upfront               0.06\n",
       "Email Received                   0.02\n",
       "Resubscribed to emails           0.01\n",
       "Visited Booth in Tradeshow       0.01\n",
       "Name: Last Activity, dtype: float64"
      ]
     },
     "execution_count": 26,
     "metadata": {},
     "output_type": "execute_result"
    }
   ],
   "source": [
    "# replacing above columns with 'Unreachable'\n",
    "lead[\"Last Activity\"].replace(['Email Bounced', 'Unreachable', 'Unsubscribed', 'Email Marked Spam'], 'Unreachable', inplace=True)\n",
    "round(lead[\"Last Activity\"].value_counts(dropna=False, normalize=True)*100,2)"
   ]
  },
  {
   "cell_type": "code",
   "execution_count": 27,
   "id": "cd967f46",
   "metadata": {
    "ExecuteTime": {
     "end_time": "2021-06-21T16:25:56.932979Z",
     "start_time": "2021-06-21T16:25:56.918594Z"
    }
   },
   "outputs": [],
   "source": [
    "#Here replacing values having less than 4 percentage count\n",
    "lead[\"Last Activity\"].replace(['Email Link Clicked', 'Form Submitted on Website',\n",
    "                               'Had a Phone Conversation', 'View in browser link Clicked', 'Approached upfront', \n",
    "                              'Email Received', 'Visited Booth in Tradeshow', 'Resubscribed to emails',], 'Others', inplace=True)"
   ]
  },
  {
   "cell_type": "code",
   "execution_count": 28,
   "id": "95130e07",
   "metadata": {
    "ExecuteTime": {
     "end_time": "2021-06-21T16:25:57.056726Z",
     "start_time": "2021-06-21T16:25:56.933971Z"
    }
   },
   "outputs": [
    {
     "data": {
      "image/png": "[encoded data removed]",
      "text/plain": [
       "<Figure size 432x288 with 1 Axes>"
      ]
     },
     "metadata": {
      "needs_background": "light"
     },
     "output_type": "display_data"
    }
   ],
   "source": [
    "#Visualising Lead Activity w.r.t. Converted\n",
    "sns.countplot(lead[\"Last Activity\"], hue=lead.Converted)\n",
    "plt.xticks(rotation=90)\n",
    "plt.show()"
   ]
  },
  {
   "cell_type": "markdown",
   "id": "c61b3d85",
   "metadata": {},
   "source": [
    "Insights\n",
    "- SMS sent has the highest conersion rate and most number of the people got converted who were sent SMS"
   ]
  },
  {
   "cell_type": "markdown",
   "id": "97e7f8fa",
   "metadata": {},
   "source": [
    "### Country"
   ]
  },
  {
   "cell_type": "code",
   "execution_count": 29,
   "id": "d0b39f69",
   "metadata": {
    "ExecuteTime": {
     "end_time": "2021-06-21T16:25:57.071362Z",
     "start_time": "2021-06-21T16:25:57.057508Z"
    }
   },
   "outputs": [
    {
     "data": {
      "text/plain": [
       "India                   71.53\n",
       "NaN                     25.30\n",
       "United States            0.76\n",
       "United Arab Emirates     0.58\n",
       "Singapore                0.26\n",
       "Saudi Arabia             0.23\n",
       "United Kingdom           0.17\n",
       "Australia                0.14\n",
       "Qatar                    0.11\n",
       "Bahrain                  0.08\n",
       "Hong Kong                0.08\n",
       "Oman                     0.07\n",
       "France                   0.07\n",
       "unknown                  0.06\n",
       "South Africa             0.04\n",
       "Kuwait                   0.04\n",
       "Germany                  0.04\n",
       "Canada                   0.04\n",
       "Nigeria                  0.04\n",
       "Sweden                   0.03\n",
       "Asia/Pacific Region      0.02\n",
       "Uganda                   0.02\n",
       "Ghana                    0.02\n",
       "Netherlands              0.02\n",
       "Philippines              0.02\n",
       "Bangladesh               0.02\n",
       "Italy                    0.02\n",
       "Belgium                  0.02\n",
       "China                    0.02\n",
       "Switzerland              0.01\n",
       "Vietnam                  0.01\n",
       "Kenya                    0.01\n",
       "Indonesia                0.01\n",
       "Sri Lanka                0.01\n",
       "Malaysia                 0.01\n",
       "Liberia                  0.01\n",
       "Russia                   0.01\n",
       "Tanzania                 0.01\n",
       "Denmark                  0.01\n",
       "Name: Country, dtype: float64"
      ]
     },
     "execution_count": 29,
     "metadata": {},
     "output_type": "execute_result"
    }
   ],
   "source": [
    "round(lead[\"Country\"].value_counts(dropna=False, normalize=True)*100,2)"
   ]
  },
  {
   "cell_type": "code",
   "execution_count": 30,
   "id": "23650ad1",
   "metadata": {
    "ExecuteTime": {
     "end_time": "2021-06-21T16:25:57.086611Z",
     "start_time": "2021-06-21T16:25:57.072385Z"
    }
   },
   "outputs": [
    {
     "data": {
      "text/plain": [
       "India                   96.84\n",
       "United States            0.76\n",
       "United Arab Emirates     0.58\n",
       "Singapore                0.26\n",
       "Saudi Arabia             0.23\n",
       "United Kingdom           0.17\n",
       "Australia                0.14\n",
       "Qatar                    0.11\n",
       "Bahrain                  0.08\n",
       "Hong Kong                0.08\n",
       "Oman                     0.07\n",
       "France                   0.07\n",
       "unknown                  0.06\n",
       "Kuwait                   0.04\n",
       "Nigeria                  0.04\n",
       "South Africa             0.04\n",
       "Canada                   0.04\n",
       "Germany                  0.04\n",
       "Sweden                   0.03\n",
       "Belgium                  0.02\n",
       "Philippines              0.02\n",
       "China                    0.02\n",
       "Italy                    0.02\n",
       "Bangladesh               0.02\n",
       "Netherlands              0.02\n",
       "Uganda                   0.02\n",
       "Ghana                    0.02\n",
       "Asia/Pacific Region      0.02\n",
       "Malaysia                 0.01\n",
       "Tanzania                 0.01\n",
       "Denmark                  0.01\n",
       "Vietnam                  0.01\n",
       "Switzerland              0.01\n",
       "Kenya                    0.01\n",
       "Liberia                  0.01\n",
       "Sri Lanka                0.01\n",
       "Russia                   0.01\n",
       "Indonesia                0.01\n",
       "Name: Country, dtype: float64"
      ]
     },
     "execution_count": 30,
     "metadata": {},
     "output_type": "execute_result"
    }
   ],
   "source": [
    "#as the most number of value is India, thus replacing Nan with India\n",
    "lead[\"Country\"].fillna(value='India', inplace=True)\n",
    "round(lead[\"Country\"].value_counts(dropna=False, normalize=True)*100,2)"
   ]
  },
  {
   "cell_type": "markdown",
   "id": "3fa420d7",
   "metadata": {},
   "source": [
    "As the 97% values are India, therefore removing the column 'Country'"
   ]
  },
  {
   "cell_type": "code",
   "execution_count": 31,
   "id": "e3770168",
   "metadata": {
    "ExecuteTime": {
     "end_time": "2021-06-21T16:25:57.101978Z",
     "start_time": "2021-06-21T16:25:57.088054Z"
    }
   },
   "outputs": [],
   "source": [
    "lead.drop(\"Country\", axis=1, inplace=True)"
   ]
  },
  {
   "cell_type": "markdown",
   "id": "90887ca1",
   "metadata": {},
   "source": [
    "### Specialization"
   ]
  },
  {
   "cell_type": "code",
   "execution_count": 32,
   "id": "91d5d0db",
   "metadata": {
    "ExecuteTime": {
     "end_time": "2021-06-21T16:25:57.117375Z",
     "start_time": "2021-06-21T16:25:57.102991Z"
    }
   },
   "outputs": [
    {
     "data": {
      "text/plain": [
       "NaN                                  36.17\n",
       "Finance Management                   10.57\n",
       "Human Resource Management             9.22\n",
       "Marketing Management                  9.07\n",
       "Operations Management                 5.50\n",
       "Business Administration               4.40\n",
       "IT Projects Management                4.03\n",
       "Supply Chain Management               3.81\n",
       "Banking, Investment And Insurance     3.69\n",
       "Travel and Tourism                    2.23\n",
       "Media and Advertising                 2.23\n",
       "International Business                1.94\n",
       "Healthcare Management                 1.72\n",
       "E-COMMERCE                            1.22\n",
       "Hospitality Management                1.22\n",
       "Retail Management                     1.10\n",
       "Rural and Agribusiness                0.80\n",
       "E-Business                            0.63\n",
       "Services Excellence                   0.44\n",
       "Name: Specialization, dtype: float64"
      ]
     },
     "execution_count": 32,
     "metadata": {},
     "output_type": "execute_result"
    }
   ],
   "source": [
    "round(lead[\"Specialization\"].value_counts(dropna=False, normalize=True)*100,2)"
   ]
  },
  {
   "cell_type": "code",
   "execution_count": 33,
   "id": "d636110b",
   "metadata": {
    "ExecuteTime": {
     "end_time": "2021-06-21T16:25:57.132694Z",
     "start_time": "2021-06-21T16:25:57.118345Z"
    }
   },
   "outputs": [],
   "source": [
    "#We can assume that the null values as not specified as the users might not have any specialization\n",
    "lead[\"Specialization\"].fillna('Not_Specified', inplace=True)"
   ]
  },
  {
   "cell_type": "code",
   "execution_count": 34,
   "id": "6aea627c",
   "metadata": {
    "ExecuteTime": {
     "end_time": "2021-06-21T16:25:57.148070Z",
     "start_time": "2021-06-21T16:25:57.133686Z"
    }
   },
   "outputs": [
    {
     "data": {
      "text/plain": [
       "Not_Specified                        36.17\n",
       "Finance Management                   10.57\n",
       "Human Resource Management             9.22\n",
       "Marketing Management                  9.07\n",
       "Operations Management                 5.50\n",
       "Business Administration               4.40\n",
       "IT Projects Management                4.03\n",
       "Supply Chain Management               3.81\n",
       "Banking, Investment And Insurance     3.69\n",
       "Media and Advertising                 2.23\n",
       "Travel and Tourism                    2.23\n",
       "International Business                1.94\n",
       "Healthcare Management                 1.72\n",
       "E-COMMERCE                            1.22\n",
       "Hospitality Management                1.22\n",
       "Retail Management                     1.10\n",
       "Rural and Agribusiness                0.80\n",
       "E-Business                            0.63\n",
       "Services Excellence                   0.44\n",
       "Name: Specialization, dtype: float64"
      ]
     },
     "execution_count": 34,
     "metadata": {},
     "output_type": "execute_result"
    }
   ],
   "source": [
    "round(lead[\"Specialization\"].value_counts(dropna=False, normalize=True)*100,2)"
   ]
  },
  {
   "cell_type": "code",
   "execution_count": 35,
   "id": "dfd37c3c",
   "metadata": {
    "ExecuteTime": {
     "end_time": "2021-06-21T16:25:57.163491Z",
     "start_time": "2021-06-21T16:25:57.149061Z"
    }
   },
   "outputs": [],
   "source": [
    "#replacing levels having less tahn 4% count\n",
    "lead[\"Specialization\"].replace(['Supply Chain Management', 'Banking, Investment And Insurance', 'Travel and Tourism',\n",
    "                                'Media and Advertising', 'International Business', 'Healthcare Management', \n",
    "                                'E-COMMERCE','Hospitality Management', 'Retail Management', 'Rural and Agribusiness', \n",
    "                                'E-Business', 'Services Excellence'], 'Others', inplace=True)"
   ]
  },
  {
   "cell_type": "code",
   "execution_count": 36,
   "id": "365ad9a7",
   "metadata": {
    "ExecuteTime": {
     "end_time": "2021-06-21T16:25:57.301765Z",
     "start_time": "2021-06-21T16:25:57.164491Z"
    }
   },
   "outputs": [
    {
     "data": {
      "image/png": "[encoded data removed]",
      "text/plain": [
       "<Figure size 432x288 with 1 Axes>"
      ]
     },
     "metadata": {
      "needs_background": "light"
     },
     "output_type": "display_data"
    }
   ],
   "source": [
    "#visualizing the Specialization w.r.t. Converted\n",
    "sns.countplot(lead[\"Specialization\"], hue=lead.Converted)\n",
    "plt.xticks(rotation=90)\n",
    "plt.show()"
   ]
  },
  {
   "cell_type": "markdown",
   "id": "8609c929",
   "metadata": {},
   "source": [
    "Insights:\n",
    "- Not specified customers have highest not opted numbers \n",
    "- All other levels have almost same conversion rate"
   ]
  },
  {
   "cell_type": "markdown",
   "id": "12c66152",
   "metadata": {},
   "source": [
    "### What is your current occupation"
   ]
  },
  {
   "cell_type": "code",
   "execution_count": 37,
   "id": "ac3a74f2",
   "metadata": {
    "ExecuteTime": {
     "end_time": "2021-06-21T16:25:57.317139Z",
     "start_time": "2021-06-21T16:25:57.303768Z"
    }
   },
   "outputs": [
    {
     "data": {
      "text/plain": [
       "Unemployed              60.35\n",
       "NaN                     29.57\n",
       "Working Professional     7.46\n",
       "Student                  2.27\n",
       "Other                    0.17\n",
       "Housewife                0.10\n",
       "Businessman              0.09\n",
       "Name: What is your current occupation, dtype: float64"
      ]
     },
     "execution_count": 37,
     "metadata": {},
     "output_type": "execute_result"
    }
   ],
   "source": [
    "round(lead[\"What is your current occupation\"].value_counts(dropna=False, normalize=True)*100,2)"
   ]
  },
  {
   "cell_type": "code",
   "execution_count": 38,
   "id": "ba9782ae",
   "metadata": {
    "ExecuteTime": {
     "end_time": "2021-06-21T16:25:57.332482Z",
     "start_time": "2021-06-21T16:25:57.319090Z"
    }
   },
   "outputs": [],
   "source": [
    "#We can assume that most of the null values as unemployed\n",
    "lead[\"What is your current occupation\"].fillna(\"Unemployed\", inplace=True)\n",
    "lead[\"What is your current occupation\"].replace([\"Housewife\", \"Businessman\"], 'Other', inplace=True)"
   ]
  },
  {
   "cell_type": "code",
   "execution_count": 39,
   "id": "35d58ecf",
   "metadata": {
    "ExecuteTime": {
     "end_time": "2021-06-21T16:25:57.347859Z",
     "start_time": "2021-06-21T16:25:57.334467Z"
    }
   },
   "outputs": [],
   "source": [
    "# renaming What is your current occupation to Current Occupation\n",
    "lead.rename(columns={'What is your current occupation': 'Current Occupation'}, inplace=True)"
   ]
  },
  {
   "cell_type": "code",
   "execution_count": 40,
   "id": "9feb9eec",
   "metadata": {
    "ExecuteTime": {
     "end_time": "2021-06-21T16:25:57.455440Z",
     "start_time": "2021-06-21T16:25:57.349346Z"
    }
   },
   "outputs": [
    {
     "data": {
      "image/png": "[encoded data removed]",
      "text/plain": [
       "<Figure size 432x288 with 1 Axes>"
      ]
     },
     "metadata": {
      "needs_background": "light"
     },
     "output_type": "display_data"
    }
   ],
   "source": [
    "#Visualizing cuurent occupation w.r.t. Converted\n",
    "sns.countplot(lead[\"Current Occupation\"], hue=lead.Converted)\n",
    "plt.xticks(rotation=90)\n",
    "plt.show()"
   ]
  },
  {
   "cell_type": "markdown",
   "id": "fa2cdba3",
   "metadata": {},
   "source": [
    "Insights:\n",
    "- Most of the count consists of unemployed people but Working Professional have highest conversion rate."
   ]
  },
  {
   "cell_type": "markdown",
   "id": "536162f7",
   "metadata": {},
   "source": [
    "### What matters most to you in choosing a course"
   ]
  },
  {
   "cell_type": "code",
   "execution_count": 41,
   "id": "b9300415",
   "metadata": {
    "ExecuteTime": {
     "end_time": "2021-06-21T16:25:57.470777Z",
     "start_time": "2021-06-21T16:25:57.456925Z"
    }
   },
   "outputs": [
    {
     "data": {
      "text/plain": [
       "Better Career Prospects      70.20\n",
       "NaN                          29.78\n",
       "Other                         0.01\n",
       "Flexibility & Convenience     0.01\n",
       "Name: What matters most to you in choosing a course, dtype: float64"
      ]
     },
     "execution_count": 41,
     "metadata": {},
     "output_type": "execute_result"
    }
   ],
   "source": [
    "round(lead[\"What matters most to you in choosing a course\"].value_counts(dropna=False, normalize=True)*100,2)"
   ]
  },
  {
   "cell_type": "code",
   "execution_count": 42,
   "id": "6daffa0b",
   "metadata": {
    "ExecuteTime": {
     "end_time": "2021-06-21T16:25:57.486152Z",
     "start_time": "2021-06-21T16:25:57.472265Z"
    }
   },
   "outputs": [
    {
     "data": {
      "text/plain": [
       "Better Career Prospects      99.98\n",
       "Other                         0.01\n",
       "Flexibility & Convenience     0.01\n",
       "Name: What matters most to you in choosing a course, dtype: float64"
      ]
     },
     "execution_count": 42,
     "metadata": {},
     "output_type": "execute_result"
    }
   ],
   "source": [
    "#replacing the Nan with mode of the column\n",
    "lead[\"What matters most to you in choosing a course\"].fillna(\"Better Career Prospects\",inplace=True)\n",
    "round(lead[\"What matters most to you in choosing a course\"].value_counts(dropna=False, normalize=True)*100,2)"
   ]
  },
  {
   "cell_type": "code",
   "execution_count": 43,
   "id": "295dd941",
   "metadata": {
    "ExecuteTime": {
     "end_time": "2021-06-21T16:25:57.501528Z",
     "start_time": "2021-06-21T16:25:57.487144Z"
    }
   },
   "outputs": [],
   "source": [
    "#as almost all the values are Better Carre Prospedcts therefore dropping the column\n",
    "lead.drop(\"What matters most to you in choosing a course\", axis=1, inplace=True)"
   ]
  },
  {
   "cell_type": "markdown",
   "id": "4c9e6f71",
   "metadata": {},
   "source": [
    "### Tags"
   ]
  },
  {
   "cell_type": "code",
   "execution_count": 44,
   "id": "13eaa6a4",
   "metadata": {
    "ExecuteTime": {
     "end_time": "2021-06-21T16:25:57.516904Z",
     "start_time": "2021-06-21T16:25:57.503016Z"
    }
   },
   "outputs": [
    {
     "data": {
      "text/plain": [
       "NaN                                                  36.67\n",
       "Will revert after reading the email                  22.22\n",
       "Ringing                                              13.08\n",
       "Interested in other courses                           5.61\n",
       "Already a student                                     5.12\n",
       "Closed by Horizzon                                    3.32\n",
       "switched off                                          2.64\n",
       "Busy                                                  2.04\n",
       "Lost to EINS                                          1.90\n",
       "Not doing further education                           1.60\n",
       "Interested  in full time MBA                          1.28\n",
       "Graduation in progress                                1.22\n",
       "invalid number                                        0.91\n",
       "Diploma holder (Not Eligible)                         0.69\n",
       "wrong number given                                    0.52\n",
       "opp hangup                                            0.36\n",
       "number not provided                                   0.28\n",
       "in touch with EINS                                    0.13\n",
       "Lost to Others                                        0.08\n",
       "Want to take admission but has financial problems     0.07\n",
       "Still Thinking                                        0.07\n",
       "Interested in Next batch                              0.06\n",
       "In confusion whether part time or DLP                 0.06\n",
       "Lateral student                                       0.03\n",
       "Shall take in the next coming month                   0.02\n",
       "University not recognized                             0.02\n",
       "Recognition issue (DEC approval)                      0.01\n",
       "Name: Tags, dtype: float64"
      ]
     },
     "execution_count": 44,
     "metadata": {},
     "output_type": "execute_result"
    }
   ],
   "source": [
    "round(lead[\"Tags\"].value_counts(dropna=False, normalize=True)*100,2)"
   ]
  },
  {
   "cell_type": "code",
   "execution_count": 45,
   "id": "f1acec9b",
   "metadata": {
    "ExecuteTime": {
     "end_time": "2021-06-21T16:25:57.532308Z",
     "start_time": "2021-06-21T16:25:57.518393Z"
    }
   },
   "outputs": [],
   "source": [
    "#filling NaN with mode and merging the rare levels and renaming to others \n",
    "lead[\"Tags\"].fillna(\"Will revert after reading the email\", inplace=True)\n",
    "lead[\"Tags\"].replace(['Not doing further education', 'Interested  in full time MBA', 'Graduation in progress', 'invalid number',\n",
    "                     'Diploma holder (Not Eligible)', 'wrong number given', 'opp hangup', 'number not provided', \n",
    "                     'in touch with EINS', 'Lost to Others', 'Want to take admission but has financial problems'\n",
    "                     ,'Still Thinking', 'In confusion whether part time or DLP', 'Interested in Next batch', 'Lateral student',\n",
    "                     'University not recognized', 'Shall take in the next coming month', 'Recognition issue (DEC approval)'], \n",
    "                    'Others', inplace=True)"
   ]
  },
  {
   "cell_type": "code",
   "execution_count": 46,
   "id": "f9dd5697",
   "metadata": {
    "ExecuteTime": {
     "end_time": "2021-06-21T16:25:57.671296Z",
     "start_time": "2021-06-21T16:25:57.533300Z"
    }
   },
   "outputs": [
    {
     "data": {
      "image/png": "[encoded data removed]",
      "text/plain": [
       "<Figure size 432x288 with 1 Axes>"
      ]
     },
     "metadata": {
      "needs_background": "light"
     },
     "output_type": "display_data"
    }
   ],
   "source": [
    "#Visualizing the Tags w.r.t Converted\n",
    "sns.countplot(lead[\"Tags\"], hue=lead.Converted)\n",
    "plt.xticks(rotation=90)\n",
    "plt.show()"
   ]
  },
  {
   "cell_type": "markdown",
   "id": "2728f031",
   "metadata": {},
   "source": [
    "Insights:\n",
    "- Will revert after reading the email have highest count in the column\n",
    "- Closed by horizon have highest conersion rate while interested in other courses have lowest conversion rate"
   ]
  },
  {
   "cell_type": "markdown",
   "id": "719e9ca4",
   "metadata": {},
   "source": [
    "### Lead Quality"
   ]
  },
  {
   "cell_type": "code",
   "execution_count": 47,
   "id": "4a45a3cc",
   "metadata": {
    "ExecuteTime": {
     "end_time": "2021-06-21T16:25:57.685995Z",
     "start_time": "2021-06-21T16:25:57.672107Z"
    }
   },
   "outputs": [
    {
     "data": {
      "text/plain": [
       "NaN                  52.02\n",
       "Might be             16.74\n",
       "Not Sure             11.97\n",
       "Worst                 6.62\n",
       "High in Relevance     6.52\n",
       "Low in Relevance      6.13\n",
       "Name: Lead Quality, dtype: float64"
      ]
     },
     "execution_count": 47,
     "metadata": {},
     "output_type": "execute_result"
    }
   ],
   "source": [
    "round(lead[\"Lead Quality\"].value_counts(dropna=False, normalize=True)*100,2)"
   ]
  },
  {
   "cell_type": "code",
   "execution_count": 48,
   "id": "b331eaeb",
   "metadata": {
    "ExecuteTime": {
     "end_time": "2021-06-21T16:25:57.701436Z",
     "start_time": "2021-06-21T16:25:57.686954Z"
    }
   },
   "outputs": [],
   "source": [
    "#we can assume that the person has not selected any option as he is not sure, so replacing NaN by Not Sure\n",
    "lead[\"Lead Quality\"].fillna(\"Not Sure\", inplace=True)"
   ]
  },
  {
   "cell_type": "code",
   "execution_count": 49,
   "id": "edca8367",
   "metadata": {
    "ExecuteTime": {
     "end_time": "2021-06-21T16:25:57.809110Z",
     "start_time": "2021-06-21T16:25:57.702924Z"
    }
   },
   "outputs": [
    {
     "data": {
      "image/png": "[encoded data removed]",
      "text/plain": [
       "<Figure size 432x288 with 1 Axes>"
      ]
     },
     "metadata": {
      "needs_background": "light"
     },
     "output_type": "display_data"
    }
   ],
   "source": [
    "# Visualizing Lead Quality w.r.t Converted\n",
    "sns.countplot(lead[\"Lead Quality\"], hue=lead.Converted)\n",
    "plt.xticks(rotation=90)\n",
    "plt.show()"
   ]
  },
  {
   "cell_type": "markdown",
   "id": "6d16c9a4",
   "metadata": {},
   "source": [
    "Insights:\n",
    " - High in Relevance have high conversion rate\n",
    " - While people Not sure have lowest conversion rate"
   ]
  },
  {
   "cell_type": "markdown",
   "id": "9d67dc4e",
   "metadata": {},
   "source": [
    "### City"
   ]
  },
  {
   "cell_type": "code",
   "execution_count": 50,
   "id": "912aec0f",
   "metadata": {
    "ExecuteTime": {
     "end_time": "2021-06-21T16:25:57.824456Z",
     "start_time": "2021-06-21T16:25:57.810071Z"
    }
   },
   "outputs": [
    {
     "data": {
      "text/plain": [
       "NaN                            39.40\n",
       "Mumbai                         35.01\n",
       "Thane & Outskirts               8.21\n",
       "Other Cities                    7.49\n",
       "Other Cities of Maharashtra     4.92\n",
       "Other Metro Cities              4.15\n",
       "Tier II Cities                  0.82\n",
       "Name: City, dtype: float64"
      ]
     },
     "execution_count": 50,
     "metadata": {},
     "output_type": "execute_result"
    }
   ],
   "source": [
    "round(lead[\"City\"].value_counts(dropna=False, normalize=True)*100,2)"
   ]
  },
  {
   "cell_type": "code",
   "execution_count": 51,
   "id": "4e4b6d1c",
   "metadata": {
    "ExecuteTime": {
     "end_time": "2021-06-21T16:25:57.839832Z",
     "start_time": "2021-06-21T16:25:57.825448Z"
    }
   },
   "outputs": [],
   "source": [
    "# filling Nan with mode of the column\n",
    "lead[\"City\"].fillna(\"Mumbai\", inplace=True)"
   ]
  },
  {
   "cell_type": "code",
   "execution_count": 52,
   "id": "1b89e996",
   "metadata": {
    "ExecuteTime": {
     "end_time": "2021-06-21T16:25:57.962742Z",
     "start_time": "2021-06-21T16:25:57.840824Z"
    }
   },
   "outputs": [
    {
     "data": {
      "image/png": "[encoded data removed]",
      "text/plain": [
       "<Figure size 432x288 with 1 Axes>"
      ]
     },
     "metadata": {
      "needs_background": "light"
     },
     "output_type": "display_data"
    }
   ],
   "source": [
    "#visualizing the City w.r.t to Converted\n",
    "sns.countplot(lead[\"City\"], hue=lead.Converted)\n",
    "plt.xticks(rotation=90)\n",
    "plt.show()"
   ]
  },
  {
   "cell_type": "markdown",
   "id": "f8d8b92f",
   "metadata": {},
   "source": [
    "Insights:\n",
    "- Mostly all the values are Mumbai in the City column, so we can conclude that the service is mostly used in Mumbai"
   ]
  },
  {
   "cell_type": "markdown",
   "id": "771ad581",
   "metadata": {},
   "source": [
    "### Asymmetrique Activity Index"
   ]
  },
  {
   "cell_type": "code",
   "execution_count": 53,
   "id": "2c471864",
   "metadata": {
    "ExecuteTime": {
     "end_time": "2021-06-21T16:25:58.100868Z",
     "start_time": "2021-06-21T16:25:57.963726Z"
    }
   },
   "outputs": [
    {
     "data": {
      "image/png": "[encoded data removed]",
      "text/plain": [
       "<Figure size 432x288 with 1 Axes>"
      ]
     },
     "metadata": {
      "needs_background": "light"
     },
     "output_type": "display_data"
    }
   ],
   "source": [
    "sns.countplot(lead[\"Asymmetrique Activity Index\"])\n",
    "plt.show()"
   ]
  },
  {
   "cell_type": "markdown",
   "id": "ffbff257",
   "metadata": {},
   "source": [
    "### Asymmetrique Activity Score"
   ]
  },
  {
   "cell_type": "code",
   "execution_count": 54,
   "id": "4af20167",
   "metadata": {
    "ExecuteTime": {
     "end_time": "2021-06-21T16:25:58.177695Z",
     "start_time": "2021-06-21T16:25:58.101806Z"
    }
   },
   "outputs": [
    {
     "data": {
      "image/png": "[encoded data removed]",
      "text/plain": [
       "<Figure size 432x288 with 1 Axes>"
      ]
     },
     "metadata": {
      "needs_background": "light"
     },
     "output_type": "display_data"
    }
   ],
   "source": [
    "sns.boxplot(lead[\"Asymmetrique Activity Score\"])\n",
    "plt.show()"
   ]
  },
  {
   "cell_type": "markdown",
   "id": "ad20dd5d",
   "metadata": {},
   "source": [
    "### Asymmetrique Profile Index"
   ]
  },
  {
   "cell_type": "code",
   "execution_count": 55,
   "id": "80e31e24",
   "metadata": {
    "ExecuteTime": {
     "end_time": "2021-06-21T16:25:58.254613Z",
     "start_time": "2021-06-21T16:25:58.178687Z"
    }
   },
   "outputs": [
    {
     "data": {
      "image/png": "[encoded data removed]",
      "text/plain": [
       "<Figure size 432x288 with 1 Axes>"
      ]
     },
     "metadata": {
      "needs_background": "light"
     },
     "output_type": "display_data"
    }
   ],
   "source": [
    "sns.countplot(lead[\"Asymmetrique Profile Index\"])\n",
    "plt.show()"
   ]
  },
  {
   "cell_type": "markdown",
   "id": "7a4e4595",
   "metadata": {},
   "source": [
    "### Asymmetrique Profile Score"
   ]
  },
  {
   "cell_type": "code",
   "execution_count": 56,
   "id": "b10b2ed1",
   "metadata": {
    "ExecuteTime": {
     "end_time": "2021-06-21T16:25:58.316079Z",
     "start_time": "2021-06-21T16:25:58.255567Z"
    }
   },
   "outputs": [
    {
     "data": {
      "image/png": "[encoded data removed]",
      "text/plain": [
       "<Figure size 432x288 with 1 Axes>"
      ]
     },
     "metadata": {
      "needs_background": "light"
     },
     "output_type": "display_data"
    }
   ],
   "source": [
    "sns.boxplot(lead[\"Asymmetrique Profile Score\"])\n",
    "plt.show()"
   ]
  },
  {
   "cell_type": "code",
   "execution_count": 57,
   "id": "46367f04",
   "metadata": {
    "ExecuteTime": {
     "end_time": "2021-06-21T16:25:58.331455Z",
     "start_time": "2021-06-21T16:25:58.317071Z"
    }
   },
   "outputs": [],
   "source": [
    "# all the above index and score have high variation and thus we should not impute the values \n",
    "#also null values are 45% therefore dropping the columns\n",
    "lead.drop(columns=['Asymmetrique Activity Index', 'Asymmetrique Activity Score', \n",
    "                   'Asymmetrique Profile Index', 'Asymmetrique Profile Score'], axis=1, inplace=True)"
   ]
  },
  {
   "cell_type": "markdown",
   "id": "22f9a299",
   "metadata": {},
   "source": [
    "### Checking again for any nulls in the dataset"
   ]
  },
  {
   "cell_type": "code",
   "execution_count": 58,
   "id": "d110e56f",
   "metadata": {
    "ExecuteTime": {
     "end_time": "2021-06-21T16:25:58.346832Z",
     "start_time": "2021-06-21T16:25:58.332953Z"
    }
   },
   "outputs": [
    {
     "data": {
      "text/plain": [
       "Lead Origin                                 0.0\n",
       "Lead Source                                 0.0\n",
       "Do Not Email                                0.0\n",
       "Do Not Call                                 0.0\n",
       "Converted                                   0.0\n",
       "TotalVisits                                 0.0\n",
       "Total Time Spent on Website                 0.0\n",
       "Page Views Per Visit                        0.0\n",
       "Last Activity                               0.0\n",
       "Specialization                              0.0\n",
       "Current Occupation                          0.0\n",
       "Search                                      0.0\n",
       "Magazine                                    0.0\n",
       "Newspaper Article                           0.0\n",
       "X Education Forums                          0.0\n",
       "Newspaper                                   0.0\n",
       "Digital Advertisement                       0.0\n",
       "Through Recommendations                     0.0\n",
       "Receive More Updates About Our Courses      0.0\n",
       "Tags                                        0.0\n",
       "Lead Quality                                0.0\n",
       "Update me on Supply Chain Content           0.0\n",
       "Get updates on DM Content                   0.0\n",
       "City                                        0.0\n",
       "I agree to pay the amount through cheque    0.0\n",
       "A free copy of Mastering The Interview      0.0\n",
       "Last Notable Activity                       0.0\n",
       "dtype: float64"
      ]
     },
     "execution_count": 58,
     "metadata": {},
     "output_type": "execute_result"
    }
   ],
   "source": [
    "round(lead.isnull().sum()/len(lead.index)*100, 2)"
   ]
  },
  {
   "cell_type": "markdown",
   "id": "f88a9955",
   "metadata": {},
   "source": [
    "Since all the nulls are removed, then we can proceed for further analysis"
   ]
  },
  {
   "cell_type": "markdown",
   "id": "3ff3eb22",
   "metadata": {},
   "source": [
    "### Lead Origin"
   ]
  },
  {
   "cell_type": "code",
   "execution_count": 59,
   "id": "3a2fa418",
   "metadata": {
    "ExecuteTime": {
     "end_time": "2021-06-21T16:25:58.362259Z",
     "start_time": "2021-06-21T16:25:58.348319Z"
    }
   },
   "outputs": [
    {
     "data": {
      "text/plain": [
       "Landing Page Submission    53.84\n",
       "API                        39.43\n",
       "Lead Add Form               6.40\n",
       "Lead Import                 0.33\n",
       "Name: Lead Origin, dtype: float64"
      ]
     },
     "execution_count": 59,
     "metadata": {},
     "output_type": "execute_result"
    }
   ],
   "source": [
    "round(lead[\"Lead Origin\"].value_counts(dropna=False, normalize=True)*100,2)"
   ]
  },
  {
   "cell_type": "code",
   "execution_count": 60,
   "id": "96b4cfed",
   "metadata": {
    "ExecuteTime": {
     "end_time": "2021-06-21T16:25:58.377583Z",
     "start_time": "2021-06-21T16:25:58.363199Z"
    }
   },
   "outputs": [],
   "source": [
    "#removing the Lead Import level as it's count is very less\n",
    "lead = lead[~(lead[\"Lead Origin\"] == 'Lead Import')]"
   ]
  },
  {
   "cell_type": "code",
   "execution_count": 61,
   "id": "4aa929e2",
   "metadata": {
    "ExecuteTime": {
     "end_time": "2021-06-21T16:25:58.485314Z",
     "start_time": "2021-06-21T16:25:58.378575Z"
    }
   },
   "outputs": [
    {
     "data": {
      "image/png": "[encoded data removed]",
      "text/plain": [
       "<Figure size 432x288 with 1 Axes>"
      ]
     },
     "metadata": {
      "needs_background": "light"
     },
     "output_type": "display_data"
    }
   ],
   "source": [
    "# visualizing the Lead Origin w.r.t Converted\n",
    "sns.countplot(lead[\"Lead Origin\"], hue=lead.Converted)\n",
    "plt.xticks(rotation=90)\n",
    "plt.show()"
   ]
  },
  {
   "cell_type": "markdown",
   "id": "32ada6db",
   "metadata": {},
   "source": [
    "Insights:\n",
    "- Lead Add Form have highest conversion rate but the count is less\n",
    "- Therefore organization should focus more on this"
   ]
  },
  {
   "cell_type": "markdown",
   "id": "743f4c58",
   "metadata": {},
   "source": [
    "### Do Not Call"
   ]
  },
  {
   "cell_type": "code",
   "execution_count": 62,
   "id": "92f0052c",
   "metadata": {
    "ExecuteTime": {
     "end_time": "2021-06-21T16:25:58.500636Z",
     "start_time": "2021-06-21T16:25:58.486298Z"
    }
   },
   "outputs": [
    {
     "data": {
      "text/plain": [
       "No     99.98\n",
       "Yes     0.02\n",
       "Name: Do Not Call, dtype: float64"
      ]
     },
     "execution_count": 62,
     "metadata": {},
     "output_type": "execute_result"
    }
   ],
   "source": [
    "round(lead[\"Do Not Call\"].value_counts(dropna=False, normalize=True)*100,2)"
   ]
  },
  {
   "cell_type": "code",
   "execution_count": 63,
   "id": "11178251",
   "metadata": {
    "ExecuteTime": {
     "end_time": "2021-06-21T16:25:58.516012Z",
     "start_time": "2021-06-21T16:25:58.501628Z"
    }
   },
   "outputs": [],
   "source": [
    "#we can drop this column as almost all the values are No\n",
    "lead.drop(\"Do Not Call\", axis=1,inplace=True)"
   ]
  },
  {
   "cell_type": "markdown",
   "id": "519b4388",
   "metadata": {},
   "source": [
    "### Do Not Email"
   ]
  },
  {
   "cell_type": "code",
   "execution_count": 64,
   "id": "3420697a",
   "metadata": {
    "ExecuteTime": {
     "end_time": "2021-06-21T16:25:58.531388Z",
     "start_time": "2021-06-21T16:25:58.517004Z"
    }
   },
   "outputs": [
    {
     "data": {
      "text/plain": [
       "No     92.08\n",
       "Yes     7.92\n",
       "Name: Do Not Email, dtype: float64"
      ]
     },
     "execution_count": 64,
     "metadata": {},
     "output_type": "execute_result"
    }
   ],
   "source": [
    "round(lead[\"Do Not Email\"].value_counts(dropna=False, normalize=True)*100,2)"
   ]
  },
  {
   "cell_type": "code",
   "execution_count": 65,
   "id": "c20d9ac8",
   "metadata": {
    "ExecuteTime": {
     "end_time": "2021-06-21T16:25:58.623461Z",
     "start_time": "2021-06-21T16:25:58.532379Z"
    }
   },
   "outputs": [
    {
     "data": {
      "image/png": "[encoded data removed]",
      "text/plain": [
       "<Figure size 432x288 with 1 Axes>"
      ]
     },
     "metadata": {
      "needs_background": "light"
     },
     "output_type": "display_data"
    }
   ],
   "source": [
    "#visualizing the Do Not Email w.r.t Converted\n",
    "sns.countplot(lead[\"Do Not Email\"], hue=lead.Converted)\n",
    "plt.xticks(rotation=90)\n",
    "plt.show()"
   ]
  },
  {
   "cell_type": "markdown",
   "id": "f106840b",
   "metadata": {},
   "source": [
    "Insights:\n",
    "- Most of the values are No for the Do Not Email"
   ]
  },
  {
   "cell_type": "markdown",
   "id": "802e367c",
   "metadata": {},
   "source": [
    "## Treating Outliers"
   ]
  },
  {
   "cell_type": "markdown",
   "id": "7b37ae41",
   "metadata": {},
   "source": [
    "### TotalVisits"
   ]
  },
  {
   "cell_type": "code",
   "execution_count": 66,
   "id": "2af78b84",
   "metadata": {
    "ExecuteTime": {
     "end_time": "2021-06-21T16:25:58.638913Z",
     "start_time": "2021-06-21T16:25:58.624453Z"
    }
   },
   "outputs": [
    {
     "data": {
      "text/plain": [
       "count    9044.000000\n",
       "mean        3.466608\n",
       "std         4.862671\n",
       "min         0.000000\n",
       "5%          0.000000\n",
       "25%         1.000000\n",
       "50%         3.000000\n",
       "75%         5.000000\n",
       "90%         7.000000\n",
       "95%        10.000000\n",
       "99%        17.000000\n",
       "max       251.000000\n",
       "Name: TotalVisits, dtype: float64"
      ]
     },
     "execution_count": 66,
     "metadata": {},
     "output_type": "execute_result"
    }
   ],
   "source": [
    "#checking quantiles for totalVisits\n",
    "lead[\"TotalVisits\"].describe(percentiles=[0.05, 0.25, 0.5, 0.75, 0.9, 0.95, 0.99])"
   ]
  },
  {
   "cell_type": "code",
   "execution_count": 67,
   "id": "6f00dc1f",
   "metadata": {
    "ExecuteTime": {
     "end_time": "2021-06-21T16:25:58.700304Z",
     "start_time": "2021-06-21T16:25:58.639869Z"
    }
   },
   "outputs": [
    {
     "data": {
      "image/png": "[encoded data removed]",
      "text/plain": [
       "<Figure size 432x288 with 1 Axes>"
      ]
     },
     "metadata": {
      "needs_background": "light"
     },
     "output_type": "display_data"
    }
   ],
   "source": [
    "#boxplot for checking outliers\n",
    "sns.boxplot(lead[\"TotalVisits\"])\n",
    "plt.show()"
   ]
  },
  {
   "cell_type": "code",
   "execution_count": 68,
   "id": "a6526c19",
   "metadata": {
    "ExecuteTime": {
     "end_time": "2021-06-21T16:25:58.715679Z",
     "start_time": "2021-06-21T16:25:58.701296Z"
    }
   },
   "outputs": [],
   "source": [
    "#we will cap the TotalVisits at 0.95 percentile to remove the outliers\n",
    "lead = lead[(lead[\"TotalVisits\"]<=lead[\"TotalVisits\"].quantile(0.95)) & (lead[\"TotalVisits\"]>=lead[\"TotalVisits\"].quantile(0.05))]"
   ]
  },
  {
   "cell_type": "code",
   "execution_count": 69,
   "id": "81d69d9e",
   "metadata": {
    "ExecuteTime": {
     "end_time": "2021-06-21T16:25:58.792628Z",
     "start_time": "2021-06-21T16:25:58.722624Z"
    }
   },
   "outputs": [
    {
     "data": {
      "image/png": "[encoded data removed]",
      "text/plain": [
       "<Figure size 432x288 with 1 Axes>"
      ]
     },
     "metadata": {
      "needs_background": "light"
     },
     "output_type": "display_data"
    }
   ],
   "source": [
    "#again plotting boxplot for TotalVisits\n",
    "sns.boxplot(lead[\"TotalVisits\"])\n",
    "plt.show()"
   ]
  },
  {
   "cell_type": "code",
   "execution_count": 70,
   "id": "29f2c184",
   "metadata": {
    "ExecuteTime": {
     "end_time": "2021-06-21T16:25:58.869270Z",
     "start_time": "2021-06-21T16:25:58.795595Z"
    }
   },
   "outputs": [
    {
     "data": {
      "image/png": "[encoded data removed]",
      "text/plain": [
       "<Figure size 432x288 with 1 Axes>"
      ]
     },
     "metadata": {
      "needs_background": "light"
     },
     "output_type": "display_data"
    }
   ],
   "source": [
    "#plotting boxplot for TotalVisits against Converted\n",
    "sns.boxplot(data=lead, x='Converted', y='TotalVisits')\n",
    "plt.show()"
   ]
  },
  {
   "cell_type": "markdown",
   "id": "af0c8652",
   "metadata": {},
   "source": [
    "Insights:\n",
    "- People having higher visits are likely to convert more than lower visits"
   ]
  },
  {
   "cell_type": "markdown",
   "id": "84a1107e",
   "metadata": {},
   "source": [
    "### Total Time Spent on Website"
   ]
  },
  {
   "cell_type": "code",
   "execution_count": 71,
   "id": "2c007a7c",
   "metadata": {
    "ExecuteTime": {
     "end_time": "2021-06-21T16:25:58.884607Z",
     "start_time": "2021-06-21T16:25:58.870755Z"
    }
   },
   "outputs": [
    {
     "data": {
      "text/plain": [
       "count    8691.000000\n",
       "mean      474.771373\n",
       "std       542.493286\n",
       "min         0.000000\n",
       "5%          0.000000\n",
       "25%         4.000000\n",
       "50%       238.000000\n",
       "75%       901.000000\n",
       "90%      1367.000000\n",
       "95%      1551.000000\n",
       "99%      1826.300000\n",
       "max      2272.000000\n",
       "Name: Total Time Spent on Website, dtype: float64"
      ]
     },
     "execution_count": 71,
     "metadata": {},
     "output_type": "execute_result"
    }
   ],
   "source": [
    "#checking qualtiles for Total Time Spent on Website\n",
    "lead[\"Total Time Spent on Website\"].describe(percentiles=[0.05, 0.25, 0.5, 0.75, 0.9, 0.95, 0.99])"
   ]
  },
  {
   "cell_type": "code",
   "execution_count": 72,
   "id": "7a03c3f4",
   "metadata": {
    "ExecuteTime": {
     "end_time": "2021-06-21T16:25:58.946155Z",
     "start_time": "2021-06-21T16:25:58.886095Z"
    }
   },
   "outputs": [
    {
     "data": {
      "image/png": "[encoded data removed]",
      "text/plain": [
       "<Figure size 432x288 with 1 Axes>"
      ]
     },
     "metadata": {
      "needs_background": "light"
     },
     "output_type": "display_data"
    }
   ],
   "source": [
    "#plotting boxplot for Total Time Spent on Website\n",
    "sns.boxplot(lead[\"Total Time Spent on Website\"])\n",
    "plt.show()"
   ]
  },
  {
   "cell_type": "code",
   "execution_count": 73,
   "id": "f102e7f8",
   "metadata": {
    "ExecuteTime": {
     "end_time": "2021-06-21T16:25:59.022991Z",
     "start_time": "2021-06-21T16:25:58.947103Z"
    }
   },
   "outputs": [
    {
     "data": {
      "image/png": "[encoded data removed]",
      "text/plain": [
       "<Figure size 432x288 with 1 Axes>"
      ]
     },
     "metadata": {
      "needs_background": "light"
     },
     "output_type": "display_data"
    }
   ],
   "source": [
    "#plotting box plot for Total Time Spent on Website against Converted\n",
    "sns.boxplot(data=lead, x='Converted', y='Total Time Spent on Website')\n",
    "plt.show()"
   ]
  },
  {
   "cell_type": "markdown",
   "id": "cfef454a",
   "metadata": {},
   "source": [
    "Insights:\n",
    " - People spending more time on wensite have higher chances of conversion"
   ]
  },
  {
   "cell_type": "markdown",
   "id": "b900120c",
   "metadata": {},
   "source": [
    "### Page Views Per Visit"
   ]
  },
  {
   "cell_type": "code",
   "execution_count": 74,
   "id": "c90c07e3",
   "metadata": {
    "ExecuteTime": {
     "end_time": "2021-06-21T16:25:59.038367Z",
     "start_time": "2021-06-21T16:25:59.023983Z"
    }
   },
   "outputs": [
    {
     "data": {
      "text/plain": [
       "count    8691.000000\n",
       "mean        2.262534\n",
       "std         1.920298\n",
       "min         0.000000\n",
       "5%          0.000000\n",
       "25%         1.000000\n",
       "50%         2.000000\n",
       "75%         3.000000\n",
       "90%         5.000000\n",
       "95%         6.000000\n",
       "99%         8.000000\n",
       "max        10.000000\n",
       "Name: Page Views Per Visit, dtype: float64"
      ]
     },
     "execution_count": 74,
     "metadata": {},
     "output_type": "execute_result"
    }
   ],
   "source": [
    "#checking quantiles for Page Views per visit\n",
    "lead[\"Page Views Per Visit\"].describe(percentiles=[0.05, 0.25, 0.5, 0.75, 0.9, 0.95, 0.99])"
   ]
  },
  {
   "cell_type": "code",
   "execution_count": 75,
   "id": "725f441b",
   "metadata": {
    "ExecuteTime": {
     "end_time": "2021-06-21T16:25:59.099871Z",
     "start_time": "2021-06-21T16:25:59.039359Z"
    }
   },
   "outputs": [
    {
     "data": {
      "image/png": "[encoded data removed]",
      "text/plain": [
       "<Figure size 432x288 with 1 Axes>"
      ]
     },
     "metadata": {
      "needs_background": "light"
     },
     "output_type": "display_data"
    }
   ],
   "source": [
    "#box plot for Page Views per visit\n",
    "sns.boxplot(lead[\"Page Views Per Visit\"])\n",
    "plt.show()"
   ]
  },
  {
   "cell_type": "code",
   "execution_count": 76,
   "id": "d29467c2",
   "metadata": {
    "ExecuteTime": {
     "end_time": "2021-06-21T16:25:59.176699Z",
     "start_time": "2021-06-21T16:25:59.100367Z"
    }
   },
   "outputs": [
    {
     "data": {
      "image/png": "[encoded data removed]",
      "text/plain": [
       "<Figure size 432x288 with 1 Axes>"
      ]
     },
     "metadata": {
      "needs_background": "light"
     },
     "output_type": "display_data"
    }
   ],
   "source": [
    "#treating outliers for Page Views Per Visit\n",
    "lead = lead[(lead[\"Page Views Per Visit\"]<=lead[\"Page Views Per Visit\"].quantile(0.95)) & (lead[\"Page Views Per Visit\"]>=lead[\"Page Views Per Visit\"].quantile(0.05))]\n",
    "sns.boxplot(lead[\"Page Views Per Visit\"])\n",
    "plt.show()"
   ]
  },
  {
   "cell_type": "code",
   "execution_count": 77,
   "id": "ae81b01f",
   "metadata": {
    "ExecuteTime": {
     "end_time": "2021-06-21T16:25:59.253558Z",
     "start_time": "2021-06-21T16:25:59.178155Z"
    }
   },
   "outputs": [
    {
     "data": {
      "image/png": "[encoded data removed]",
      "text/plain": [
       "<Figure size 432x288 with 1 Axes>"
      ]
     },
     "metadata": {
      "needs_background": "light"
     },
     "output_type": "display_data"
    }
   ],
   "source": [
    "#boxplot for Page Views Per Visit against Converted\n",
    "sns.boxplot(data=lead, x='Converted', y='Page Views Per Visit')\n",
    "plt.show()"
   ]
  },
  {
   "cell_type": "markdown",
   "id": "687f5b68",
   "metadata": {},
   "source": [
    "Insights:\n",
    "- page Views per visit doesn't have much effect onm target variable as the median is same for both the categories"
   ]
  },
  {
   "cell_type": "markdown",
   "id": "2e935e6b",
   "metadata": {},
   "source": [
    "### Search"
   ]
  },
  {
   "cell_type": "code",
   "execution_count": 78,
   "id": "3a851f63",
   "metadata": {
    "ExecuteTime": {
     "end_time": "2021-06-21T16:25:59.268888Z",
     "start_time": "2021-06-21T16:25:59.255001Z"
    }
   },
   "outputs": [
    {
     "data": {
      "text/plain": [
       "No     99.93\n",
       "Yes     0.07\n",
       "Name: Search, dtype: float64"
      ]
     },
     "execution_count": 78,
     "metadata": {},
     "output_type": "execute_result"
    }
   ],
   "source": [
    "round(lead[\"Search\"].value_counts(dropna=False, normalize=True)*100,2)"
   ]
  },
  {
   "cell_type": "code",
   "execution_count": 79,
   "id": "37271ea2",
   "metadata": {
    "ExecuteTime": {
     "end_time": "2021-06-21T16:25:59.284152Z",
     "start_time": "2021-06-21T16:25:59.270376Z"
    }
   },
   "outputs": [],
   "source": [
    "#as almost all the values are same, we can drop this column\n",
    "lead.drop(\"Search\", axis=1,inplace=True)"
   ]
  },
  {
   "cell_type": "markdown",
   "id": "5103cbef",
   "metadata": {},
   "source": [
    "### Magazine"
   ]
  },
  {
   "cell_type": "code",
   "execution_count": 80,
   "id": "4ce7b317",
   "metadata": {
    "ExecuteTime": {
     "end_time": "2021-06-21T16:25:59.299555Z",
     "start_time": "2021-06-21T16:25:59.285627Z"
    }
   },
   "outputs": [
    {
     "data": {
      "text/plain": [
       "No    100.0\n",
       "Name: Magazine, dtype: float64"
      ]
     },
     "execution_count": 80,
     "metadata": {},
     "output_type": "execute_result"
    }
   ],
   "source": [
    "round(lead[\"Magazine\"].value_counts(dropna=False, normalize=True)*100,2)"
   ]
  },
  {
   "cell_type": "code",
   "execution_count": 81,
   "id": "5d2955ca",
   "metadata": {
    "ExecuteTime": {
     "end_time": "2021-06-21T16:25:59.314890Z",
     "start_time": "2021-06-21T16:25:59.301005Z"
    }
   },
   "outputs": [],
   "source": [
    "#Drop the magzine column  \n",
    "lead.drop(\"Magazine\", axis=1,inplace=True)"
   ]
  },
  {
   "cell_type": "markdown",
   "id": "c705087b",
   "metadata": {},
   "source": [
    "### Newspaper Article"
   ]
  },
  {
   "cell_type": "code",
   "execution_count": 82,
   "id": "175e7409",
   "metadata": {
    "ExecuteTime": {
     "end_time": "2021-06-21T16:25:59.330266Z",
     "start_time": "2021-06-21T16:25:59.315882Z"
    }
   },
   "outputs": [
    {
     "data": {
      "text/plain": [
       "No    100.0\n",
       "Name: Newspaper Article, dtype: float64"
      ]
     },
     "execution_count": 82,
     "metadata": {},
     "output_type": "execute_result"
    }
   ],
   "source": [
    "round(lead[\"Newspaper Article\"].value_counts(dropna=False, normalize=True)*100,2)"
   ]
  },
  {
   "cell_type": "code",
   "execution_count": 83,
   "id": "4d4c1e2a",
   "metadata": {
    "ExecuteTime": {
     "end_time": "2021-06-21T16:25:59.345643Z",
     "start_time": "2021-06-21T16:25:59.332251Z"
    }
   },
   "outputs": [],
   "source": [
    "#Drop the Newspaper Article column\n",
    "lead.drop(\"Newspaper Article\", axis=1,inplace=True)"
   ]
  },
  {
   "cell_type": "markdown",
   "id": "76f74823",
   "metadata": {},
   "source": [
    "### Newspaper"
   ]
  },
  {
   "cell_type": "code",
   "execution_count": 84,
   "id": "869c0e28",
   "metadata": {
    "ExecuteTime": {
     "end_time": "2021-06-21T16:25:59.361018Z",
     "start_time": "2021-06-21T16:25:59.347631Z"
    }
   },
   "outputs": [
    {
     "data": {
      "text/plain": [
       "No     99.99\n",
       "Yes     0.01\n",
       "Name: Newspaper, dtype: float64"
      ]
     },
     "execution_count": 84,
     "metadata": {},
     "output_type": "execute_result"
    }
   ],
   "source": [
    "round(lead[\"Newspaper\"].value_counts(dropna=False, normalize=True)*100,2)"
   ]
  },
  {
   "cell_type": "code",
   "execution_count": 85,
   "id": "3fd747f3",
   "metadata": {
    "ExecuteTime": {
     "end_time": "2021-06-21T16:25:59.376394Z",
     "start_time": "2021-06-21T16:25:59.362507Z"
    }
   },
   "outputs": [],
   "source": [
    "#Drop the Newspaper column\n",
    "lead.drop(\"Newspaper\", axis=1,inplace=True)"
   ]
  },
  {
   "cell_type": "markdown",
   "id": "68a39ea9",
   "metadata": {},
   "source": [
    "### X Education Forums"
   ]
  },
  {
   "cell_type": "code",
   "execution_count": 86,
   "id": "5fb495c4",
   "metadata": {
    "ExecuteTime": {
     "end_time": "2021-06-21T16:25:59.391770Z",
     "start_time": "2021-06-21T16:25:59.377883Z"
    }
   },
   "outputs": [
    {
     "data": {
      "text/plain": [
       "No    100.0\n",
       "Name: X Education Forums, dtype: float64"
      ]
     },
     "execution_count": 86,
     "metadata": {},
     "output_type": "execute_result"
    }
   ],
   "source": [
    "round(lead[\"X Education Forums\"].value_counts(dropna=False, normalize=True)*100,2)"
   ]
  },
  {
   "cell_type": "code",
   "execution_count": 87,
   "id": "ed5c5ac2",
   "metadata": {
    "ExecuteTime": {
     "end_time": "2021-06-21T16:25:59.407146Z",
     "start_time": "2021-06-21T16:25:59.393259Z"
    }
   },
   "outputs": [],
   "source": [
    "#Drop X Education Forums column\n",
    "lead.drop(\"X Education Forums\", axis=1,inplace=True)"
   ]
  },
  {
   "cell_type": "markdown",
   "id": "b72c4217",
   "metadata": {},
   "source": [
    "### Digital Advertisement"
   ]
  },
  {
   "cell_type": "code",
   "execution_count": 88,
   "id": "524779d7",
   "metadata": {
    "ExecuteTime": {
     "end_time": "2021-06-21T16:25:59.422523Z",
     "start_time": "2021-06-21T16:25:59.408635Z"
    }
   },
   "outputs": [
    {
     "data": {
      "text/plain": [
       "No     99.98\n",
       "Yes     0.02\n",
       "Name: Digital Advertisement, dtype: float64"
      ]
     },
     "execution_count": 88,
     "metadata": {},
     "output_type": "execute_result"
    }
   ],
   "source": [
    "round(lead[\"Digital Advertisement\"].value_counts(dropna=False, normalize=True)*100,2)"
   ]
  },
  {
   "cell_type": "code",
   "execution_count": 89,
   "id": "1cf2b36f",
   "metadata": {
    "ExecuteTime": {
     "end_time": "2021-06-21T16:25:59.437899Z",
     "start_time": "2021-06-21T16:25:59.424013Z"
    }
   },
   "outputs": [],
   "source": [
    "#Drop Digital Advertisement column\n",
    "lead.drop(\"Digital Advertisement\", axis=1,inplace=True)"
   ]
  },
  {
   "cell_type": "markdown",
   "id": "83ee7c97",
   "metadata": {},
   "source": [
    "### Through Recommendations"
   ]
  },
  {
   "cell_type": "code",
   "execution_count": 90,
   "id": "4b79d99e",
   "metadata": {
    "ExecuteTime": {
     "end_time": "2021-06-21T16:25:59.453274Z",
     "start_time": "2021-06-21T16:25:59.438891Z"
    }
   },
   "outputs": [
    {
     "data": {
      "text/plain": [
       "No     99.96\n",
       "Yes     0.04\n",
       "Name: Through Recommendations, dtype: float64"
      ]
     },
     "execution_count": 90,
     "metadata": {},
     "output_type": "execute_result"
    }
   ],
   "source": [
    "round(lead[\"Through Recommendations\"].value_counts(dropna=False, normalize=True)*100,2)"
   ]
  },
  {
   "cell_type": "code",
   "execution_count": 91,
   "id": "1241dadc",
   "metadata": {
    "ExecuteTime": {
     "end_time": "2021-06-21T16:25:59.468651Z",
     "start_time": "2021-06-21T16:25:59.454266Z"
    }
   },
   "outputs": [],
   "source": [
    "#Drop Through Recommendations column\n",
    "lead.drop(\"Through Recommendations\", axis=1,inplace=True)"
   ]
  },
  {
   "cell_type": "markdown",
   "id": "fa78a8d4",
   "metadata": {},
   "source": [
    "### Receive More Updates About Our Courses"
   ]
  },
  {
   "cell_type": "code",
   "execution_count": 92,
   "id": "cbf137a2",
   "metadata": {
    "ExecuteTime": {
     "end_time": "2021-06-21T16:25:59.484078Z",
     "start_time": "2021-06-21T16:25:59.469642Z"
    }
   },
   "outputs": [
    {
     "data": {
      "text/plain": [
       "No    100.0\n",
       "Name: Receive More Updates About Our Courses, dtype: float64"
      ]
     },
     "execution_count": 92,
     "metadata": {},
     "output_type": "execute_result"
    }
   ],
   "source": [
    "round(lead[\"Receive More Updates About Our Courses\"].value_counts(dropna=False, normalize=True)*100,2)"
   ]
  },
  {
   "cell_type": "code",
   "execution_count": 93,
   "id": "1cdac760",
   "metadata": {
    "ExecuteTime": {
     "end_time": "2021-06-21T16:25:59.499439Z",
     "start_time": "2021-06-21T16:25:59.485053Z"
    }
   },
   "outputs": [],
   "source": [
    "#Drop Receive More Updates About Our Courses column\n",
    "lead.drop(\"Receive More Updates About Our Courses\", axis=1,inplace=True)"
   ]
  },
  {
   "cell_type": "markdown",
   "id": "6dce5ccd",
   "metadata": {},
   "source": [
    "### Update me on Supply Chain Content"
   ]
  },
  {
   "cell_type": "code",
   "execution_count": 94,
   "id": "70ba1b32",
   "metadata": {
    "ExecuteTime": {
     "end_time": "2021-06-21T16:25:59.514830Z",
     "start_time": "2021-06-21T16:25:59.500892Z"
    }
   },
   "outputs": [
    {
     "data": {
      "text/plain": [
       "No    100.0\n",
       "Name: Update me on Supply Chain Content, dtype: float64"
      ]
     },
     "execution_count": 94,
     "metadata": {},
     "output_type": "execute_result"
    }
   ],
   "source": [
    "round(lead[\"Update me on Supply Chain Content\"].value_counts(dropna=False, normalize=True)*100,2)"
   ]
  },
  {
   "cell_type": "code",
   "execution_count": 95,
   "id": "a0d61b9a",
   "metadata": {
    "ExecuteTime": {
     "end_time": "2021-06-21T16:25:59.530154Z",
     "start_time": "2021-06-21T16:25:59.515817Z"
    }
   },
   "outputs": [],
   "source": [
    "#Drop Update me on Supply Chain Content column\n",
    "lead.drop(\"Update me on Supply Chain Content\", axis=1,inplace=True)"
   ]
  },
  {
   "cell_type": "markdown",
   "id": "d8cc642c",
   "metadata": {},
   "source": [
    "### Get updates on DM Content"
   ]
  },
  {
   "cell_type": "code",
   "execution_count": 96,
   "id": "5a1f3eb6",
   "metadata": {
    "ExecuteTime": {
     "end_time": "2021-06-21T16:25:59.545531Z",
     "start_time": "2021-06-21T16:25:59.531643Z"
    }
   },
   "outputs": [
    {
     "data": {
      "text/plain": [
       "No    100.0\n",
       "Name: Get updates on DM Content, dtype: float64"
      ]
     },
     "execution_count": 96,
     "metadata": {},
     "output_type": "execute_result"
    }
   ],
   "source": [
    "round(lead[\"Get updates on DM Content\"].value_counts(dropna=False, normalize=True)*100,2)"
   ]
  },
  {
   "cell_type": "code",
   "execution_count": 97,
   "id": "2fa04502",
   "metadata": {
    "ExecuteTime": {
     "end_time": "2021-06-21T16:25:59.560906Z",
     "start_time": "2021-06-21T16:25:59.547019Z"
    }
   },
   "outputs": [],
   "source": [
    "#Drop Get updates on DM Content column\n",
    "lead.drop(\"Get updates on DM Content\", axis=1,inplace=True)"
   ]
  },
  {
   "cell_type": "markdown",
   "id": "9826977b",
   "metadata": {},
   "source": [
    "### I agree to pay the amount through cheque"
   ]
  },
  {
   "cell_type": "code",
   "execution_count": 98,
   "id": "19409682",
   "metadata": {
    "ExecuteTime": {
     "end_time": "2021-06-21T16:25:59.576338Z",
     "start_time": "2021-06-21T16:25:59.562395Z"
    }
   },
   "outputs": [
    {
     "data": {
      "text/plain": [
       "No    100.0\n",
       "Name: I agree to pay the amount through cheque, dtype: float64"
      ]
     },
     "execution_count": 98,
     "metadata": {},
     "output_type": "execute_result"
    }
   ],
   "source": [
    "round(lead[\"I agree to pay the amount through cheque\"].value_counts(dropna=False, normalize=True)*100,2)"
   ]
  },
  {
   "cell_type": "code",
   "execution_count": 99,
   "id": "4df2466c",
   "metadata": {
    "ExecuteTime": {
     "end_time": "2021-06-21T16:25:59.591658Z",
     "start_time": "2021-06-21T16:25:59.577314Z"
    }
   },
   "outputs": [],
   "source": [
    "#Drop I agree to pay the amount through cheque column\n",
    "lead.drop(\"I agree to pay the amount through cheque\", axis=1,inplace=True)"
   ]
  },
  {
   "cell_type": "markdown",
   "id": "09919ec6",
   "metadata": {},
   "source": [
    "### A free copy of Mastering The Interview"
   ]
  },
  {
   "cell_type": "code",
   "execution_count": 100,
   "id": "9a513475",
   "metadata": {
    "ExecuteTime": {
     "end_time": "2021-06-21T16:25:59.607034Z",
     "start_time": "2021-06-21T16:25:59.592651Z"
    }
   },
   "outputs": [
    {
     "data": {
      "text/plain": [
       "No     69.88\n",
       "Yes    30.12\n",
       "Name: A free copy of Mastering The Interview, dtype: float64"
      ]
     },
     "execution_count": 100,
     "metadata": {},
     "output_type": "execute_result"
    }
   ],
   "source": [
    "round(lead[\"A free copy of Mastering The Interview\"].value_counts(dropna=False, normalize=True)*100,2)"
   ]
  },
  {
   "cell_type": "code",
   "execution_count": 101,
   "id": "17eac992",
   "metadata": {
    "ExecuteTime": {
     "end_time": "2021-06-21T16:25:59.699346Z",
     "start_time": "2021-06-21T16:25:59.608527Z"
    }
   },
   "outputs": [
    {
     "data": {
      "image/png": "[encoded data removed]",
      "text/plain": [
       "<Figure size 432x288 with 1 Axes>"
      ]
     },
     "metadata": {
      "needs_background": "light"
     },
     "output_type": "display_data"
    }
   ],
   "source": [
    "sns.countplot(lead[\"A free copy of Mastering The Interview\"], hue=lead[\"Converted\"])\n",
    "plt.show()"
   ]
  },
  {
   "cell_type": "markdown",
   "id": "0a4d6e43",
   "metadata": {},
   "source": [
    "Insights:\n",
    "- Even though the No are high, but the conversion rate for both Yes and No are same "
   ]
  },
  {
   "cell_type": "markdown",
   "id": "fad3db33",
   "metadata": {},
   "source": [
    "### Last Notable Activity"
   ]
  },
  {
   "cell_type": "code",
   "execution_count": 102,
   "id": "1e2204d5",
   "metadata": {
    "ExecuteTime": {
     "end_time": "2021-06-21T16:25:59.715666Z",
     "start_time": "2021-06-21T16:25:59.700521Z"
    }
   },
   "outputs": [
    {
     "data": {
      "text/plain": [
       "Modified                        36.82\n",
       "Email Opened                    30.76\n",
       "SMS Sent                        23.86\n",
       "Page Visited on Website          2.83\n",
       "Olark Chat Conversation          2.06\n",
       "Email Link Clicked               1.90\n",
       "Email Bounced                    0.70\n",
       "Unsubscribed                     0.51\n",
       "Unreachable                      0.36\n",
       "Had a Phone Conversation         0.12\n",
       "Email Marked Spam                0.02\n",
       "Email Received                   0.01\n",
       "Resubscribed to emails           0.01\n",
       "Form Submitted on Website        0.01\n",
       "Approached upfront               0.01\n",
       "View in browser link Clicked     0.01\n",
       "Name: Last Notable Activity, dtype: float64"
      ]
     },
     "execution_count": 102,
     "metadata": {},
     "output_type": "execute_result"
    }
   ],
   "source": [
    "round(lead[\"Last Notable Activity\"].value_counts(dropna=False, normalize=True)*100,2)"
   ]
  },
  {
   "cell_type": "code",
   "execution_count": 103,
   "id": "805ea81b",
   "metadata": {
    "ExecuteTime": {
     "end_time": "2021-06-21T16:25:59.730307Z",
     "start_time": "2021-06-21T16:25:59.717385Z"
    }
   },
   "outputs": [],
   "source": [
    "#Replace values have kess than 2% count \n",
    "lead[\"Last Notable Activity\"].replace(['Email Bounced', 'Unsubscribed', 'Unreachable', \n",
    "                                      'Had a Phone Conversation', 'Email Marked Spam', 'Approached upfront', \n",
    "                                       'Form Submitted on Website', 'Email Received', 'View in browser link Clicked', \n",
    "                                      'Resubscribed to emails'], 'Others', inplace=True)"
   ]
  },
  {
   "cell_type": "code",
   "execution_count": 104,
   "id": "5f933711",
   "metadata": {
    "ExecuteTime": {
     "end_time": "2021-06-21T16:25:59.868700Z",
     "start_time": "2021-06-21T16:25:59.731769Z"
    }
   },
   "outputs": [
    {
     "data": {
      "image/png": "[encoded data removed]",
      "text/plain": [
       "<Figure size 432x288 with 1 Axes>"
      ]
     },
     "metadata": {
      "needs_background": "light"
     },
     "output_type": "display_data"
    }
   ],
   "source": [
    "#plotting Last Notable activity w.r.t Converted\n",
    "sns.countplot(lead[\"Last Notable Activity\"], hue=lead[\"Converted\"])\n",
    "plt.xticks(rotation=90)\n",
    "plt.show()"
   ]
  },
  {
   "cell_type": "markdown",
   "id": "d1ee007c",
   "metadata": {},
   "source": [
    "Insights:\n",
    "- The SMS sent to people have highest conversion rate for the Last notable activity\n"
   ]
  },
  {
   "cell_type": "code",
   "execution_count": 105,
   "id": "ae11a43c",
   "metadata": {
    "ExecuteTime": {
     "end_time": "2021-06-21T16:25:59.884040Z",
     "start_time": "2021-06-21T16:25:59.869657Z"
    }
   },
   "outputs": [],
   "source": [
    "def binary_map(x):\n",
    "    return x.map({'Yes':1, 'No':0})"
   ]
  },
  {
   "cell_type": "code",
   "execution_count": 106,
   "id": "de42b910",
   "metadata": {
    "ExecuteTime": {
     "end_time": "2021-06-21T16:25:59.899417Z",
     "start_time": "2021-06-21T16:25:59.885034Z"
    }
   },
   "outputs": [],
   "source": [
    "#mapping yes with 1 and no with 0\n",
    "lead[\"Do Not Email\"] = lead[[\"Do Not Email\"]].apply(binary_map)"
   ]
  },
  {
   "cell_type": "markdown",
   "id": "183e07e6",
   "metadata": {},
   "source": [
    "### Getting Dummy variables for categorical variables"
   ]
  },
  {
   "cell_type": "code",
   "execution_count": 107,
   "id": "61732d6d",
   "metadata": {
    "ExecuteTime": {
     "end_time": "2021-06-21T16:25:59.914793Z",
     "start_time": "2021-06-21T16:25:59.900409Z"
    }
   },
   "outputs": [
    {
     "data": {
      "text/plain": [
       "Index(['Lead Origin', 'Lead Source', 'Last Activity', 'Specialization',\n",
       "       'Current Occupation', 'Tags', 'Lead Quality', 'City',\n",
       "       'A free copy of Mastering The Interview', 'Last Notable Activity'],\n",
       "      dtype='object')"
      ]
     },
     "execution_count": 107,
     "metadata": {},
     "output_type": "execute_result"
    }
   ],
   "source": [
    "#getting categorical variables\n",
    "category_cols = lead.select_dtypes(include=['object']).columns\n",
    "category_cols"
   ]
  },
  {
   "cell_type": "code",
   "execution_count": 108,
   "id": "02b6aaa8",
   "metadata": {
    "ExecuteTime": {
     "end_time": "2021-06-21T16:26:00.006807Z",
     "start_time": "2021-06-21T16:25:59.915784Z"
    }
   },
   "outputs": [
    {
     "data": {
      "text/html": [
       "<div>\n",
       "<style scoped>\n",
       "    .dataframe tbody tr th:only-of-type {\n",
       "        vertical-align: middle;\n",
       "    }\n",
       "\n",
       "    .dataframe tbody tr th {\n",
       "        vertical-align: top;\n",
       "    }\n",
       "\n",
       "    .dataframe thead th {\n",
       "        text-align: right;\n",
       "    }\n",
       "</style>\n",
       "<table border=\"1\" class=\"dataframe\">\n",
       "  <thead>\n",
       "    <tr style=\"text-align: right;\">\n",
       "      <th></th>\n",
       "      <th>Lead Origin_Landing Page Submission</th>\n",
       "      <th>Lead Origin_Lead Add Form</th>\n",
       "      <th>Lead Source_Google</th>\n",
       "      <th>Lead Source_Olark Chat</th>\n",
       "      <th>Lead Source_Organic Search</th>\n",
       "      <th>Lead Source_Others</th>\n",
       "      <th>Lead Source_Reference</th>\n",
       "      <th>Last Activity_Email Opened</th>\n",
       "      <th>Last Activity_Olark Chat Conversation</th>\n",
       "      <th>Last Activity_Others</th>\n",
       "      <th>Last Activity_Page Visited on Website</th>\n",
       "      <th>Last Activity_SMS Sent</th>\n",
       "      <th>Last Activity_Unreachable</th>\n",
       "      <th>Specialization_Finance Management</th>\n",
       "      <th>Specialization_Human Resource Management</th>\n",
       "      <th>Specialization_IT Projects Management</th>\n",
       "      <th>Specialization_Marketing Management</th>\n",
       "      <th>Specialization_Not_Specified</th>\n",
       "      <th>Specialization_Operations Management</th>\n",
       "      <th>Specialization_Others</th>\n",
       "      <th>Current Occupation_Student</th>\n",
       "      <th>Current Occupation_Unemployed</th>\n",
       "      <th>Current Occupation_Working Professional</th>\n",
       "      <th>Tags_Busy</th>\n",
       "      <th>Tags_Closed by Horizzon</th>\n",
       "      <th>Tags_Interested in other courses</th>\n",
       "      <th>Tags_Lost to EINS</th>\n",
       "      <th>Tags_Others</th>\n",
       "      <th>Tags_Ringing</th>\n",
       "      <th>Tags_Will revert after reading the email</th>\n",
       "      <th>Tags_switched off</th>\n",
       "      <th>Lead Quality_Low in Relevance</th>\n",
       "      <th>Lead Quality_Might be</th>\n",
       "      <th>Lead Quality_Not Sure</th>\n",
       "      <th>Lead Quality_Worst</th>\n",
       "      <th>City_Other Cities</th>\n",
       "      <th>City_Other Cities of Maharashtra</th>\n",
       "      <th>City_Other Metro Cities</th>\n",
       "      <th>City_Thane &amp; Outskirts</th>\n",
       "      <th>City_Tier II Cities</th>\n",
       "      <th>A free copy of Mastering The Interview_Yes</th>\n",
       "      <th>Last Notable Activity_Email Opened</th>\n",
       "      <th>Last Notable Activity_Modified</th>\n",
       "      <th>Last Notable Activity_Olark Chat Conversation</th>\n",
       "      <th>Last Notable Activity_Others</th>\n",
       "      <th>Last Notable Activity_Page Visited on Website</th>\n",
       "      <th>Last Notable Activity_SMS Sent</th>\n",
       "    </tr>\n",
       "  </thead>\n",
       "  <tbody>\n",
       "    <tr>\n",
       "      <th>0</th>\n",
       "      <td>0</td>\n",
       "      <td>0</td>\n",
       "      <td>0</td>\n",
       "      <td>1</td>\n",
       "      <td>0</td>\n",
       "      <td>0</td>\n",
       "      <td>0</td>\n",
       "      <td>0</td>\n",
       "      <td>0</td>\n",
       "      <td>0</td>\n",
       "      <td>1</td>\n",
       "      <td>0</td>\n",
       "      <td>0</td>\n",
       "      <td>0</td>\n",
       "      <td>0</td>\n",
       "      <td>0</td>\n",
       "      <td>0</td>\n",
       "      <td>1</td>\n",
       "      <td>0</td>\n",
       "      <td>0</td>\n",
       "      <td>0</td>\n",
       "      <td>1</td>\n",
       "      <td>0</td>\n",
       "      <td>0</td>\n",
       "      <td>0</td>\n",
       "      <td>1</td>\n",
       "      <td>0</td>\n",
       "      <td>0</td>\n",
       "      <td>0</td>\n",
       "      <td>0</td>\n",
       "      <td>0</td>\n",
       "      <td>1</td>\n",
       "      <td>0</td>\n",
       "      <td>0</td>\n",
       "      <td>0</td>\n",
       "      <td>0</td>\n",
       "      <td>0</td>\n",
       "      <td>0</td>\n",
       "      <td>0</td>\n",
       "      <td>0</td>\n",
       "      <td>0</td>\n",
       "      <td>0</td>\n",
       "      <td>1</td>\n",
       "      <td>0</td>\n",
       "      <td>0</td>\n",
       "      <td>0</td>\n",
       "      <td>0</td>\n",
       "    </tr>\n",
       "    <tr>\n",
       "      <th>1</th>\n",
       "      <td>0</td>\n",
       "      <td>0</td>\n",
       "      <td>0</td>\n",
       "      <td>0</td>\n",
       "      <td>1</td>\n",
       "      <td>0</td>\n",
       "      <td>0</td>\n",
       "      <td>1</td>\n",
       "      <td>0</td>\n",
       "      <td>0</td>\n",
       "      <td>0</td>\n",
       "      <td>0</td>\n",
       "      <td>0</td>\n",
       "      <td>0</td>\n",
       "      <td>0</td>\n",
       "      <td>0</td>\n",
       "      <td>0</td>\n",
       "      <td>1</td>\n",
       "      <td>0</td>\n",
       "      <td>0</td>\n",
       "      <td>0</td>\n",
       "      <td>1</td>\n",
       "      <td>0</td>\n",
       "      <td>0</td>\n",
       "      <td>0</td>\n",
       "      <td>0</td>\n",
       "      <td>0</td>\n",
       "      <td>0</td>\n",
       "      <td>1</td>\n",
       "      <td>0</td>\n",
       "      <td>0</td>\n",
       "      <td>0</td>\n",
       "      <td>0</td>\n",
       "      <td>1</td>\n",
       "      <td>0</td>\n",
       "      <td>0</td>\n",
       "      <td>0</td>\n",
       "      <td>0</td>\n",
       "      <td>0</td>\n",
       "      <td>0</td>\n",
       "      <td>0</td>\n",
       "      <td>1</td>\n",
       "      <td>0</td>\n",
       "      <td>0</td>\n",
       "      <td>0</td>\n",
       "      <td>0</td>\n",
       "      <td>0</td>\n",
       "    </tr>\n",
       "    <tr>\n",
       "      <th>2</th>\n",
       "      <td>1</td>\n",
       "      <td>0</td>\n",
       "      <td>0</td>\n",
       "      <td>0</td>\n",
       "      <td>0</td>\n",
       "      <td>0</td>\n",
       "      <td>0</td>\n",
       "      <td>1</td>\n",
       "      <td>0</td>\n",
       "      <td>0</td>\n",
       "      <td>0</td>\n",
       "      <td>0</td>\n",
       "      <td>0</td>\n",
       "      <td>0</td>\n",
       "      <td>0</td>\n",
       "      <td>0</td>\n",
       "      <td>0</td>\n",
       "      <td>0</td>\n",
       "      <td>0</td>\n",
       "      <td>0</td>\n",
       "      <td>1</td>\n",
       "      <td>0</td>\n",
       "      <td>0</td>\n",
       "      <td>0</td>\n",
       "      <td>0</td>\n",
       "      <td>0</td>\n",
       "      <td>0</td>\n",
       "      <td>0</td>\n",
       "      <td>0</td>\n",
       "      <td>1</td>\n",
       "      <td>0</td>\n",
       "      <td>0</td>\n",
       "      <td>1</td>\n",
       "      <td>0</td>\n",
       "      <td>0</td>\n",
       "      <td>0</td>\n",
       "      <td>0</td>\n",
       "      <td>0</td>\n",
       "      <td>0</td>\n",
       "      <td>0</td>\n",
       "      <td>1</td>\n",
       "      <td>1</td>\n",
       "      <td>0</td>\n",
       "      <td>0</td>\n",
       "      <td>0</td>\n",
       "      <td>0</td>\n",
       "      <td>0</td>\n",
       "    </tr>\n",
       "    <tr>\n",
       "      <th>3</th>\n",
       "      <td>1</td>\n",
       "      <td>0</td>\n",
       "      <td>0</td>\n",
       "      <td>0</td>\n",
       "      <td>0</td>\n",
       "      <td>0</td>\n",
       "      <td>0</td>\n",
       "      <td>0</td>\n",
       "      <td>0</td>\n",
       "      <td>0</td>\n",
       "      <td>0</td>\n",
       "      <td>0</td>\n",
       "      <td>1</td>\n",
       "      <td>0</td>\n",
       "      <td>0</td>\n",
       "      <td>0</td>\n",
       "      <td>0</td>\n",
       "      <td>0</td>\n",
       "      <td>0</td>\n",
       "      <td>1</td>\n",
       "      <td>0</td>\n",
       "      <td>1</td>\n",
       "      <td>0</td>\n",
       "      <td>0</td>\n",
       "      <td>0</td>\n",
       "      <td>0</td>\n",
       "      <td>0</td>\n",
       "      <td>0</td>\n",
       "      <td>1</td>\n",
       "      <td>0</td>\n",
       "      <td>0</td>\n",
       "      <td>0</td>\n",
       "      <td>0</td>\n",
       "      <td>1</td>\n",
       "      <td>0</td>\n",
       "      <td>0</td>\n",
       "      <td>0</td>\n",
       "      <td>0</td>\n",
       "      <td>0</td>\n",
       "      <td>0</td>\n",
       "      <td>0</td>\n",
       "      <td>0</td>\n",
       "      <td>1</td>\n",
       "      <td>0</td>\n",
       "      <td>0</td>\n",
       "      <td>0</td>\n",
       "      <td>0</td>\n",
       "    </tr>\n",
       "    <tr>\n",
       "      <th>4</th>\n",
       "      <td>1</td>\n",
       "      <td>0</td>\n",
       "      <td>1</td>\n",
       "      <td>0</td>\n",
       "      <td>0</td>\n",
       "      <td>0</td>\n",
       "      <td>0</td>\n",
       "      <td>0</td>\n",
       "      <td>0</td>\n",
       "      <td>0</td>\n",
       "      <td>0</td>\n",
       "      <td>0</td>\n",
       "      <td>0</td>\n",
       "      <td>0</td>\n",
       "      <td>0</td>\n",
       "      <td>0</td>\n",
       "      <td>0</td>\n",
       "      <td>1</td>\n",
       "      <td>0</td>\n",
       "      <td>0</td>\n",
       "      <td>0</td>\n",
       "      <td>1</td>\n",
       "      <td>0</td>\n",
       "      <td>0</td>\n",
       "      <td>0</td>\n",
       "      <td>0</td>\n",
       "      <td>0</td>\n",
       "      <td>0</td>\n",
       "      <td>0</td>\n",
       "      <td>1</td>\n",
       "      <td>0</td>\n",
       "      <td>0</td>\n",
       "      <td>1</td>\n",
       "      <td>0</td>\n",
       "      <td>0</td>\n",
       "      <td>0</td>\n",
       "      <td>0</td>\n",
       "      <td>0</td>\n",
       "      <td>0</td>\n",
       "      <td>0</td>\n",
       "      <td>0</td>\n",
       "      <td>0</td>\n",
       "      <td>1</td>\n",
       "      <td>0</td>\n",
       "      <td>0</td>\n",
       "      <td>0</td>\n",
       "      <td>0</td>\n",
       "    </tr>\n",
       "  </tbody>\n",
       "</table>\n",
       "</div>"
      ],
      "text/plain": [
       "   Lead Origin_Landing Page Submission  Lead Origin_Lead Add Form  \\\n",
       "0                                    0                          0   \n",
       "1                                    0                          0   \n",
       "2                                    1                          0   \n",
       "3                                    1                          0   \n",
       "4                                    1                          0   \n",
       "\n",
       "   Lead Source_Google  Lead Source_Olark Chat  Lead Source_Organic Search  \\\n",
       "0                   0                       1                           0   \n",
       "1                   0                       0                           1   \n",
       "2                   0                       0                           0   \n",
       "3                   0                       0                           0   \n",
       "4                   1                       0                           0   \n",
       "\n",
       "   Lead Source_Others  Lead Source_Reference  Last Activity_Email Opened  \\\n",
       "0                   0                      0                           0   \n",
       "1                   0                      0                           1   \n",
       "2                   0                      0                           1   \n",
       "3                   0                      0                           0   \n",
       "4                   0                      0                           0   \n",
       "\n",
       "   Last Activity_Olark Chat Conversation  Last Activity_Others  \\\n",
       "0                                      0                     0   \n",
       "1                                      0                     0   \n",
       "2                                      0                     0   \n",
       "3                                      0                     0   \n",
       "4                                      0                     0   \n",
       "\n",
       "   Last Activity_Page Visited on Website  Last Activity_SMS Sent  \\\n",
       "0                                      1                       0   \n",
       "1                                      0                       0   \n",
       "2                                      0                       0   \n",
       "3                                      0                       0   \n",
       "4                                      0                       0   \n",
       "\n",
       "   Last Activity_Unreachable  Specialization_Finance Management  \\\n",
       "0                          0                                  0   \n",
       "1                          0                                  0   \n",
       "2                          0                                  0   \n",
       "3                          1                                  0   \n",
       "4                          0                                  0   \n",
       "\n",
       "   Specialization_Human Resource Management  \\\n",
       "0                                         0   \n",
       "1                                         0   \n",
       "2                                         0   \n",
       "3                                         0   \n",
       "4                                         0   \n",
       "\n",
       "   Specialization_IT Projects Management  Specialization_Marketing Management  \\\n",
       "0                                      0                                    0   \n",
       "1                                      0                                    0   \n",
       "2                                      0                                    0   \n",
       "3                                      0                                    0   \n",
       "4                                      0                                    0   \n",
       "\n",
       "   Specialization_Not_Specified  Specialization_Operations Management  \\\n",
       "0                             1                                     0   \n",
       "1                             1                                     0   \n",
       "2                             0                                     0   \n",
       "3                             0                                     0   \n",
       "4                             1                                     0   \n",
       "\n",
       "   Specialization_Others  Current Occupation_Student  \\\n",
       "0                      0                           0   \n",
       "1                      0                           0   \n",
       "2                      0                           1   \n",
       "3                      1                           0   \n",
       "4                      0                           0   \n",
       "\n",
       "   Current Occupation_Unemployed  Current Occupation_Working Professional  \\\n",
       "0                              1                                        0   \n",
       "1                              1                                        0   \n",
       "2                              0                                        0   \n",
       "3                              1                                        0   \n",
       "4                              1                                        0   \n",
       "\n",
       "   Tags_Busy  Tags_Closed by Horizzon  Tags_Interested in other courses  \\\n",
       "0          0                        0                                 1   \n",
       "1          0                        0                                 0   \n",
       "2          0                        0                                 0   \n",
       "3          0                        0                                 0   \n",
       "4          0                        0                                 0   \n",
       "\n",
       "   Tags_Lost to EINS  Tags_Others  Tags_Ringing  \\\n",
       "0                  0            0             0   \n",
       "1                  0            0             1   \n",
       "2                  0            0             0   \n",
       "3                  0            0             1   \n",
       "4                  0            0             0   \n",
       "\n",
       "   Tags_Will revert after reading the email  Tags_switched off  \\\n",
       "0                                         0                  0   \n",
       "1                                         0                  0   \n",
       "2                                         1                  0   \n",
       "3                                         0                  0   \n",
       "4                                         1                  0   \n",
       "\n",
       "   Lead Quality_Low in Relevance  Lead Quality_Might be  \\\n",
       "0                              1                      0   \n",
       "1                              0                      0   \n",
       "2                              0                      1   \n",
       "3                              0                      0   \n",
       "4                              0                      1   \n",
       "\n",
       "   Lead Quality_Not Sure  Lead Quality_Worst  City_Other Cities  \\\n",
       "0                      0                   0                  0   \n",
       "1                      1                   0                  0   \n",
       "2                      0                   0                  0   \n",
       "3                      1                   0                  0   \n",
       "4                      0                   0                  0   \n",
       "\n",
       "   City_Other Cities of Maharashtra  City_Other Metro Cities  \\\n",
       "0                                 0                        0   \n",
       "1                                 0                        0   \n",
       "2                                 0                        0   \n",
       "3                                 0                        0   \n",
       "4                                 0                        0   \n",
       "\n",
       "   City_Thane & Outskirts  City_Tier II Cities  \\\n",
       "0                       0                    0   \n",
       "1                       0                    0   \n",
       "2                       0                    0   \n",
       "3                       0                    0   \n",
       "4                       0                    0   \n",
       "\n",
       "   A free copy of Mastering The Interview_Yes  \\\n",
       "0                                           0   \n",
       "1                                           0   \n",
       "2                                           1   \n",
       "3                                           0   \n",
       "4                                           0   \n",
       "\n",
       "   Last Notable Activity_Email Opened  Last Notable Activity_Modified  \\\n",
       "0                                   0                               1   \n",
       "1                                   1                               0   \n",
       "2                                   1                               0   \n",
       "3                                   0                               1   \n",
       "4                                   0                               1   \n",
       "\n",
       "   Last Notable Activity_Olark Chat Conversation  \\\n",
       "0                                              0   \n",
       "1                                              0   \n",
       "2                                              0   \n",
       "3                                              0   \n",
       "4                                              0   \n",
       "\n",
       "   Last Notable Activity_Others  \\\n",
       "0                             0   \n",
       "1                             0   \n",
       "2                             0   \n",
       "3                             0   \n",
       "4                             0   \n",
       "\n",
       "   Last Notable Activity_Page Visited on Website  \\\n",
       "0                                              0   \n",
       "1                                              0   \n",
       "2                                              0   \n",
       "3                                              0   \n",
       "4                                              0   \n",
       "\n",
       "   Last Notable Activity_SMS Sent  \n",
       "0                               0  \n",
       "1                               0  \n",
       "2                               0  \n",
       "3                               0  \n",
       "4                               0  "
      ]
     },
     "execution_count": 108,
     "metadata": {},
     "output_type": "execute_result"
    }
   ],
   "source": [
    "#getting dummy variables for categorical variables\n",
    "category_dummies = pd.get_dummies(data=lead[category_cols], drop_first=True)\n",
    "category_dummies.head()"
   ]
  },
  {
   "cell_type": "code",
   "execution_count": 109,
   "id": "7073d5ac",
   "metadata": {
    "ExecuteTime": {
     "end_time": "2021-06-21T16:26:00.037620Z",
     "start_time": "2021-06-21T16:26:00.008295Z"
    }
   },
   "outputs": [
    {
     "data": {
      "text/html": [
       "<div>\n",
       "<style scoped>\n",
       "    .dataframe tbody tr th:only-of-type {\n",
       "        vertical-align: middle;\n",
       "    }\n",
       "\n",
       "    .dataframe tbody tr th {\n",
       "        vertical-align: top;\n",
       "    }\n",
       "\n",
       "    .dataframe thead th {\n",
       "        text-align: right;\n",
       "    }\n",
       "</style>\n",
       "<table border=\"1\" class=\"dataframe\">\n",
       "  <thead>\n",
       "    <tr style=\"text-align: right;\">\n",
       "      <th></th>\n",
       "      <th>Lead Origin</th>\n",
       "      <th>Lead Source</th>\n",
       "      <th>Do Not Email</th>\n",
       "      <th>Converted</th>\n",
       "      <th>TotalVisits</th>\n",
       "      <th>Total Time Spent on Website</th>\n",
       "      <th>Page Views Per Visit</th>\n",
       "      <th>Last Activity</th>\n",
       "      <th>Specialization</th>\n",
       "      <th>Current Occupation</th>\n",
       "      <th>Tags</th>\n",
       "      <th>Lead Quality</th>\n",
       "      <th>City</th>\n",
       "      <th>A free copy of Mastering The Interview</th>\n",
       "      <th>Last Notable Activity</th>\n",
       "      <th>Lead Origin_Landing Page Submission</th>\n",
       "      <th>Lead Origin_Lead Add Form</th>\n",
       "      <th>Lead Source_Google</th>\n",
       "      <th>Lead Source_Olark Chat</th>\n",
       "      <th>Lead Source_Organic Search</th>\n",
       "      <th>Lead Source_Others</th>\n",
       "      <th>Lead Source_Reference</th>\n",
       "      <th>Last Activity_Email Opened</th>\n",
       "      <th>Last Activity_Olark Chat Conversation</th>\n",
       "      <th>Last Activity_Others</th>\n",
       "      <th>Last Activity_Page Visited on Website</th>\n",
       "      <th>Last Activity_SMS Sent</th>\n",
       "      <th>Last Activity_Unreachable</th>\n",
       "      <th>Specialization_Finance Management</th>\n",
       "      <th>Specialization_Human Resource Management</th>\n",
       "      <th>Specialization_IT Projects Management</th>\n",
       "      <th>Specialization_Marketing Management</th>\n",
       "      <th>Specialization_Not_Specified</th>\n",
       "      <th>Specialization_Operations Management</th>\n",
       "      <th>Specialization_Others</th>\n",
       "      <th>Current Occupation_Student</th>\n",
       "      <th>Current Occupation_Unemployed</th>\n",
       "      <th>Current Occupation_Working Professional</th>\n",
       "      <th>Tags_Busy</th>\n",
       "      <th>Tags_Closed by Horizzon</th>\n",
       "      <th>Tags_Interested in other courses</th>\n",
       "      <th>Tags_Lost to EINS</th>\n",
       "      <th>Tags_Others</th>\n",
       "      <th>Tags_Ringing</th>\n",
       "      <th>Tags_Will revert after reading the email</th>\n",
       "      <th>Tags_switched off</th>\n",
       "      <th>Lead Quality_Low in Relevance</th>\n",
       "      <th>Lead Quality_Might be</th>\n",
       "      <th>Lead Quality_Not Sure</th>\n",
       "      <th>Lead Quality_Worst</th>\n",
       "      <th>City_Other Cities</th>\n",
       "      <th>City_Other Cities of Maharashtra</th>\n",
       "      <th>City_Other Metro Cities</th>\n",
       "      <th>City_Thane &amp; Outskirts</th>\n",
       "      <th>City_Tier II Cities</th>\n",
       "      <th>A free copy of Mastering The Interview_Yes</th>\n",
       "      <th>Last Notable Activity_Email Opened</th>\n",
       "      <th>Last Notable Activity_Modified</th>\n",
       "      <th>Last Notable Activity_Olark Chat Conversation</th>\n",
       "      <th>Last Notable Activity_Others</th>\n",
       "      <th>Last Notable Activity_Page Visited on Website</th>\n",
       "      <th>Last Notable Activity_SMS Sent</th>\n",
       "    </tr>\n",
       "  </thead>\n",
       "  <tbody>\n",
       "    <tr>\n",
       "      <th>0</th>\n",
       "      <td>API</td>\n",
       "      <td>Olark Chat</td>\n",
       "      <td>0</td>\n",
       "      <td>0</td>\n",
       "      <td>0.0</td>\n",
       "      <td>0</td>\n",
       "      <td>0.0</td>\n",
       "      <td>Page Visited on Website</td>\n",
       "      <td>Not_Specified</td>\n",
       "      <td>Unemployed</td>\n",
       "      <td>Interested in other courses</td>\n",
       "      <td>Low in Relevance</td>\n",
       "      <td>Mumbai</td>\n",
       "      <td>No</td>\n",
       "      <td>Modified</td>\n",
       "      <td>0</td>\n",
       "      <td>0</td>\n",
       "      <td>0</td>\n",
       "      <td>1</td>\n",
       "      <td>0</td>\n",
       "      <td>0</td>\n",
       "      <td>0</td>\n",
       "      <td>0</td>\n",
       "      <td>0</td>\n",
       "      <td>0</td>\n",
       "      <td>1</td>\n",
       "      <td>0</td>\n",
       "      <td>0</td>\n",
       "      <td>0</td>\n",
       "      <td>0</td>\n",
       "      <td>0</td>\n",
       "      <td>0</td>\n",
       "      <td>1</td>\n",
       "      <td>0</td>\n",
       "      <td>0</td>\n",
       "      <td>0</td>\n",
       "      <td>1</td>\n",
       "      <td>0</td>\n",
       "      <td>0</td>\n",
       "      <td>0</td>\n",
       "      <td>1</td>\n",
       "      <td>0</td>\n",
       "      <td>0</td>\n",
       "      <td>0</td>\n",
       "      <td>0</td>\n",
       "      <td>0</td>\n",
       "      <td>1</td>\n",
       "      <td>0</td>\n",
       "      <td>0</td>\n",
       "      <td>0</td>\n",
       "      <td>0</td>\n",
       "      <td>0</td>\n",
       "      <td>0</td>\n",
       "      <td>0</td>\n",
       "      <td>0</td>\n",
       "      <td>0</td>\n",
       "      <td>0</td>\n",
       "      <td>1</td>\n",
       "      <td>0</td>\n",
       "      <td>0</td>\n",
       "      <td>0</td>\n",
       "      <td>0</td>\n",
       "    </tr>\n",
       "    <tr>\n",
       "      <th>1</th>\n",
       "      <td>API</td>\n",
       "      <td>Organic Search</td>\n",
       "      <td>0</td>\n",
       "      <td>0</td>\n",
       "      <td>5.0</td>\n",
       "      <td>674</td>\n",
       "      <td>2.5</td>\n",
       "      <td>Email Opened</td>\n",
       "      <td>Not_Specified</td>\n",
       "      <td>Unemployed</td>\n",
       "      <td>Ringing</td>\n",
       "      <td>Not Sure</td>\n",
       "      <td>Mumbai</td>\n",
       "      <td>No</td>\n",
       "      <td>Email Opened</td>\n",
       "      <td>0</td>\n",
       "      <td>0</td>\n",
       "      <td>0</td>\n",
       "      <td>0</td>\n",
       "      <td>1</td>\n",
       "      <td>0</td>\n",
       "      <td>0</td>\n",
       "      <td>1</td>\n",
       "      <td>0</td>\n",
       "      <td>0</td>\n",
       "      <td>0</td>\n",
       "      <td>0</td>\n",
       "      <td>0</td>\n",
       "      <td>0</td>\n",
       "      <td>0</td>\n",
       "      <td>0</td>\n",
       "      <td>0</td>\n",
       "      <td>1</td>\n",
       "      <td>0</td>\n",
       "      <td>0</td>\n",
       "      <td>0</td>\n",
       "      <td>1</td>\n",
       "      <td>0</td>\n",
       "      <td>0</td>\n",
       "      <td>0</td>\n",
       "      <td>0</td>\n",
       "      <td>0</td>\n",
       "      <td>0</td>\n",
       "      <td>1</td>\n",
       "      <td>0</td>\n",
       "      <td>0</td>\n",
       "      <td>0</td>\n",
       "      <td>0</td>\n",
       "      <td>1</td>\n",
       "      <td>0</td>\n",
       "      <td>0</td>\n",
       "      <td>0</td>\n",
       "      <td>0</td>\n",
       "      <td>0</td>\n",
       "      <td>0</td>\n",
       "      <td>0</td>\n",
       "      <td>1</td>\n",
       "      <td>0</td>\n",
       "      <td>0</td>\n",
       "      <td>0</td>\n",
       "      <td>0</td>\n",
       "      <td>0</td>\n",
       "    </tr>\n",
       "    <tr>\n",
       "      <th>2</th>\n",
       "      <td>Landing Page Submission</td>\n",
       "      <td>Direct Traffic</td>\n",
       "      <td>0</td>\n",
       "      <td>1</td>\n",
       "      <td>2.0</td>\n",
       "      <td>1532</td>\n",
       "      <td>2.0</td>\n",
       "      <td>Email Opened</td>\n",
       "      <td>Business Administration</td>\n",
       "      <td>Student</td>\n",
       "      <td>Will revert after reading the email</td>\n",
       "      <td>Might be</td>\n",
       "      <td>Mumbai</td>\n",
       "      <td>Yes</td>\n",
       "      <td>Email Opened</td>\n",
       "      <td>1</td>\n",
       "      <td>0</td>\n",
       "      <td>0</td>\n",
       "      <td>0</td>\n",
       "      <td>0</td>\n",
       "      <td>0</td>\n",
       "      <td>0</td>\n",
       "      <td>1</td>\n",
       "      <td>0</td>\n",
       "      <td>0</td>\n",
       "      <td>0</td>\n",
       "      <td>0</td>\n",
       "      <td>0</td>\n",
       "      <td>0</td>\n",
       "      <td>0</td>\n",
       "      <td>0</td>\n",
       "      <td>0</td>\n",
       "      <td>0</td>\n",
       "      <td>0</td>\n",
       "      <td>0</td>\n",
       "      <td>1</td>\n",
       "      <td>0</td>\n",
       "      <td>0</td>\n",
       "      <td>0</td>\n",
       "      <td>0</td>\n",
       "      <td>0</td>\n",
       "      <td>0</td>\n",
       "      <td>0</td>\n",
       "      <td>0</td>\n",
       "      <td>1</td>\n",
       "      <td>0</td>\n",
       "      <td>0</td>\n",
       "      <td>1</td>\n",
       "      <td>0</td>\n",
       "      <td>0</td>\n",
       "      <td>0</td>\n",
       "      <td>0</td>\n",
       "      <td>0</td>\n",
       "      <td>0</td>\n",
       "      <td>0</td>\n",
       "      <td>1</td>\n",
       "      <td>1</td>\n",
       "      <td>0</td>\n",
       "      <td>0</td>\n",
       "      <td>0</td>\n",
       "      <td>0</td>\n",
       "      <td>0</td>\n",
       "    </tr>\n",
       "    <tr>\n",
       "      <th>3</th>\n",
       "      <td>Landing Page Submission</td>\n",
       "      <td>Direct Traffic</td>\n",
       "      <td>0</td>\n",
       "      <td>0</td>\n",
       "      <td>1.0</td>\n",
       "      <td>305</td>\n",
       "      <td>1.0</td>\n",
       "      <td>Unreachable</td>\n",
       "      <td>Others</td>\n",
       "      <td>Unemployed</td>\n",
       "      <td>Ringing</td>\n",
       "      <td>Not Sure</td>\n",
       "      <td>Mumbai</td>\n",
       "      <td>No</td>\n",
       "      <td>Modified</td>\n",
       "      <td>1</td>\n",
       "      <td>0</td>\n",
       "      <td>0</td>\n",
       "      <td>0</td>\n",
       "      <td>0</td>\n",
       "      <td>0</td>\n",
       "      <td>0</td>\n",
       "      <td>0</td>\n",
       "      <td>0</td>\n",
       "      <td>0</td>\n",
       "      <td>0</td>\n",
       "      <td>0</td>\n",
       "      <td>1</td>\n",
       "      <td>0</td>\n",
       "      <td>0</td>\n",
       "      <td>0</td>\n",
       "      <td>0</td>\n",
       "      <td>0</td>\n",
       "      <td>0</td>\n",
       "      <td>1</td>\n",
       "      <td>0</td>\n",
       "      <td>1</td>\n",
       "      <td>0</td>\n",
       "      <td>0</td>\n",
       "      <td>0</td>\n",
       "      <td>0</td>\n",
       "      <td>0</td>\n",
       "      <td>0</td>\n",
       "      <td>1</td>\n",
       "      <td>0</td>\n",
       "      <td>0</td>\n",
       "      <td>0</td>\n",
       "      <td>0</td>\n",
       "      <td>1</td>\n",
       "      <td>0</td>\n",
       "      <td>0</td>\n",
       "      <td>0</td>\n",
       "      <td>0</td>\n",
       "      <td>0</td>\n",
       "      <td>0</td>\n",
       "      <td>0</td>\n",
       "      <td>0</td>\n",
       "      <td>1</td>\n",
       "      <td>0</td>\n",
       "      <td>0</td>\n",
       "      <td>0</td>\n",
       "      <td>0</td>\n",
       "    </tr>\n",
       "    <tr>\n",
       "      <th>4</th>\n",
       "      <td>Landing Page Submission</td>\n",
       "      <td>Google</td>\n",
       "      <td>0</td>\n",
       "      <td>1</td>\n",
       "      <td>2.0</td>\n",
       "      <td>1428</td>\n",
       "      <td>1.0</td>\n",
       "      <td>Converted to Lead</td>\n",
       "      <td>Not_Specified</td>\n",
       "      <td>Unemployed</td>\n",
       "      <td>Will revert after reading the email</td>\n",
       "      <td>Might be</td>\n",
       "      <td>Mumbai</td>\n",
       "      <td>No</td>\n",
       "      <td>Modified</td>\n",
       "      <td>1</td>\n",
       "      <td>0</td>\n",
       "      <td>1</td>\n",
       "      <td>0</td>\n",
       "      <td>0</td>\n",
       "      <td>0</td>\n",
       "      <td>0</td>\n",
       "      <td>0</td>\n",
       "      <td>0</td>\n",
       "      <td>0</td>\n",
       "      <td>0</td>\n",
       "      <td>0</td>\n",
       "      <td>0</td>\n",
       "      <td>0</td>\n",
       "      <td>0</td>\n",
       "      <td>0</td>\n",
       "      <td>0</td>\n",
       "      <td>1</td>\n",
       "      <td>0</td>\n",
       "      <td>0</td>\n",
       "      <td>0</td>\n",
       "      <td>1</td>\n",
       "      <td>0</td>\n",
       "      <td>0</td>\n",
       "      <td>0</td>\n",
       "      <td>0</td>\n",
       "      <td>0</td>\n",
       "      <td>0</td>\n",
       "      <td>0</td>\n",
       "      <td>1</td>\n",
       "      <td>0</td>\n",
       "      <td>0</td>\n",
       "      <td>1</td>\n",
       "      <td>0</td>\n",
       "      <td>0</td>\n",
       "      <td>0</td>\n",
       "      <td>0</td>\n",
       "      <td>0</td>\n",
       "      <td>0</td>\n",
       "      <td>0</td>\n",
       "      <td>0</td>\n",
       "      <td>0</td>\n",
       "      <td>1</td>\n",
       "      <td>0</td>\n",
       "      <td>0</td>\n",
       "      <td>0</td>\n",
       "      <td>0</td>\n",
       "    </tr>\n",
       "  </tbody>\n",
       "</table>\n",
       "</div>"
      ],
      "text/plain": [
       "               Lead Origin     Lead Source  Do Not Email  Converted  \\\n",
       "0                      API      Olark Chat             0          0   \n",
       "1                      API  Organic Search             0          0   \n",
       "2  Landing Page Submission  Direct Traffic             0          1   \n",
       "3  Landing Page Submission  Direct Traffic             0          0   \n",
       "4  Landing Page Submission          Google             0          1   \n",
       "\n",
       "   TotalVisits  Total Time Spent on Website  Page Views Per Visit  \\\n",
       "0          0.0                            0                   0.0   \n",
       "1          5.0                          674                   2.5   \n",
       "2          2.0                         1532                   2.0   \n",
       "3          1.0                          305                   1.0   \n",
       "4          2.0                         1428                   1.0   \n",
       "\n",
       "             Last Activity           Specialization Current Occupation  \\\n",
       "0  Page Visited on Website            Not_Specified         Unemployed   \n",
       "1             Email Opened            Not_Specified         Unemployed   \n",
       "2             Email Opened  Business Administration            Student   \n",
       "3              Unreachable                   Others         Unemployed   \n",
       "4        Converted to Lead            Not_Specified         Unemployed   \n",
       "\n",
       "                                  Tags      Lead Quality    City  \\\n",
       "0          Interested in other courses  Low in Relevance  Mumbai   \n",
       "1                              Ringing          Not Sure  Mumbai   \n",
       "2  Will revert after reading the email          Might be  Mumbai   \n",
       "3                              Ringing          Not Sure  Mumbai   \n",
       "4  Will revert after reading the email          Might be  Mumbai   \n",
       "\n",
       "  A free copy of Mastering The Interview Last Notable Activity  \\\n",
       "0                                     No              Modified   \n",
       "1                                     No          Email Opened   \n",
       "2                                    Yes          Email Opened   \n",
       "3                                     No              Modified   \n",
       "4                                     No              Modified   \n",
       "\n",
       "   Lead Origin_Landing Page Submission  Lead Origin_Lead Add Form  \\\n",
       "0                                    0                          0   \n",
       "1                                    0                          0   \n",
       "2                                    1                          0   \n",
       "3                                    1                          0   \n",
       "4                                    1                          0   \n",
       "\n",
       "   Lead Source_Google  Lead Source_Olark Chat  Lead Source_Organic Search  \\\n",
       "0                   0                       1                           0   \n",
       "1                   0                       0                           1   \n",
       "2                   0                       0                           0   \n",
       "3                   0                       0                           0   \n",
       "4                   1                       0                           0   \n",
       "\n",
       "   Lead Source_Others  Lead Source_Reference  Last Activity_Email Opened  \\\n",
       "0                   0                      0                           0   \n",
       "1                   0                      0                           1   \n",
       "2                   0                      0                           1   \n",
       "3                   0                      0                           0   \n",
       "4                   0                      0                           0   \n",
       "\n",
       "   Last Activity_Olark Chat Conversation  Last Activity_Others  \\\n",
       "0                                      0                     0   \n",
       "1                                      0                     0   \n",
       "2                                      0                     0   \n",
       "3                                      0                     0   \n",
       "4                                      0                     0   \n",
       "\n",
       "   Last Activity_Page Visited on Website  Last Activity_SMS Sent  \\\n",
       "0                                      1                       0   \n",
       "1                                      0                       0   \n",
       "2                                      0                       0   \n",
       "3                                      0                       0   \n",
       "4                                      0                       0   \n",
       "\n",
       "   Last Activity_Unreachable  Specialization_Finance Management  \\\n",
       "0                          0                                  0   \n",
       "1                          0                                  0   \n",
       "2                          0                                  0   \n",
       "3                          1                                  0   \n",
       "4                          0                                  0   \n",
       "\n",
       "   Specialization_Human Resource Management  \\\n",
       "0                                         0   \n",
       "1                                         0   \n",
       "2                                         0   \n",
       "3                                         0   \n",
       "4                                         0   \n",
       "\n",
       "   Specialization_IT Projects Management  Specialization_Marketing Management  \\\n",
       "0                                      0                                    0   \n",
       "1                                      0                                    0   \n",
       "2                                      0                                    0   \n",
       "3                                      0                                    0   \n",
       "4                                      0                                    0   \n",
       "\n",
       "   Specialization_Not_Specified  Specialization_Operations Management  \\\n",
       "0                             1                                     0   \n",
       "1                             1                                     0   \n",
       "2                             0                                     0   \n",
       "3                             0                                     0   \n",
       "4                             1                                     0   \n",
       "\n",
       "   Specialization_Others  Current Occupation_Student  \\\n",
       "0                      0                           0   \n",
       "1                      0                           0   \n",
       "2                      0                           1   \n",
       "3                      1                           0   \n",
       "4                      0                           0   \n",
       "\n",
       "   Current Occupation_Unemployed  Current Occupation_Working Professional  \\\n",
       "0                              1                                        0   \n",
       "1                              1                                        0   \n",
       "2                              0                                        0   \n",
       "3                              1                                        0   \n",
       "4                              1                                        0   \n",
       "\n",
       "   Tags_Busy  Tags_Closed by Horizzon  Tags_Interested in other courses  \\\n",
       "0          0                        0                                 1   \n",
       "1          0                        0                                 0   \n",
       "2          0                        0                                 0   \n",
       "3          0                        0                                 0   \n",
       "4          0                        0                                 0   \n",
       "\n",
       "   Tags_Lost to EINS  Tags_Others  Tags_Ringing  \\\n",
       "0                  0            0             0   \n",
       "1                  0            0             1   \n",
       "2                  0            0             0   \n",
       "3                  0            0             1   \n",
       "4                  0            0             0   \n",
       "\n",
       "   Tags_Will revert after reading the email  Tags_switched off  \\\n",
       "0                                         0                  0   \n",
       "1                                         0                  0   \n",
       "2                                         1                  0   \n",
       "3                                         0                  0   \n",
       "4                                         1                  0   \n",
       "\n",
       "   Lead Quality_Low in Relevance  Lead Quality_Might be  \\\n",
       "0                              1                      0   \n",
       "1                              0                      0   \n",
       "2                              0                      1   \n",
       "3                              0                      0   \n",
       "4                              0                      1   \n",
       "\n",
       "   Lead Quality_Not Sure  Lead Quality_Worst  City_Other Cities  \\\n",
       "0                      0                   0                  0   \n",
       "1                      1                   0                  0   \n",
       "2                      0                   0                  0   \n",
       "3                      1                   0                  0   \n",
       "4                      0                   0                  0   \n",
       "\n",
       "   City_Other Cities of Maharashtra  City_Other Metro Cities  \\\n",
       "0                                 0                        0   \n",
       "1                                 0                        0   \n",
       "2                                 0                        0   \n",
       "3                                 0                        0   \n",
       "4                                 0                        0   \n",
       "\n",
       "   City_Thane & Outskirts  City_Tier II Cities  \\\n",
       "0                       0                    0   \n",
       "1                       0                    0   \n",
       "2                       0                    0   \n",
       "3                       0                    0   \n",
       "4                       0                    0   \n",
       "\n",
       "   A free copy of Mastering The Interview_Yes  \\\n",
       "0                                           0   \n",
       "1                                           0   \n",
       "2                                           1   \n",
       "3                                           0   \n",
       "4                                           0   \n",
       "\n",
       "   Last Notable Activity_Email Opened  Last Notable Activity_Modified  \\\n",
       "0                                   0                               1   \n",
       "1                                   1                               0   \n",
       "2                                   1                               0   \n",
       "3                                   0                               1   \n",
       "4                                   0                               1   \n",
       "\n",
       "   Last Notable Activity_Olark Chat Conversation  \\\n",
       "0                                              0   \n",
       "1                                              0   \n",
       "2                                              0   \n",
       "3                                              0   \n",
       "4                                              0   \n",
       "\n",
       "   Last Notable Activity_Others  \\\n",
       "0                             0   \n",
       "1                             0   \n",
       "2                             0   \n",
       "3                             0   \n",
       "4                             0   \n",
       "\n",
       "   Last Notable Activity_Page Visited on Website  \\\n",
       "0                                              0   \n",
       "1                                              0   \n",
       "2                                              0   \n",
       "3                                              0   \n",
       "4                                              0   \n",
       "\n",
       "   Last Notable Activity_SMS Sent  \n",
       "0                               0  \n",
       "1                               0  \n",
       "2                               0  \n",
       "3                               0  \n",
       "4                               0  "
      ]
     },
     "execution_count": 109,
     "metadata": {},
     "output_type": "execute_result"
    }
   ],
   "source": [
    "#concatting the dummy features into lead dataframe\n",
    "lead = pd.concat([lead, category_dummies], axis=1)\n",
    "lead.head()"
   ]
  },
  {
   "cell_type": "code",
   "execution_count": 110,
   "id": "a512750c",
   "metadata": {
    "ExecuteTime": {
     "end_time": "2021-06-21T16:26:00.068369Z",
     "start_time": "2021-06-21T16:26:00.038614Z"
    }
   },
   "outputs": [
    {
     "data": {
      "text/html": [
       "<div>\n",
       "<style scoped>\n",
       "    .dataframe tbody tr th:only-of-type {\n",
       "        vertical-align: middle;\n",
       "    }\n",
       "\n",
       "    .dataframe tbody tr th {\n",
       "        vertical-align: top;\n",
       "    }\n",
       "\n",
       "    .dataframe thead th {\n",
       "        text-align: right;\n",
       "    }\n",
       "</style>\n",
       "<table border=\"1\" class=\"dataframe\">\n",
       "  <thead>\n",
       "    <tr style=\"text-align: right;\">\n",
       "      <th></th>\n",
       "      <th>Do Not Email</th>\n",
       "      <th>Converted</th>\n",
       "      <th>TotalVisits</th>\n",
       "      <th>Total Time Spent on Website</th>\n",
       "      <th>Page Views Per Visit</th>\n",
       "      <th>Lead Origin_Landing Page Submission</th>\n",
       "      <th>Lead Origin_Lead Add Form</th>\n",
       "      <th>Lead Source_Google</th>\n",
       "      <th>Lead Source_Olark Chat</th>\n",
       "      <th>Lead Source_Organic Search</th>\n",
       "      <th>Lead Source_Others</th>\n",
       "      <th>Lead Source_Reference</th>\n",
       "      <th>Last Activity_Email Opened</th>\n",
       "      <th>Last Activity_Olark Chat Conversation</th>\n",
       "      <th>Last Activity_Others</th>\n",
       "      <th>Last Activity_Page Visited on Website</th>\n",
       "      <th>Last Activity_SMS Sent</th>\n",
       "      <th>Last Activity_Unreachable</th>\n",
       "      <th>Specialization_Finance Management</th>\n",
       "      <th>Specialization_Human Resource Management</th>\n",
       "      <th>Specialization_IT Projects Management</th>\n",
       "      <th>Specialization_Marketing Management</th>\n",
       "      <th>Specialization_Not_Specified</th>\n",
       "      <th>Specialization_Operations Management</th>\n",
       "      <th>Specialization_Others</th>\n",
       "      <th>Current Occupation_Student</th>\n",
       "      <th>Current Occupation_Unemployed</th>\n",
       "      <th>Current Occupation_Working Professional</th>\n",
       "      <th>Tags_Busy</th>\n",
       "      <th>Tags_Closed by Horizzon</th>\n",
       "      <th>Tags_Interested in other courses</th>\n",
       "      <th>Tags_Lost to EINS</th>\n",
       "      <th>Tags_Others</th>\n",
       "      <th>Tags_Ringing</th>\n",
       "      <th>Tags_Will revert after reading the email</th>\n",
       "      <th>Tags_switched off</th>\n",
       "      <th>Lead Quality_Low in Relevance</th>\n",
       "      <th>Lead Quality_Might be</th>\n",
       "      <th>Lead Quality_Not Sure</th>\n",
       "      <th>Lead Quality_Worst</th>\n",
       "      <th>City_Other Cities</th>\n",
       "      <th>City_Other Cities of Maharashtra</th>\n",
       "      <th>City_Other Metro Cities</th>\n",
       "      <th>City_Thane &amp; Outskirts</th>\n",
       "      <th>City_Tier II Cities</th>\n",
       "      <th>A free copy of Mastering The Interview_Yes</th>\n",
       "      <th>Last Notable Activity_Email Opened</th>\n",
       "      <th>Last Notable Activity_Modified</th>\n",
       "      <th>Last Notable Activity_Olark Chat Conversation</th>\n",
       "      <th>Last Notable Activity_Others</th>\n",
       "      <th>Last Notable Activity_Page Visited on Website</th>\n",
       "      <th>Last Notable Activity_SMS Sent</th>\n",
       "    </tr>\n",
       "  </thead>\n",
       "  <tbody>\n",
       "    <tr>\n",
       "      <th>0</th>\n",
       "      <td>0</td>\n",
       "      <td>0</td>\n",
       "      <td>0.0</td>\n",
       "      <td>0</td>\n",
       "      <td>0.0</td>\n",
       "      <td>0</td>\n",
       "      <td>0</td>\n",
       "      <td>0</td>\n",
       "      <td>1</td>\n",
       "      <td>0</td>\n",
       "      <td>0</td>\n",
       "      <td>0</td>\n",
       "      <td>0</td>\n",
       "      <td>0</td>\n",
       "      <td>0</td>\n",
       "      <td>1</td>\n",
       "      <td>0</td>\n",
       "      <td>0</td>\n",
       "      <td>0</td>\n",
       "      <td>0</td>\n",
       "      <td>0</td>\n",
       "      <td>0</td>\n",
       "      <td>1</td>\n",
       "      <td>0</td>\n",
       "      <td>0</td>\n",
       "      <td>0</td>\n",
       "      <td>1</td>\n",
       "      <td>0</td>\n",
       "      <td>0</td>\n",
       "      <td>0</td>\n",
       "      <td>1</td>\n",
       "      <td>0</td>\n",
       "      <td>0</td>\n",
       "      <td>0</td>\n",
       "      <td>0</td>\n",
       "      <td>0</td>\n",
       "      <td>1</td>\n",
       "      <td>0</td>\n",
       "      <td>0</td>\n",
       "      <td>0</td>\n",
       "      <td>0</td>\n",
       "      <td>0</td>\n",
       "      <td>0</td>\n",
       "      <td>0</td>\n",
       "      <td>0</td>\n",
       "      <td>0</td>\n",
       "      <td>0</td>\n",
       "      <td>1</td>\n",
       "      <td>0</td>\n",
       "      <td>0</td>\n",
       "      <td>0</td>\n",
       "      <td>0</td>\n",
       "    </tr>\n",
       "    <tr>\n",
       "      <th>1</th>\n",
       "      <td>0</td>\n",
       "      <td>0</td>\n",
       "      <td>5.0</td>\n",
       "      <td>674</td>\n",
       "      <td>2.5</td>\n",
       "      <td>0</td>\n",
       "      <td>0</td>\n",
       "      <td>0</td>\n",
       "      <td>0</td>\n",
       "      <td>1</td>\n",
       "      <td>0</td>\n",
       "      <td>0</td>\n",
       "      <td>1</td>\n",
       "      <td>0</td>\n",
       "      <td>0</td>\n",
       "      <td>0</td>\n",
       "      <td>0</td>\n",
       "      <td>0</td>\n",
       "      <td>0</td>\n",
       "      <td>0</td>\n",
       "      <td>0</td>\n",
       "      <td>0</td>\n",
       "      <td>1</td>\n",
       "      <td>0</td>\n",
       "      <td>0</td>\n",
       "      <td>0</td>\n",
       "      <td>1</td>\n",
       "      <td>0</td>\n",
       "      <td>0</td>\n",
       "      <td>0</td>\n",
       "      <td>0</td>\n",
       "      <td>0</td>\n",
       "      <td>0</td>\n",
       "      <td>1</td>\n",
       "      <td>0</td>\n",
       "      <td>0</td>\n",
       "      <td>0</td>\n",
       "      <td>0</td>\n",
       "      <td>1</td>\n",
       "      <td>0</td>\n",
       "      <td>0</td>\n",
       "      <td>0</td>\n",
       "      <td>0</td>\n",
       "      <td>0</td>\n",
       "      <td>0</td>\n",
       "      <td>0</td>\n",
       "      <td>1</td>\n",
       "      <td>0</td>\n",
       "      <td>0</td>\n",
       "      <td>0</td>\n",
       "      <td>0</td>\n",
       "      <td>0</td>\n",
       "    </tr>\n",
       "    <tr>\n",
       "      <th>2</th>\n",
       "      <td>0</td>\n",
       "      <td>1</td>\n",
       "      <td>2.0</td>\n",
       "      <td>1532</td>\n",
       "      <td>2.0</td>\n",
       "      <td>1</td>\n",
       "      <td>0</td>\n",
       "      <td>0</td>\n",
       "      <td>0</td>\n",
       "      <td>0</td>\n",
       "      <td>0</td>\n",
       "      <td>0</td>\n",
       "      <td>1</td>\n",
       "      <td>0</td>\n",
       "      <td>0</td>\n",
       "      <td>0</td>\n",
       "      <td>0</td>\n",
       "      <td>0</td>\n",
       "      <td>0</td>\n",
       "      <td>0</td>\n",
       "      <td>0</td>\n",
       "      <td>0</td>\n",
       "      <td>0</td>\n",
       "      <td>0</td>\n",
       "      <td>0</td>\n",
       "      <td>1</td>\n",
       "      <td>0</td>\n",
       "      <td>0</td>\n",
       "      <td>0</td>\n",
       "      <td>0</td>\n",
       "      <td>0</td>\n",
       "      <td>0</td>\n",
       "      <td>0</td>\n",
       "      <td>0</td>\n",
       "      <td>1</td>\n",
       "      <td>0</td>\n",
       "      <td>0</td>\n",
       "      <td>1</td>\n",
       "      <td>0</td>\n",
       "      <td>0</td>\n",
       "      <td>0</td>\n",
       "      <td>0</td>\n",
       "      <td>0</td>\n",
       "      <td>0</td>\n",
       "      <td>0</td>\n",
       "      <td>1</td>\n",
       "      <td>1</td>\n",
       "      <td>0</td>\n",
       "      <td>0</td>\n",
       "      <td>0</td>\n",
       "      <td>0</td>\n",
       "      <td>0</td>\n",
       "    </tr>\n",
       "    <tr>\n",
       "      <th>3</th>\n",
       "      <td>0</td>\n",
       "      <td>0</td>\n",
       "      <td>1.0</td>\n",
       "      <td>305</td>\n",
       "      <td>1.0</td>\n",
       "      <td>1</td>\n",
       "      <td>0</td>\n",
       "      <td>0</td>\n",
       "      <td>0</td>\n",
       "      <td>0</td>\n",
       "      <td>0</td>\n",
       "      <td>0</td>\n",
       "      <td>0</td>\n",
       "      <td>0</td>\n",
       "      <td>0</td>\n",
       "      <td>0</td>\n",
       "      <td>0</td>\n",
       "      <td>1</td>\n",
       "      <td>0</td>\n",
       "      <td>0</td>\n",
       "      <td>0</td>\n",
       "      <td>0</td>\n",
       "      <td>0</td>\n",
       "      <td>0</td>\n",
       "      <td>1</td>\n",
       "      <td>0</td>\n",
       "      <td>1</td>\n",
       "      <td>0</td>\n",
       "      <td>0</td>\n",
       "      <td>0</td>\n",
       "      <td>0</td>\n",
       "      <td>0</td>\n",
       "      <td>0</td>\n",
       "      <td>1</td>\n",
       "      <td>0</td>\n",
       "      <td>0</td>\n",
       "      <td>0</td>\n",
       "      <td>0</td>\n",
       "      <td>1</td>\n",
       "      <td>0</td>\n",
       "      <td>0</td>\n",
       "      <td>0</td>\n",
       "      <td>0</td>\n",
       "      <td>0</td>\n",
       "      <td>0</td>\n",
       "      <td>0</td>\n",
       "      <td>0</td>\n",
       "      <td>1</td>\n",
       "      <td>0</td>\n",
       "      <td>0</td>\n",
       "      <td>0</td>\n",
       "      <td>0</td>\n",
       "    </tr>\n",
       "    <tr>\n",
       "      <th>4</th>\n",
       "      <td>0</td>\n",
       "      <td>1</td>\n",
       "      <td>2.0</td>\n",
       "      <td>1428</td>\n",
       "      <td>1.0</td>\n",
       "      <td>1</td>\n",
       "      <td>0</td>\n",
       "      <td>1</td>\n",
       "      <td>0</td>\n",
       "      <td>0</td>\n",
       "      <td>0</td>\n",
       "      <td>0</td>\n",
       "      <td>0</td>\n",
       "      <td>0</td>\n",
       "      <td>0</td>\n",
       "      <td>0</td>\n",
       "      <td>0</td>\n",
       "      <td>0</td>\n",
       "      <td>0</td>\n",
       "      <td>0</td>\n",
       "      <td>0</td>\n",
       "      <td>0</td>\n",
       "      <td>1</td>\n",
       "      <td>0</td>\n",
       "      <td>0</td>\n",
       "      <td>0</td>\n",
       "      <td>1</td>\n",
       "      <td>0</td>\n",
       "      <td>0</td>\n",
       "      <td>0</td>\n",
       "      <td>0</td>\n",
       "      <td>0</td>\n",
       "      <td>0</td>\n",
       "      <td>0</td>\n",
       "      <td>1</td>\n",
       "      <td>0</td>\n",
       "      <td>0</td>\n",
       "      <td>1</td>\n",
       "      <td>0</td>\n",
       "      <td>0</td>\n",
       "      <td>0</td>\n",
       "      <td>0</td>\n",
       "      <td>0</td>\n",
       "      <td>0</td>\n",
       "      <td>0</td>\n",
       "      <td>0</td>\n",
       "      <td>0</td>\n",
       "      <td>1</td>\n",
       "      <td>0</td>\n",
       "      <td>0</td>\n",
       "      <td>0</td>\n",
       "      <td>0</td>\n",
       "    </tr>\n",
       "  </tbody>\n",
       "</table>\n",
       "</div>"
      ],
      "text/plain": [
       "   Do Not Email  Converted  TotalVisits  Total Time Spent on Website  \\\n",
       "0             0          0          0.0                            0   \n",
       "1             0          0          5.0                          674   \n",
       "2             0          1          2.0                         1532   \n",
       "3             0          0          1.0                          305   \n",
       "4             0          1          2.0                         1428   \n",
       "\n",
       "   Page Views Per Visit  Lead Origin_Landing Page Submission  \\\n",
       "0                   0.0                                    0   \n",
       "1                   2.5                                    0   \n",
       "2                   2.0                                    1   \n",
       "3                   1.0                                    1   \n",
       "4                   1.0                                    1   \n",
       "\n",
       "   Lead Origin_Lead Add Form  Lead Source_Google  Lead Source_Olark Chat  \\\n",
       "0                          0                   0                       1   \n",
       "1                          0                   0                       0   \n",
       "2                          0                   0                       0   \n",
       "3                          0                   0                       0   \n",
       "4                          0                   1                       0   \n",
       "\n",
       "   Lead Source_Organic Search  Lead Source_Others  Lead Source_Reference  \\\n",
       "0                           0                   0                      0   \n",
       "1                           1                   0                      0   \n",
       "2                           0                   0                      0   \n",
       "3                           0                   0                      0   \n",
       "4                           0                   0                      0   \n",
       "\n",
       "   Last Activity_Email Opened  Last Activity_Olark Chat Conversation  \\\n",
       "0                           0                                      0   \n",
       "1                           1                                      0   \n",
       "2                           1                                      0   \n",
       "3                           0                                      0   \n",
       "4                           0                                      0   \n",
       "\n",
       "   Last Activity_Others  Last Activity_Page Visited on Website  \\\n",
       "0                     0                                      1   \n",
       "1                     0                                      0   \n",
       "2                     0                                      0   \n",
       "3                     0                                      0   \n",
       "4                     0                                      0   \n",
       "\n",
       "   Last Activity_SMS Sent  Last Activity_Unreachable  \\\n",
       "0                       0                          0   \n",
       "1                       0                          0   \n",
       "2                       0                          0   \n",
       "3                       0                          1   \n",
       "4                       0                          0   \n",
       "\n",
       "   Specialization_Finance Management  \\\n",
       "0                                  0   \n",
       "1                                  0   \n",
       "2                                  0   \n",
       "3                                  0   \n",
       "4                                  0   \n",
       "\n",
       "   Specialization_Human Resource Management  \\\n",
       "0                                         0   \n",
       "1                                         0   \n",
       "2                                         0   \n",
       "3                                         0   \n",
       "4                                         0   \n",
       "\n",
       "   Specialization_IT Projects Management  Specialization_Marketing Management  \\\n",
       "0                                      0                                    0   \n",
       "1                                      0                                    0   \n",
       "2                                      0                                    0   \n",
       "3                                      0                                    0   \n",
       "4                                      0                                    0   \n",
       "\n",
       "   Specialization_Not_Specified  Specialization_Operations Management  \\\n",
       "0                             1                                     0   \n",
       "1                             1                                     0   \n",
       "2                             0                                     0   \n",
       "3                             0                                     0   \n",
       "4                             1                                     0   \n",
       "\n",
       "   Specialization_Others  Current Occupation_Student  \\\n",
       "0                      0                           0   \n",
       "1                      0                           0   \n",
       "2                      0                           1   \n",
       "3                      1                           0   \n",
       "4                      0                           0   \n",
       "\n",
       "   Current Occupation_Unemployed  Current Occupation_Working Professional  \\\n",
       "0                              1                                        0   \n",
       "1                              1                                        0   \n",
       "2                              0                                        0   \n",
       "3                              1                                        0   \n",
       "4                              1                                        0   \n",
       "\n",
       "   Tags_Busy  Tags_Closed by Horizzon  Tags_Interested in other courses  \\\n",
       "0          0                        0                                 1   \n",
       "1          0                        0                                 0   \n",
       "2          0                        0                                 0   \n",
       "3          0                        0                                 0   \n",
       "4          0                        0                                 0   \n",
       "\n",
       "   Tags_Lost to EINS  Tags_Others  Tags_Ringing  \\\n",
       "0                  0            0             0   \n",
       "1                  0            0             1   \n",
       "2                  0            0             0   \n",
       "3                  0            0             1   \n",
       "4                  0            0             0   \n",
       "\n",
       "   Tags_Will revert after reading the email  Tags_switched off  \\\n",
       "0                                         0                  0   \n",
       "1                                         0                  0   \n",
       "2                                         1                  0   \n",
       "3                                         0                  0   \n",
       "4                                         1                  0   \n",
       "\n",
       "   Lead Quality_Low in Relevance  Lead Quality_Might be  \\\n",
       "0                              1                      0   \n",
       "1                              0                      0   \n",
       "2                              0                      1   \n",
       "3                              0                      0   \n",
       "4                              0                      1   \n",
       "\n",
       "   Lead Quality_Not Sure  Lead Quality_Worst  City_Other Cities  \\\n",
       "0                      0                   0                  0   \n",
       "1                      1                   0                  0   \n",
       "2                      0                   0                  0   \n",
       "3                      1                   0                  0   \n",
       "4                      0                   0                  0   \n",
       "\n",
       "   City_Other Cities of Maharashtra  City_Other Metro Cities  \\\n",
       "0                                 0                        0   \n",
       "1                                 0                        0   \n",
       "2                                 0                        0   \n",
       "3                                 0                        0   \n",
       "4                                 0                        0   \n",
       "\n",
       "   City_Thane & Outskirts  City_Tier II Cities  \\\n",
       "0                       0                    0   \n",
       "1                       0                    0   \n",
       "2                       0                    0   \n",
       "3                       0                    0   \n",
       "4                       0                    0   \n",
       "\n",
       "   A free copy of Mastering The Interview_Yes  \\\n",
       "0                                           0   \n",
       "1                                           0   \n",
       "2                                           1   \n",
       "3                                           0   \n",
       "4                                           0   \n",
       "\n",
       "   Last Notable Activity_Email Opened  Last Notable Activity_Modified  \\\n",
       "0                                   0                               1   \n",
       "1                                   1                               0   \n",
       "2                                   1                               0   \n",
       "3                                   0                               1   \n",
       "4                                   0                               1   \n",
       "\n",
       "   Last Notable Activity_Olark Chat Conversation  \\\n",
       "0                                              0   \n",
       "1                                              0   \n",
       "2                                              0   \n",
       "3                                              0   \n",
       "4                                              0   \n",
       "\n",
       "   Last Notable Activity_Others  \\\n",
       "0                             0   \n",
       "1                             0   \n",
       "2                             0   \n",
       "3                             0   \n",
       "4                             0   \n",
       "\n",
       "   Last Notable Activity_Page Visited on Website  \\\n",
       "0                                              0   \n",
       "1                                              0   \n",
       "2                                              0   \n",
       "3                                              0   \n",
       "4                                              0   \n",
       "\n",
       "   Last Notable Activity_SMS Sent  \n",
       "0                               0  \n",
       "1                               0  \n",
       "2                               0  \n",
       "3                               0  \n",
       "4                               0  "
      ]
     },
     "execution_count": 110,
     "metadata": {},
     "output_type": "execute_result"
    }
   ],
   "source": [
    "#removing the original categorical columns after getting dummies\n",
    "lead.drop(category_cols, axis=1, inplace=True)\n",
    "lead.head()"
   ]
  },
  {
   "cell_type": "code",
   "execution_count": 111,
   "id": "911904c5",
   "metadata": {
    "ExecuteTime": {
     "end_time": "2021-06-21T16:26:00.083712Z",
     "start_time": "2021-06-21T16:26:00.069863Z"
    }
   },
   "outputs": [
    {
     "name": "stdout",
     "output_type": "stream",
     "text": [
      "<class 'pandas.core.frame.DataFrame'>\n",
      "Int64Index: 8416 entries, 0 to 9239\n",
      "Data columns (total 52 columns):\n",
      " #   Column                                         Non-Null Count  Dtype  \n",
      "---  ------                                         --------------  -----  \n",
      " 0   Do Not Email                                   8416 non-null   int64  \n",
      " 1   Converted                                      8416 non-null   int64  \n",
      " 2   TotalVisits                                    8416 non-null   float64\n",
      " 3   Total Time Spent on Website                    8416 non-null   int64  \n",
      " 4   Page Views Per Visit                           8416 non-null   float64\n",
      " 5   Lead Origin_Landing Page Submission            8416 non-null   uint8  \n",
      " 6   Lead Origin_Lead Add Form                      8416 non-null   uint8  \n",
      " 7   Lead Source_Google                             8416 non-null   uint8  \n",
      " 8   Lead Source_Olark Chat                         8416 non-null   uint8  \n",
      " 9   Lead Source_Organic Search                     8416 non-null   uint8  \n",
      " 10  Lead Source_Others                             8416 non-null   uint8  \n",
      " 11  Lead Source_Reference                          8416 non-null   uint8  \n",
      " 12  Last Activity_Email Opened                     8416 non-null   uint8  \n",
      " 13  Last Activity_Olark Chat Conversation          8416 non-null   uint8  \n",
      " 14  Last Activity_Others                           8416 non-null   uint8  \n",
      " 15  Last Activity_Page Visited on Website          8416 non-null   uint8  \n",
      " 16  Last Activity_SMS Sent                         8416 non-null   uint8  \n",
      " 17  Last Activity_Unreachable                      8416 non-null   uint8  \n",
      " 18  Specialization_Finance Management              8416 non-null   uint8  \n",
      " 19  Specialization_Human Resource Management       8416 non-null   uint8  \n",
      " 20  Specialization_IT Projects Management          8416 non-null   uint8  \n",
      " 21  Specialization_Marketing Management            8416 non-null   uint8  \n",
      " 22  Specialization_Not_Specified                   8416 non-null   uint8  \n",
      " 23  Specialization_Operations Management           8416 non-null   uint8  \n",
      " 24  Specialization_Others                          8416 non-null   uint8  \n",
      " 25  Current Occupation_Student                     8416 non-null   uint8  \n",
      " 26  Current Occupation_Unemployed                  8416 non-null   uint8  \n",
      " 27  Current Occupation_Working Professional        8416 non-null   uint8  \n",
      " 28  Tags_Busy                                      8416 non-null   uint8  \n",
      " 29  Tags_Closed by Horizzon                        8416 non-null   uint8  \n",
      " 30  Tags_Interested in other courses               8416 non-null   uint8  \n",
      " 31  Tags_Lost to EINS                              8416 non-null   uint8  \n",
      " 32  Tags_Others                                    8416 non-null   uint8  \n",
      " 33  Tags_Ringing                                   8416 non-null   uint8  \n",
      " 34  Tags_Will revert after reading the email       8416 non-null   uint8  \n",
      " 35  Tags_switched off                              8416 non-null   uint8  \n",
      " 36  Lead Quality_Low in Relevance                  8416 non-null   uint8  \n",
      " 37  Lead Quality_Might be                          8416 non-null   uint8  \n",
      " 38  Lead Quality_Not Sure                          8416 non-null   uint8  \n",
      " 39  Lead Quality_Worst                             8416 non-null   uint8  \n",
      " 40  City_Other Cities                              8416 non-null   uint8  \n",
      " 41  City_Other Cities of Maharashtra               8416 non-null   uint8  \n",
      " 42  City_Other Metro Cities                        8416 non-null   uint8  \n",
      " 43  City_Thane & Outskirts                         8416 non-null   uint8  \n",
      " 44  City_Tier II Cities                            8416 non-null   uint8  \n",
      " 45  A free copy of Mastering The Interview_Yes     8416 non-null   uint8  \n",
      " 46  Last Notable Activity_Email Opened             8416 non-null   uint8  \n",
      " 47  Last Notable Activity_Modified                 8416 non-null   uint8  \n",
      " 48  Last Notable Activity_Olark Chat Conversation  8416 non-null   uint8  \n",
      " 49  Last Notable Activity_Others                   8416 non-null   uint8  \n",
      " 50  Last Notable Activity_Page Visited on Website  8416 non-null   uint8  \n",
      " 51  Last Notable Activity_SMS Sent                 8416 non-null   uint8  \n",
      "dtypes: float64(2), int64(3), uint8(47)\n",
      "memory usage: 1.0 MB\n"
     ]
    }
   ],
   "source": [
    "#checking the final columns proceeding further\n",
    "lead.info()"
   ]
  },
  {
   "cell_type": "markdown",
   "id": "1e766142",
   "metadata": {},
   "source": [
    "# Model Building"
   ]
  },
  {
   "cell_type": "code",
   "execution_count": 112,
   "id": "056d10ef",
   "metadata": {
    "ExecuteTime": {
     "end_time": "2021-06-21T16:26:00.360026Z",
     "start_time": "2021-06-21T16:26:00.085212Z"
    }
   },
   "outputs": [],
   "source": [
    "from sklearn.model_selection import train_test_split\n",
    "\n",
    "# defining target variable and Dependent Variables\n",
    "\n",
    "y = lead.pop('Converted')\n",
    "X = lead"
   ]
  },
  {
   "cell_type": "code",
   "execution_count": 113,
   "id": "01374d4c",
   "metadata": {
    "ExecuteTime": {
     "end_time": "2021-06-21T16:26:00.390798Z",
     "start_time": "2021-06-21T16:26:00.361018Z"
    }
   },
   "outputs": [
    {
     "data": {
      "text/html": [
       "<div>\n",
       "<style scoped>\n",
       "    .dataframe tbody tr th:only-of-type {\n",
       "        vertical-align: middle;\n",
       "    }\n",
       "\n",
       "    .dataframe tbody tr th {\n",
       "        vertical-align: top;\n",
       "    }\n",
       "\n",
       "    .dataframe thead th {\n",
       "        text-align: right;\n",
       "    }\n",
       "</style>\n",
       "<table border=\"1\" class=\"dataframe\">\n",
       "  <thead>\n",
       "    <tr style=\"text-align: right;\">\n",
       "      <th></th>\n",
       "      <th>Do Not Email</th>\n",
       "      <th>TotalVisits</th>\n",
       "      <th>Total Time Spent on Website</th>\n",
       "      <th>Page Views Per Visit</th>\n",
       "      <th>Lead Origin_Landing Page Submission</th>\n",
       "      <th>Lead Origin_Lead Add Form</th>\n",
       "      <th>Lead Source_Google</th>\n",
       "      <th>Lead Source_Olark Chat</th>\n",
       "      <th>Lead Source_Organic Search</th>\n",
       "      <th>Lead Source_Others</th>\n",
       "      <th>Lead Source_Reference</th>\n",
       "      <th>Last Activity_Email Opened</th>\n",
       "      <th>Last Activity_Olark Chat Conversation</th>\n",
       "      <th>Last Activity_Others</th>\n",
       "      <th>Last Activity_Page Visited on Website</th>\n",
       "      <th>Last Activity_SMS Sent</th>\n",
       "      <th>Last Activity_Unreachable</th>\n",
       "      <th>Specialization_Finance Management</th>\n",
       "      <th>Specialization_Human Resource Management</th>\n",
       "      <th>Specialization_IT Projects Management</th>\n",
       "      <th>Specialization_Marketing Management</th>\n",
       "      <th>Specialization_Not_Specified</th>\n",
       "      <th>Specialization_Operations Management</th>\n",
       "      <th>Specialization_Others</th>\n",
       "      <th>Current Occupation_Student</th>\n",
       "      <th>Current Occupation_Unemployed</th>\n",
       "      <th>Current Occupation_Working Professional</th>\n",
       "      <th>Tags_Busy</th>\n",
       "      <th>Tags_Closed by Horizzon</th>\n",
       "      <th>Tags_Interested in other courses</th>\n",
       "      <th>Tags_Lost to EINS</th>\n",
       "      <th>Tags_Others</th>\n",
       "      <th>Tags_Ringing</th>\n",
       "      <th>Tags_Will revert after reading the email</th>\n",
       "      <th>Tags_switched off</th>\n",
       "      <th>Lead Quality_Low in Relevance</th>\n",
       "      <th>Lead Quality_Might be</th>\n",
       "      <th>Lead Quality_Not Sure</th>\n",
       "      <th>Lead Quality_Worst</th>\n",
       "      <th>City_Other Cities</th>\n",
       "      <th>City_Other Cities of Maharashtra</th>\n",
       "      <th>City_Other Metro Cities</th>\n",
       "      <th>City_Thane &amp; Outskirts</th>\n",
       "      <th>City_Tier II Cities</th>\n",
       "      <th>A free copy of Mastering The Interview_Yes</th>\n",
       "      <th>Last Notable Activity_Email Opened</th>\n",
       "      <th>Last Notable Activity_Modified</th>\n",
       "      <th>Last Notable Activity_Olark Chat Conversation</th>\n",
       "      <th>Last Notable Activity_Others</th>\n",
       "      <th>Last Notable Activity_Page Visited on Website</th>\n",
       "      <th>Last Notable Activity_SMS Sent</th>\n",
       "    </tr>\n",
       "  </thead>\n",
       "  <tbody>\n",
       "    <tr>\n",
       "      <th>0</th>\n",
       "      <td>0</td>\n",
       "      <td>0.0</td>\n",
       "      <td>0</td>\n",
       "      <td>0.0</td>\n",
       "      <td>0</td>\n",
       "      <td>0</td>\n",
       "      <td>0</td>\n",
       "      <td>1</td>\n",
       "      <td>0</td>\n",
       "      <td>0</td>\n",
       "      <td>0</td>\n",
       "      <td>0</td>\n",
       "      <td>0</td>\n",
       "      <td>0</td>\n",
       "      <td>1</td>\n",
       "      <td>0</td>\n",
       "      <td>0</td>\n",
       "      <td>0</td>\n",
       "      <td>0</td>\n",
       "      <td>0</td>\n",
       "      <td>0</td>\n",
       "      <td>1</td>\n",
       "      <td>0</td>\n",
       "      <td>0</td>\n",
       "      <td>0</td>\n",
       "      <td>1</td>\n",
       "      <td>0</td>\n",
       "      <td>0</td>\n",
       "      <td>0</td>\n",
       "      <td>1</td>\n",
       "      <td>0</td>\n",
       "      <td>0</td>\n",
       "      <td>0</td>\n",
       "      <td>0</td>\n",
       "      <td>0</td>\n",
       "      <td>1</td>\n",
       "      <td>0</td>\n",
       "      <td>0</td>\n",
       "      <td>0</td>\n",
       "      <td>0</td>\n",
       "      <td>0</td>\n",
       "      <td>0</td>\n",
       "      <td>0</td>\n",
       "      <td>0</td>\n",
       "      <td>0</td>\n",
       "      <td>0</td>\n",
       "      <td>1</td>\n",
       "      <td>0</td>\n",
       "      <td>0</td>\n",
       "      <td>0</td>\n",
       "      <td>0</td>\n",
       "    </tr>\n",
       "    <tr>\n",
       "      <th>1</th>\n",
       "      <td>0</td>\n",
       "      <td>5.0</td>\n",
       "      <td>674</td>\n",
       "      <td>2.5</td>\n",
       "      <td>0</td>\n",
       "      <td>0</td>\n",
       "      <td>0</td>\n",
       "      <td>0</td>\n",
       "      <td>1</td>\n",
       "      <td>0</td>\n",
       "      <td>0</td>\n",
       "      <td>1</td>\n",
       "      <td>0</td>\n",
       "      <td>0</td>\n",
       "      <td>0</td>\n",
       "      <td>0</td>\n",
       "      <td>0</td>\n",
       "      <td>0</td>\n",
       "      <td>0</td>\n",
       "      <td>0</td>\n",
       "      <td>0</td>\n",
       "      <td>1</td>\n",
       "      <td>0</td>\n",
       "      <td>0</td>\n",
       "      <td>0</td>\n",
       "      <td>1</td>\n",
       "      <td>0</td>\n",
       "      <td>0</td>\n",
       "      <td>0</td>\n",
       "      <td>0</td>\n",
       "      <td>0</td>\n",
       "      <td>0</td>\n",
       "      <td>1</td>\n",
       "      <td>0</td>\n",
       "      <td>0</td>\n",
       "      <td>0</td>\n",
       "      <td>0</td>\n",
       "      <td>1</td>\n",
       "      <td>0</td>\n",
       "      <td>0</td>\n",
       "      <td>0</td>\n",
       "      <td>0</td>\n",
       "      <td>0</td>\n",
       "      <td>0</td>\n",
       "      <td>0</td>\n",
       "      <td>1</td>\n",
       "      <td>0</td>\n",
       "      <td>0</td>\n",
       "      <td>0</td>\n",
       "      <td>0</td>\n",
       "      <td>0</td>\n",
       "    </tr>\n",
       "    <tr>\n",
       "      <th>2</th>\n",
       "      <td>0</td>\n",
       "      <td>2.0</td>\n",
       "      <td>1532</td>\n",
       "      <td>2.0</td>\n",
       "      <td>1</td>\n",
       "      <td>0</td>\n",
       "      <td>0</td>\n",
       "      <td>0</td>\n",
       "      <td>0</td>\n",
       "      <td>0</td>\n",
       "      <td>0</td>\n",
       "      <td>1</td>\n",
       "      <td>0</td>\n",
       "      <td>0</td>\n",
       "      <td>0</td>\n",
       "      <td>0</td>\n",
       "      <td>0</td>\n",
       "      <td>0</td>\n",
       "      <td>0</td>\n",
       "      <td>0</td>\n",
       "      <td>0</td>\n",
       "      <td>0</td>\n",
       "      <td>0</td>\n",
       "      <td>0</td>\n",
       "      <td>1</td>\n",
       "      <td>0</td>\n",
       "      <td>0</td>\n",
       "      <td>0</td>\n",
       "      <td>0</td>\n",
       "      <td>0</td>\n",
       "      <td>0</td>\n",
       "      <td>0</td>\n",
       "      <td>0</td>\n",
       "      <td>1</td>\n",
       "      <td>0</td>\n",
       "      <td>0</td>\n",
       "      <td>1</td>\n",
       "      <td>0</td>\n",
       "      <td>0</td>\n",
       "      <td>0</td>\n",
       "      <td>0</td>\n",
       "      <td>0</td>\n",
       "      <td>0</td>\n",
       "      <td>0</td>\n",
       "      <td>1</td>\n",
       "      <td>1</td>\n",
       "      <td>0</td>\n",
       "      <td>0</td>\n",
       "      <td>0</td>\n",
       "      <td>0</td>\n",
       "      <td>0</td>\n",
       "    </tr>\n",
       "    <tr>\n",
       "      <th>3</th>\n",
       "      <td>0</td>\n",
       "      <td>1.0</td>\n",
       "      <td>305</td>\n",
       "      <td>1.0</td>\n",
       "      <td>1</td>\n",
       "      <td>0</td>\n",
       "      <td>0</td>\n",
       "      <td>0</td>\n",
       "      <td>0</td>\n",
       "      <td>0</td>\n",
       "      <td>0</td>\n",
       "      <td>0</td>\n",
       "      <td>0</td>\n",
       "      <td>0</td>\n",
       "      <td>0</td>\n",
       "      <td>0</td>\n",
       "      <td>1</td>\n",
       "      <td>0</td>\n",
       "      <td>0</td>\n",
       "      <td>0</td>\n",
       "      <td>0</td>\n",
       "      <td>0</td>\n",
       "      <td>0</td>\n",
       "      <td>1</td>\n",
       "      <td>0</td>\n",
       "      <td>1</td>\n",
       "      <td>0</td>\n",
       "      <td>0</td>\n",
       "      <td>0</td>\n",
       "      <td>0</td>\n",
       "      <td>0</td>\n",
       "      <td>0</td>\n",
       "      <td>1</td>\n",
       "      <td>0</td>\n",
       "      <td>0</td>\n",
       "      <td>0</td>\n",
       "      <td>0</td>\n",
       "      <td>1</td>\n",
       "      <td>0</td>\n",
       "      <td>0</td>\n",
       "      <td>0</td>\n",
       "      <td>0</td>\n",
       "      <td>0</td>\n",
       "      <td>0</td>\n",
       "      <td>0</td>\n",
       "      <td>0</td>\n",
       "      <td>1</td>\n",
       "      <td>0</td>\n",
       "      <td>0</td>\n",
       "      <td>0</td>\n",
       "      <td>0</td>\n",
       "    </tr>\n",
       "    <tr>\n",
       "      <th>4</th>\n",
       "      <td>0</td>\n",
       "      <td>2.0</td>\n",
       "      <td>1428</td>\n",
       "      <td>1.0</td>\n",
       "      <td>1</td>\n",
       "      <td>0</td>\n",
       "      <td>1</td>\n",
       "      <td>0</td>\n",
       "      <td>0</td>\n",
       "      <td>0</td>\n",
       "      <td>0</td>\n",
       "      <td>0</td>\n",
       "      <td>0</td>\n",
       "      <td>0</td>\n",
       "      <td>0</td>\n",
       "      <td>0</td>\n",
       "      <td>0</td>\n",
       "      <td>0</td>\n",
       "      <td>0</td>\n",
       "      <td>0</td>\n",
       "      <td>0</td>\n",
       "      <td>1</td>\n",
       "      <td>0</td>\n",
       "      <td>0</td>\n",
       "      <td>0</td>\n",
       "      <td>1</td>\n",
       "      <td>0</td>\n",
       "      <td>0</td>\n",
       "      <td>0</td>\n",
       "      <td>0</td>\n",
       "      <td>0</td>\n",
       "      <td>0</td>\n",
       "      <td>0</td>\n",
       "      <td>1</td>\n",
       "      <td>0</td>\n",
       "      <td>0</td>\n",
       "      <td>1</td>\n",
       "      <td>0</td>\n",
       "      <td>0</td>\n",
       "      <td>0</td>\n",
       "      <td>0</td>\n",
       "      <td>0</td>\n",
       "      <td>0</td>\n",
       "      <td>0</td>\n",
       "      <td>0</td>\n",
       "      <td>0</td>\n",
       "      <td>1</td>\n",
       "      <td>0</td>\n",
       "      <td>0</td>\n",
       "      <td>0</td>\n",
       "      <td>0</td>\n",
       "    </tr>\n",
       "  </tbody>\n",
       "</table>\n",
       "</div>"
      ],
      "text/plain": [
       "   Do Not Email  TotalVisits  Total Time Spent on Website  \\\n",
       "0             0          0.0                            0   \n",
       "1             0          5.0                          674   \n",
       "2             0          2.0                         1532   \n",
       "3             0          1.0                          305   \n",
       "4             0          2.0                         1428   \n",
       "\n",
       "   Page Views Per Visit  Lead Origin_Landing Page Submission  \\\n",
       "0                   0.0                                    0   \n",
       "1                   2.5                                    0   \n",
       "2                   2.0                                    1   \n",
       "3                   1.0                                    1   \n",
       "4                   1.0                                    1   \n",
       "\n",
       "   Lead Origin_Lead Add Form  Lead Source_Google  Lead Source_Olark Chat  \\\n",
       "0                          0                   0                       1   \n",
       "1                          0                   0                       0   \n",
       "2                          0                   0                       0   \n",
       "3                          0                   0                       0   \n",
       "4                          0                   1                       0   \n",
       "\n",
       "   Lead Source_Organic Search  Lead Source_Others  Lead Source_Reference  \\\n",
       "0                           0                   0                      0   \n",
       "1                           1                   0                      0   \n",
       "2                           0                   0                      0   \n",
       "3                           0                   0                      0   \n",
       "4                           0                   0                      0   \n",
       "\n",
       "   Last Activity_Email Opened  Last Activity_Olark Chat Conversation  \\\n",
       "0                           0                                      0   \n",
       "1                           1                                      0   \n",
       "2                           1                                      0   \n",
       "3                           0                                      0   \n",
       "4                           0                                      0   \n",
       "\n",
       "   Last Activity_Others  Last Activity_Page Visited on Website  \\\n",
       "0                     0                                      1   \n",
       "1                     0                                      0   \n",
       "2                     0                                      0   \n",
       "3                     0                                      0   \n",
       "4                     0                                      0   \n",
       "\n",
       "   Last Activity_SMS Sent  Last Activity_Unreachable  \\\n",
       "0                       0                          0   \n",
       "1                       0                          0   \n",
       "2                       0                          0   \n",
       "3                       0                          1   \n",
       "4                       0                          0   \n",
       "\n",
       "   Specialization_Finance Management  \\\n",
       "0                                  0   \n",
       "1                                  0   \n",
       "2                                  0   \n",
       "3                                  0   \n",
       "4                                  0   \n",
       "\n",
       "   Specialization_Human Resource Management  \\\n",
       "0                                         0   \n",
       "1                                         0   \n",
       "2                                         0   \n",
       "3                                         0   \n",
       "4                                         0   \n",
       "\n",
       "   Specialization_IT Projects Management  Specialization_Marketing Management  \\\n",
       "0                                      0                                    0   \n",
       "1                                      0                                    0   \n",
       "2                                      0                                    0   \n",
       "3                                      0                                    0   \n",
       "4                                      0                                    0   \n",
       "\n",
       "   Specialization_Not_Specified  Specialization_Operations Management  \\\n",
       "0                             1                                     0   \n",
       "1                             1                                     0   \n",
       "2                             0                                     0   \n",
       "3                             0                                     0   \n",
       "4                             1                                     0   \n",
       "\n",
       "   Specialization_Others  Current Occupation_Student  \\\n",
       "0                      0                           0   \n",
       "1                      0                           0   \n",
       "2                      0                           1   \n",
       "3                      1                           0   \n",
       "4                      0                           0   \n",
       "\n",
       "   Current Occupation_Unemployed  Current Occupation_Working Professional  \\\n",
       "0                              1                                        0   \n",
       "1                              1                                        0   \n",
       "2                              0                                        0   \n",
       "3                              1                                        0   \n",
       "4                              1                                        0   \n",
       "\n",
       "   Tags_Busy  Tags_Closed by Horizzon  Tags_Interested in other courses  \\\n",
       "0          0                        0                                 1   \n",
       "1          0                        0                                 0   \n",
       "2          0                        0                                 0   \n",
       "3          0                        0                                 0   \n",
       "4          0                        0                                 0   \n",
       "\n",
       "   Tags_Lost to EINS  Tags_Others  Tags_Ringing  \\\n",
       "0                  0            0             0   \n",
       "1                  0            0             1   \n",
       "2                  0            0             0   \n",
       "3                  0            0             1   \n",
       "4                  0            0             0   \n",
       "\n",
       "   Tags_Will revert after reading the email  Tags_switched off  \\\n",
       "0                                         0                  0   \n",
       "1                                         0                  0   \n",
       "2                                         1                  0   \n",
       "3                                         0                  0   \n",
       "4                                         1                  0   \n",
       "\n",
       "   Lead Quality_Low in Relevance  Lead Quality_Might be  \\\n",
       "0                              1                      0   \n",
       "1                              0                      0   \n",
       "2                              0                      1   \n",
       "3                              0                      0   \n",
       "4                              0                      1   \n",
       "\n",
       "   Lead Quality_Not Sure  Lead Quality_Worst  City_Other Cities  \\\n",
       "0                      0                   0                  0   \n",
       "1                      1                   0                  0   \n",
       "2                      0                   0                  0   \n",
       "3                      1                   0                  0   \n",
       "4                      0                   0                  0   \n",
       "\n",
       "   City_Other Cities of Maharashtra  City_Other Metro Cities  \\\n",
       "0                                 0                        0   \n",
       "1                                 0                        0   \n",
       "2                                 0                        0   \n",
       "3                                 0                        0   \n",
       "4                                 0                        0   \n",
       "\n",
       "   City_Thane & Outskirts  City_Tier II Cities  \\\n",
       "0                       0                    0   \n",
       "1                       0                    0   \n",
       "2                       0                    0   \n",
       "3                       0                    0   \n",
       "4                       0                    0   \n",
       "\n",
       "   A free copy of Mastering The Interview_Yes  \\\n",
       "0                                           0   \n",
       "1                                           0   \n",
       "2                                           1   \n",
       "3                                           0   \n",
       "4                                           0   \n",
       "\n",
       "   Last Notable Activity_Email Opened  Last Notable Activity_Modified  \\\n",
       "0                                   0                               1   \n",
       "1                                   1                               0   \n",
       "2                                   1                               0   \n",
       "3                                   0                               1   \n",
       "4                                   0                               1   \n",
       "\n",
       "   Last Notable Activity_Olark Chat Conversation  \\\n",
       "0                                              0   \n",
       "1                                              0   \n",
       "2                                              0   \n",
       "3                                              0   \n",
       "4                                              0   \n",
       "\n",
       "   Last Notable Activity_Others  \\\n",
       "0                             0   \n",
       "1                             0   \n",
       "2                             0   \n",
       "3                             0   \n",
       "4                             0   \n",
       "\n",
       "   Last Notable Activity_Page Visited on Website  \\\n",
       "0                                              0   \n",
       "1                                              0   \n",
       "2                                              0   \n",
       "3                                              0   \n",
       "4                                              0   \n",
       "\n",
       "   Last Notable Activity_SMS Sent  \n",
       "0                               0  \n",
       "1                               0  \n",
       "2                               0  \n",
       "3                               0  \n",
       "4                               0  "
      ]
     },
     "execution_count": 113,
     "metadata": {},
     "output_type": "execute_result"
    }
   ],
   "source": [
    "X.head()"
   ]
  },
  {
   "cell_type": "code",
   "execution_count": 114,
   "id": "70bc1186",
   "metadata": {
    "ExecuteTime": {
     "end_time": "2021-06-21T16:26:00.406174Z",
     "start_time": "2021-06-21T16:26:00.391790Z"
    }
   },
   "outputs": [
    {
     "data": {
      "text/plain": [
       "0    0\n",
       "1    0\n",
       "2    1\n",
       "3    0\n",
       "4    1\n",
       "Name: Converted, dtype: int64"
      ]
     },
     "execution_count": 114,
     "metadata": {},
     "output_type": "execute_result"
    }
   ],
   "source": [
    "y.head()"
   ]
  },
  {
   "cell_type": "markdown",
   "id": "6af48884",
   "metadata": {},
   "source": [
    "### Split the data into train and test data set"
   ]
  },
  {
   "cell_type": "code",
   "execution_count": 115,
   "id": "099c108a",
   "metadata": {
    "ExecuteTime": {
     "end_time": "2021-06-21T16:26:00.421550Z",
     "start_time": "2021-06-21T16:26:00.407662Z"
    }
   },
   "outputs": [],
   "source": [
    "#splitting the data into train and test \n",
    "X_train, X_test, y_train, y_test = train_test_split(X, y, train_size=0.7, test_size=0.3, random_state=100)"
   ]
  },
  {
   "cell_type": "markdown",
   "id": "4da43d80",
   "metadata": {},
   "source": [
    "# Rescaling the numerical features"
   ]
  },
  {
   "cell_type": "code",
   "execution_count": 116,
   "id": "62f39912",
   "metadata": {
    "ExecuteTime": {
     "end_time": "2021-06-21T16:26:00.452419Z",
     "start_time": "2021-06-21T16:26:00.423051Z"
    }
   },
   "outputs": [
    {
     "data": {
      "text/html": [
       "<div>\n",
       "<style scoped>\n",
       "    .dataframe tbody tr th:only-of-type {\n",
       "        vertical-align: middle;\n",
       "    }\n",
       "\n",
       "    .dataframe tbody tr th {\n",
       "        vertical-align: top;\n",
       "    }\n",
       "\n",
       "    .dataframe thead th {\n",
       "        text-align: right;\n",
       "    }\n",
       "</style>\n",
       "<table border=\"1\" class=\"dataframe\">\n",
       "  <thead>\n",
       "    <tr style=\"text-align: right;\">\n",
       "      <th></th>\n",
       "      <th>Do Not Email</th>\n",
       "      <th>TotalVisits</th>\n",
       "      <th>Total Time Spent on Website</th>\n",
       "      <th>Page Views Per Visit</th>\n",
       "      <th>Lead Origin_Landing Page Submission</th>\n",
       "      <th>Lead Origin_Lead Add Form</th>\n",
       "      <th>Lead Source_Google</th>\n",
       "      <th>Lead Source_Olark Chat</th>\n",
       "      <th>Lead Source_Organic Search</th>\n",
       "      <th>Lead Source_Others</th>\n",
       "      <th>Lead Source_Reference</th>\n",
       "      <th>Last Activity_Email Opened</th>\n",
       "      <th>Last Activity_Olark Chat Conversation</th>\n",
       "      <th>Last Activity_Others</th>\n",
       "      <th>Last Activity_Page Visited on Website</th>\n",
       "      <th>Last Activity_SMS Sent</th>\n",
       "      <th>Last Activity_Unreachable</th>\n",
       "      <th>Specialization_Finance Management</th>\n",
       "      <th>Specialization_Human Resource Management</th>\n",
       "      <th>Specialization_IT Projects Management</th>\n",
       "      <th>Specialization_Marketing Management</th>\n",
       "      <th>Specialization_Not_Specified</th>\n",
       "      <th>Specialization_Operations Management</th>\n",
       "      <th>Specialization_Others</th>\n",
       "      <th>Current Occupation_Student</th>\n",
       "      <th>Current Occupation_Unemployed</th>\n",
       "      <th>Current Occupation_Working Professional</th>\n",
       "      <th>Tags_Busy</th>\n",
       "      <th>Tags_Closed by Horizzon</th>\n",
       "      <th>Tags_Interested in other courses</th>\n",
       "      <th>Tags_Lost to EINS</th>\n",
       "      <th>Tags_Others</th>\n",
       "      <th>Tags_Ringing</th>\n",
       "      <th>Tags_Will revert after reading the email</th>\n",
       "      <th>Tags_switched off</th>\n",
       "      <th>Lead Quality_Low in Relevance</th>\n",
       "      <th>Lead Quality_Might be</th>\n",
       "      <th>Lead Quality_Not Sure</th>\n",
       "      <th>Lead Quality_Worst</th>\n",
       "      <th>City_Other Cities</th>\n",
       "      <th>City_Other Cities of Maharashtra</th>\n",
       "      <th>City_Other Metro Cities</th>\n",
       "      <th>City_Thane &amp; Outskirts</th>\n",
       "      <th>City_Tier II Cities</th>\n",
       "      <th>A free copy of Mastering The Interview_Yes</th>\n",
       "      <th>Last Notable Activity_Email Opened</th>\n",
       "      <th>Last Notable Activity_Modified</th>\n",
       "      <th>Last Notable Activity_Olark Chat Conversation</th>\n",
       "      <th>Last Notable Activity_Others</th>\n",
       "      <th>Last Notable Activity_Page Visited on Website</th>\n",
       "      <th>Last Notable Activity_SMS Sent</th>\n",
       "    </tr>\n",
       "  </thead>\n",
       "  <tbody>\n",
       "    <tr>\n",
       "      <th>6519</th>\n",
       "      <td>0</td>\n",
       "      <td>-0.314559</td>\n",
       "      <td>2.029671</td>\n",
       "      <td>-0.038001</td>\n",
       "      <td>0</td>\n",
       "      <td>0</td>\n",
       "      <td>0</td>\n",
       "      <td>0</td>\n",
       "      <td>1</td>\n",
       "      <td>0</td>\n",
       "      <td>0</td>\n",
       "      <td>0</td>\n",
       "      <td>0</td>\n",
       "      <td>0</td>\n",
       "      <td>0</td>\n",
       "      <td>1</td>\n",
       "      <td>0</td>\n",
       "      <td>0</td>\n",
       "      <td>0</td>\n",
       "      <td>0</td>\n",
       "      <td>0</td>\n",
       "      <td>1</td>\n",
       "      <td>0</td>\n",
       "      <td>0</td>\n",
       "      <td>0</td>\n",
       "      <td>1</td>\n",
       "      <td>0</td>\n",
       "      <td>0</td>\n",
       "      <td>0</td>\n",
       "      <td>0</td>\n",
       "      <td>0</td>\n",
       "      <td>0</td>\n",
       "      <td>1</td>\n",
       "      <td>0</td>\n",
       "      <td>0</td>\n",
       "      <td>0</td>\n",
       "      <td>0</td>\n",
       "      <td>1</td>\n",
       "      <td>0</td>\n",
       "      <td>0</td>\n",
       "      <td>0</td>\n",
       "      <td>0</td>\n",
       "      <td>0</td>\n",
       "      <td>0</td>\n",
       "      <td>0</td>\n",
       "      <td>0</td>\n",
       "      <td>0</td>\n",
       "      <td>0</td>\n",
       "      <td>0</td>\n",
       "      <td>0</td>\n",
       "      <td>1</td>\n",
       "    </tr>\n",
       "    <tr>\n",
       "      <th>7518</th>\n",
       "      <td>0</td>\n",
       "      <td>-1.179064</td>\n",
       "      <td>-0.867375</td>\n",
       "      <td>-1.253082</td>\n",
       "      <td>0</td>\n",
       "      <td>0</td>\n",
       "      <td>0</td>\n",
       "      <td>1</td>\n",
       "      <td>0</td>\n",
       "      <td>0</td>\n",
       "      <td>0</td>\n",
       "      <td>0</td>\n",
       "      <td>0</td>\n",
       "      <td>0</td>\n",
       "      <td>0</td>\n",
       "      <td>1</td>\n",
       "      <td>0</td>\n",
       "      <td>0</td>\n",
       "      <td>0</td>\n",
       "      <td>0</td>\n",
       "      <td>0</td>\n",
       "      <td>1</td>\n",
       "      <td>0</td>\n",
       "      <td>0</td>\n",
       "      <td>0</td>\n",
       "      <td>1</td>\n",
       "      <td>0</td>\n",
       "      <td>1</td>\n",
       "      <td>0</td>\n",
       "      <td>0</td>\n",
       "      <td>0</td>\n",
       "      <td>0</td>\n",
       "      <td>0</td>\n",
       "      <td>0</td>\n",
       "      <td>0</td>\n",
       "      <td>0</td>\n",
       "      <td>0</td>\n",
       "      <td>1</td>\n",
       "      <td>0</td>\n",
       "      <td>0</td>\n",
       "      <td>0</td>\n",
       "      <td>0</td>\n",
       "      <td>0</td>\n",
       "      <td>0</td>\n",
       "      <td>0</td>\n",
       "      <td>0</td>\n",
       "      <td>0</td>\n",
       "      <td>0</td>\n",
       "      <td>0</td>\n",
       "      <td>0</td>\n",
       "      <td>1</td>\n",
       "    </tr>\n",
       "    <tr>\n",
       "      <th>349</th>\n",
       "      <td>0</td>\n",
       "      <td>-1.179064</td>\n",
       "      <td>-0.867375</td>\n",
       "      <td>-1.253082</td>\n",
       "      <td>0</td>\n",
       "      <td>0</td>\n",
       "      <td>0</td>\n",
       "      <td>1</td>\n",
       "      <td>0</td>\n",
       "      <td>0</td>\n",
       "      <td>0</td>\n",
       "      <td>0</td>\n",
       "      <td>1</td>\n",
       "      <td>0</td>\n",
       "      <td>0</td>\n",
       "      <td>0</td>\n",
       "      <td>0</td>\n",
       "      <td>0</td>\n",
       "      <td>0</td>\n",
       "      <td>0</td>\n",
       "      <td>0</td>\n",
       "      <td>1</td>\n",
       "      <td>0</td>\n",
       "      <td>0</td>\n",
       "      <td>0</td>\n",
       "      <td>1</td>\n",
       "      <td>0</td>\n",
       "      <td>0</td>\n",
       "      <td>0</td>\n",
       "      <td>0</td>\n",
       "      <td>0</td>\n",
       "      <td>1</td>\n",
       "      <td>0</td>\n",
       "      <td>0</td>\n",
       "      <td>0</td>\n",
       "      <td>0</td>\n",
       "      <td>0</td>\n",
       "      <td>1</td>\n",
       "      <td>0</td>\n",
       "      <td>0</td>\n",
       "      <td>0</td>\n",
       "      <td>0</td>\n",
       "      <td>0</td>\n",
       "      <td>0</td>\n",
       "      <td>0</td>\n",
       "      <td>0</td>\n",
       "      <td>1</td>\n",
       "      <td>0</td>\n",
       "      <td>0</td>\n",
       "      <td>0</td>\n",
       "      <td>0</td>\n",
       "    </tr>\n",
       "    <tr>\n",
       "      <th>1474</th>\n",
       "      <td>0</td>\n",
       "      <td>-0.314559</td>\n",
       "      <td>1.555076</td>\n",
       "      <td>-0.038001</td>\n",
       "      <td>0</td>\n",
       "      <td>0</td>\n",
       "      <td>1</td>\n",
       "      <td>0</td>\n",
       "      <td>0</td>\n",
       "      <td>0</td>\n",
       "      <td>0</td>\n",
       "      <td>1</td>\n",
       "      <td>0</td>\n",
       "      <td>0</td>\n",
       "      <td>0</td>\n",
       "      <td>0</td>\n",
       "      <td>0</td>\n",
       "      <td>0</td>\n",
       "      <td>0</td>\n",
       "      <td>0</td>\n",
       "      <td>0</td>\n",
       "      <td>1</td>\n",
       "      <td>0</td>\n",
       "      <td>0</td>\n",
       "      <td>0</td>\n",
       "      <td>1</td>\n",
       "      <td>0</td>\n",
       "      <td>0</td>\n",
       "      <td>0</td>\n",
       "      <td>0</td>\n",
       "      <td>0</td>\n",
       "      <td>0</td>\n",
       "      <td>1</td>\n",
       "      <td>0</td>\n",
       "      <td>0</td>\n",
       "      <td>0</td>\n",
       "      <td>0</td>\n",
       "      <td>1</td>\n",
       "      <td>0</td>\n",
       "      <td>0</td>\n",
       "      <td>0</td>\n",
       "      <td>0</td>\n",
       "      <td>0</td>\n",
       "      <td>0</td>\n",
       "      <td>0</td>\n",
       "      <td>1</td>\n",
       "      <td>0</td>\n",
       "      <td>0</td>\n",
       "      <td>0</td>\n",
       "      <td>0</td>\n",
       "      <td>0</td>\n",
       "    </tr>\n",
       "    <tr>\n",
       "      <th>7512</th>\n",
       "      <td>1</td>\n",
       "      <td>0.982199</td>\n",
       "      <td>-0.073940</td>\n",
       "      <td>1.784620</td>\n",
       "      <td>1</td>\n",
       "      <td>0</td>\n",
       "      <td>0</td>\n",
       "      <td>0</td>\n",
       "      <td>0</td>\n",
       "      <td>0</td>\n",
       "      <td>0</td>\n",
       "      <td>0</td>\n",
       "      <td>0</td>\n",
       "      <td>0</td>\n",
       "      <td>0</td>\n",
       "      <td>1</td>\n",
       "      <td>0</td>\n",
       "      <td>0</td>\n",
       "      <td>0</td>\n",
       "      <td>1</td>\n",
       "      <td>0</td>\n",
       "      <td>0</td>\n",
       "      <td>0</td>\n",
       "      <td>0</td>\n",
       "      <td>0</td>\n",
       "      <td>1</td>\n",
       "      <td>0</td>\n",
       "      <td>0</td>\n",
       "      <td>0</td>\n",
       "      <td>0</td>\n",
       "      <td>0</td>\n",
       "      <td>0</td>\n",
       "      <td>0</td>\n",
       "      <td>1</td>\n",
       "      <td>0</td>\n",
       "      <td>0</td>\n",
       "      <td>0</td>\n",
       "      <td>1</td>\n",
       "      <td>0</td>\n",
       "      <td>1</td>\n",
       "      <td>0</td>\n",
       "      <td>0</td>\n",
       "      <td>0</td>\n",
       "      <td>0</td>\n",
       "      <td>1</td>\n",
       "      <td>0</td>\n",
       "      <td>0</td>\n",
       "      <td>0</td>\n",
       "      <td>0</td>\n",
       "      <td>0</td>\n",
       "      <td>1</td>\n",
       "    </tr>\n",
       "  </tbody>\n",
       "</table>\n",
       "</div>"
      ],
      "text/plain": [
       "      Do Not Email  TotalVisits  Total Time Spent on Website  \\\n",
       "6519             0    -0.314559                     2.029671   \n",
       "7518             0    -1.179064                    -0.867375   \n",
       "349              0    -1.179064                    -0.867375   \n",
       "1474             0    -0.314559                     1.555076   \n",
       "7512             1     0.982199                    -0.073940   \n",
       "\n",
       "      Page Views Per Visit  Lead Origin_Landing Page Submission  \\\n",
       "6519             -0.038001                                    0   \n",
       "7518             -1.253082                                    0   \n",
       "349              -1.253082                                    0   \n",
       "1474             -0.038001                                    0   \n",
       "7512              1.784620                                    1   \n",
       "\n",
       "      Lead Origin_Lead Add Form  Lead Source_Google  Lead Source_Olark Chat  \\\n",
       "6519                          0                   0                       0   \n",
       "7518                          0                   0                       1   \n",
       "349                           0                   0                       1   \n",
       "1474                          0                   1                       0   \n",
       "7512                          0                   0                       0   \n",
       "\n",
       "      Lead Source_Organic Search  Lead Source_Others  Lead Source_Reference  \\\n",
       "6519                           1                   0                      0   \n",
       "7518                           0                   0                      0   \n",
       "349                            0                   0                      0   \n",
       "1474                           0                   0                      0   \n",
       "7512                           0                   0                      0   \n",
       "\n",
       "      Last Activity_Email Opened  Last Activity_Olark Chat Conversation  \\\n",
       "6519                           0                                      0   \n",
       "7518                           0                                      0   \n",
       "349                            0                                      1   \n",
       "1474                           1                                      0   \n",
       "7512                           0                                      0   \n",
       "\n",
       "      Last Activity_Others  Last Activity_Page Visited on Website  \\\n",
       "6519                     0                                      0   \n",
       "7518                     0                                      0   \n",
       "349                      0                                      0   \n",
       "1474                     0                                      0   \n",
       "7512                     0                                      0   \n",
       "\n",
       "      Last Activity_SMS Sent  Last Activity_Unreachable  \\\n",
       "6519                       1                          0   \n",
       "7518                       1                          0   \n",
       "349                        0                          0   \n",
       "1474                       0                          0   \n",
       "7512                       1                          0   \n",
       "\n",
       "      Specialization_Finance Management  \\\n",
       "6519                                  0   \n",
       "7518                                  0   \n",
       "349                                   0   \n",
       "1474                                  0   \n",
       "7512                                  0   \n",
       "\n",
       "      Specialization_Human Resource Management  \\\n",
       "6519                                         0   \n",
       "7518                                         0   \n",
       "349                                          0   \n",
       "1474                                         0   \n",
       "7512                                         0   \n",
       "\n",
       "      Specialization_IT Projects Management  \\\n",
       "6519                                      0   \n",
       "7518                                      0   \n",
       "349                                       0   \n",
       "1474                                      0   \n",
       "7512                                      1   \n",
       "\n",
       "      Specialization_Marketing Management  Specialization_Not_Specified  \\\n",
       "6519                                    0                             1   \n",
       "7518                                    0                             1   \n",
       "349                                     0                             1   \n",
       "1474                                    0                             1   \n",
       "7512                                    0                             0   \n",
       "\n",
       "      Specialization_Operations Management  Specialization_Others  \\\n",
       "6519                                     0                      0   \n",
       "7518                                     0                      0   \n",
       "349                                      0                      0   \n",
       "1474                                     0                      0   \n",
       "7512                                     0                      0   \n",
       "\n",
       "      Current Occupation_Student  Current Occupation_Unemployed  \\\n",
       "6519                           0                              1   \n",
       "7518                           0                              1   \n",
       "349                            0                              1   \n",
       "1474                           0                              1   \n",
       "7512                           0                              1   \n",
       "\n",
       "      Current Occupation_Working Professional  Tags_Busy  \\\n",
       "6519                                        0          0   \n",
       "7518                                        0          1   \n",
       "349                                         0          0   \n",
       "1474                                        0          0   \n",
       "7512                                        0          0   \n",
       "\n",
       "      Tags_Closed by Horizzon  Tags_Interested in other courses  \\\n",
       "6519                        0                                 0   \n",
       "7518                        0                                 0   \n",
       "349                         0                                 0   \n",
       "1474                        0                                 0   \n",
       "7512                        0                                 0   \n",
       "\n",
       "      Tags_Lost to EINS  Tags_Others  Tags_Ringing  \\\n",
       "6519                  0            0             1   \n",
       "7518                  0            0             0   \n",
       "349                   0            1             0   \n",
       "1474                  0            0             1   \n",
       "7512                  0            0             0   \n",
       "\n",
       "      Tags_Will revert after reading the email  Tags_switched off  \\\n",
       "6519                                         0                  0   \n",
       "7518                                         0                  0   \n",
       "349                                          0                  0   \n",
       "1474                                         0                  0   \n",
       "7512                                         1                  0   \n",
       "\n",
       "      Lead Quality_Low in Relevance  Lead Quality_Might be  \\\n",
       "6519                              0                      0   \n",
       "7518                              0                      0   \n",
       "349                               0                      0   \n",
       "1474                              0                      0   \n",
       "7512                              0                      0   \n",
       "\n",
       "      Lead Quality_Not Sure  Lead Quality_Worst  City_Other Cities  \\\n",
       "6519                      1                   0                  0   \n",
       "7518                      1                   0                  0   \n",
       "349                       1                   0                  0   \n",
       "1474                      1                   0                  0   \n",
       "7512                      1                   0                  1   \n",
       "\n",
       "      City_Other Cities of Maharashtra  City_Other Metro Cities  \\\n",
       "6519                                 0                        0   \n",
       "7518                                 0                        0   \n",
       "349                                  0                        0   \n",
       "1474                                 0                        0   \n",
       "7512                                 0                        0   \n",
       "\n",
       "      City_Thane & Outskirts  City_Tier II Cities  \\\n",
       "6519                       0                    0   \n",
       "7518                       0                    0   \n",
       "349                        0                    0   \n",
       "1474                       0                    0   \n",
       "7512                       0                    0   \n",
       "\n",
       "      A free copy of Mastering The Interview_Yes  \\\n",
       "6519                                           0   \n",
       "7518                                           0   \n",
       "349                                            0   \n",
       "1474                                           0   \n",
       "7512                                           1   \n",
       "\n",
       "      Last Notable Activity_Email Opened  Last Notable Activity_Modified  \\\n",
       "6519                                   0                               0   \n",
       "7518                                   0                               0   \n",
       "349                                    0                               1   \n",
       "1474                                   1                               0   \n",
       "7512                                   0                               0   \n",
       "\n",
       "      Last Notable Activity_Olark Chat Conversation  \\\n",
       "6519                                              0   \n",
       "7518                                              0   \n",
       "349                                               0   \n",
       "1474                                              0   \n",
       "7512                                              0   \n",
       "\n",
       "      Last Notable Activity_Others  \\\n",
       "6519                             0   \n",
       "7518                             0   \n",
       "349                              0   \n",
       "1474                             0   \n",
       "7512                             0   \n",
       "\n",
       "      Last Notable Activity_Page Visited on Website  \\\n",
       "6519                                              0   \n",
       "7518                                              0   \n",
       "349                                               0   \n",
       "1474                                              0   \n",
       "7512                                              0   \n",
       "\n",
       "      Last Notable Activity_SMS Sent  \n",
       "6519                               1  \n",
       "7518                               1  \n",
       "349                                0  \n",
       "1474                               0  \n",
       "7512                               1  "
      ]
     },
     "execution_count": 116,
     "metadata": {},
     "output_type": "execute_result"
    }
   ],
   "source": [
    "#importing StandardScaler and using it for scaling the feature\n",
    "from sklearn.preprocessing import StandardScaler\n",
    "scaler = StandardScaler()\n",
    "\n",
    "num_variables = ['TotalVisits', 'Total Time Spent on Website', 'Page Views Per Visit']\n",
    "\n",
    "X_train[num_variables] = scaler.fit_transform(X_train[num_variables]) \n",
    "X_train.head()"
   ]
  },
  {
   "cell_type": "code",
   "execution_count": 117,
   "id": "37cb35e8",
   "metadata": {
    "ExecuteTime": {
     "end_time": "2021-06-21T16:26:00.990772Z",
     "start_time": "2021-06-21T16:26:00.453415Z"
    }
   },
   "outputs": [],
   "source": [
    "import statsmodels.api as sm"
   ]
  },
  {
   "cell_type": "code",
   "execution_count": 118,
   "id": "d8a92120",
   "metadata": {
    "ExecuteTime": {
     "end_time": "2021-06-21T16:26:01.129088Z",
     "start_time": "2021-06-21T16:26:00.991770Z"
    }
   },
   "outputs": [
    {
     "data": {
      "text/html": [
       "<table class=\"simpletable\">\n",
       "<caption>Generalized Linear Model Regression Results</caption>\n",
       "<tr>\n",
       "  <th>Dep. Variable:</th>       <td>Converted</td>    <th>  No. Observations:  </th>  <td>  5891</td> \n",
       "</tr>\n",
       "<tr>\n",
       "  <th>Model:</th>                  <td>GLM</td>       <th>  Df Residuals:      </th>  <td>  5839</td> \n",
       "</tr>\n",
       "<tr>\n",
       "  <th>Model Family:</th>        <td>Binomial</td>     <th>  Df Model:          </th>  <td>    51</td> \n",
       "</tr>\n",
       "<tr>\n",
       "  <th>Link Function:</th>         <td>logit</td>      <th>  Scale:             </th> <td>  1.0000</td>\n",
       "</tr>\n",
       "<tr>\n",
       "  <th>Method:</th>                <td>IRLS</td>       <th>  Log-Likelihood:    </th> <td> -1220.4</td>\n",
       "</tr>\n",
       "<tr>\n",
       "  <th>Date:</th>            <td>Mon, 21 Jun 2021</td> <th>  Deviance:          </th> <td>  2440.9</td>\n",
       "</tr>\n",
       "<tr>\n",
       "  <th>Time:</th>                <td>21:56:01</td>     <th>  Pearson chi2:      </th> <td>3.69e+04</td>\n",
       "</tr>\n",
       "<tr>\n",
       "  <th>No. Iterations:</th>          <td>9</td>        <th>                     </th>     <td> </td>   \n",
       "</tr>\n",
       "<tr>\n",
       "  <th>Covariance Type:</th>     <td>nonrobust</td>    <th>                     </th>     <td> </td>   \n",
       "</tr>\n",
       "</table>\n",
       "<table class=\"simpletable\">\n",
       "<tr>\n",
       "                        <td></td>                           <th>coef</th>     <th>std err</th>      <th>z</th>      <th>P>|z|</th>  <th>[0.025</th>    <th>0.975]</th>  \n",
       "</tr>\n",
       "<tr>\n",
       "  <th>const</th>                                         <td>   -2.1344</td> <td>    1.652</td> <td>   -1.292</td> <td> 0.196</td> <td>   -5.372</td> <td>    1.104</td>\n",
       "</tr>\n",
       "<tr>\n",
       "  <th>Do Not Email</th>                                  <td>   -1.4076</td> <td>    0.310</td> <td>   -4.539</td> <td> 0.000</td> <td>   -2.015</td> <td>   -0.800</td>\n",
       "</tr>\n",
       "<tr>\n",
       "  <th>TotalVisits</th>                                   <td>    0.0532</td> <td>    0.087</td> <td>    0.609</td> <td> 0.542</td> <td>   -0.118</td> <td>    0.224</td>\n",
       "</tr>\n",
       "<tr>\n",
       "  <th>Total Time Spent on Website</th>                   <td>    1.0438</td> <td>    0.064</td> <td>   16.418</td> <td> 0.000</td> <td>    0.919</td> <td>    1.168</td>\n",
       "</tr>\n",
       "<tr>\n",
       "  <th>Page Views Per Visit</th>                          <td>   -0.1683</td> <td>    0.097</td> <td>   -1.734</td> <td> 0.083</td> <td>   -0.358</td> <td>    0.022</td>\n",
       "</tr>\n",
       "<tr>\n",
       "  <th>Lead Origin_Landing Page Submission</th>           <td>   -0.6346</td> <td>    0.232</td> <td>   -2.730</td> <td> 0.006</td> <td>   -1.090</td> <td>   -0.179</td>\n",
       "</tr>\n",
       "<tr>\n",
       "  <th>Lead Origin_Lead Add Form</th>                     <td>    4.6923</td> <td>    0.843</td> <td>    5.569</td> <td> 0.000</td> <td>    3.041</td> <td>    6.344</td>\n",
       "</tr>\n",
       "<tr>\n",
       "  <th>Lead Source_Google</th>                            <td>   -0.0822</td> <td>    0.191</td> <td>   -0.431</td> <td> 0.666</td> <td>   -0.456</td> <td>    0.292</td>\n",
       "</tr>\n",
       "<tr>\n",
       "  <th>Lead Source_Olark Chat</th>                        <td>    0.6757</td> <td>    0.253</td> <td>    2.665</td> <td> 0.008</td> <td>    0.179</td> <td>    1.172</td>\n",
       "</tr>\n",
       "<tr>\n",
       "  <th>Lead Source_Organic Search</th>                    <td>    0.0062</td> <td>    0.226</td> <td>    0.028</td> <td> 0.978</td> <td>   -0.436</td> <td>    0.448</td>\n",
       "</tr>\n",
       "<tr>\n",
       "  <th>Lead Source_Others</th>                            <td>    0.0733</td> <td>    0.429</td> <td>    0.171</td> <td> 0.864</td> <td>   -0.768</td> <td>    0.914</td>\n",
       "</tr>\n",
       "<tr>\n",
       "  <th>Lead Source_Reference</th>                         <td>   -3.0382</td> <td>    0.942</td> <td>   -3.224</td> <td> 0.001</td> <td>   -4.885</td> <td>   -1.191</td>\n",
       "</tr>\n",
       "<tr>\n",
       "  <th>Last Activity_Email Opened</th>                    <td>    0.3467</td> <td>    0.361</td> <td>    0.961</td> <td> 0.337</td> <td>   -0.361</td> <td>    1.054</td>\n",
       "</tr>\n",
       "<tr>\n",
       "  <th>Last Activity_Olark Chat Conversation</th>         <td>   -0.6424</td> <td>    0.386</td> <td>   -1.666</td> <td> 0.096</td> <td>   -1.398</td> <td>    0.113</td>\n",
       "</tr>\n",
       "<tr>\n",
       "  <th>Last Activity_Others</th>                          <td>    0.6442</td> <td>    0.434</td> <td>    1.484</td> <td> 0.138</td> <td>   -0.207</td> <td>    1.495</td>\n",
       "</tr>\n",
       "<tr>\n",
       "  <th>Last Activity_Page Visited on Website</th>         <td>    0.3972</td> <td>    0.449</td> <td>    0.885</td> <td> 0.376</td> <td>   -0.482</td> <td>    1.276</td>\n",
       "</tr>\n",
       "<tr>\n",
       "  <th>Last Activity_SMS Sent</th>                        <td>    1.4237</td> <td>    0.345</td> <td>    4.127</td> <td> 0.000</td> <td>    0.748</td> <td>    2.100</td>\n",
       "</tr>\n",
       "<tr>\n",
       "  <th>Last Activity_Unreachable</th>                     <td>    0.3536</td> <td>    0.554</td> <td>    0.638</td> <td> 0.524</td> <td>   -0.733</td> <td>    1.440</td>\n",
       "</tr>\n",
       "<tr>\n",
       "  <th>Specialization_Finance Management</th>             <td>   -0.1622</td> <td>    0.314</td> <td>   -0.517</td> <td> 0.605</td> <td>   -0.777</td> <td>    0.453</td>\n",
       "</tr>\n",
       "<tr>\n",
       "  <th>Specialization_Human Resource Management</th>      <td>   -0.2910</td> <td>    0.321</td> <td>   -0.906</td> <td> 0.365</td> <td>   -0.920</td> <td>    0.338</td>\n",
       "</tr>\n",
       "<tr>\n",
       "  <th>Specialization_IT Projects Management</th>         <td>   -0.0681</td> <td>    0.384</td> <td>   -0.177</td> <td> 0.859</td> <td>   -0.820</td> <td>    0.684</td>\n",
       "</tr>\n",
       "<tr>\n",
       "  <th>Specialization_Marketing Management</th>           <td>    0.1913</td> <td>    0.317</td> <td>    0.603</td> <td> 0.546</td> <td>   -0.430</td> <td>    0.813</td>\n",
       "</tr>\n",
       "<tr>\n",
       "  <th>Specialization_Not_Specified</th>                  <td>   -0.4530</td> <td>    0.331</td> <td>   -1.367</td> <td> 0.172</td> <td>   -1.103</td> <td>    0.197</td>\n",
       "</tr>\n",
       "<tr>\n",
       "  <th>Specialization_Operations Management</th>          <td>    0.0408</td> <td>    0.363</td> <td>    0.112</td> <td> 0.911</td> <td>   -0.670</td> <td>    0.752</td>\n",
       "</tr>\n",
       "<tr>\n",
       "  <th>Specialization_Others</th>                         <td>   -0.2208</td> <td>    0.287</td> <td>   -0.770</td> <td> 0.441</td> <td>   -0.783</td> <td>    0.341</td>\n",
       "</tr>\n",
       "<tr>\n",
       "  <th>Current Occupation_Student</th>                    <td>    0.6777</td> <td>    1.088</td> <td>    0.623</td> <td> 0.533</td> <td>   -1.455</td> <td>    2.811</td>\n",
       "</tr>\n",
       "<tr>\n",
       "  <th>Current Occupation_Unemployed</th>                 <td>   -0.1918</td> <td>    0.952</td> <td>   -0.202</td> <td> 0.840</td> <td>   -2.057</td> <td>    1.673</td>\n",
       "</tr>\n",
       "<tr>\n",
       "  <th>Current Occupation_Working Professional</th>       <td>    1.1159</td> <td>    0.999</td> <td>    1.117</td> <td> 0.264</td> <td>   -0.842</td> <td>    3.074</td>\n",
       "</tr>\n",
       "<tr>\n",
       "  <th>Tags_Busy</th>                                     <td>    4.5250</td> <td>    1.110</td> <td>    4.076</td> <td> 0.000</td> <td>    2.349</td> <td>    6.701</td>\n",
       "</tr>\n",
       "<tr>\n",
       "  <th>Tags_Closed by Horizzon</th>                       <td>    8.8654</td> <td>    1.341</td> <td>    6.609</td> <td> 0.000</td> <td>    6.236</td> <td>   11.494</td>\n",
       "</tr>\n",
       "<tr>\n",
       "  <th>Tags_Interested in other courses</th>              <td>    0.6676</td> <td>    1.142</td> <td>    0.585</td> <td> 0.559</td> <td>   -1.571</td> <td>    2.906</td>\n",
       "</tr>\n",
       "<tr>\n",
       "  <th>Tags_Lost to EINS</th>                             <td>    9.2880</td> <td>    1.200</td> <td>    7.743</td> <td> 0.000</td> <td>    6.937</td> <td>   11.639</td>\n",
       "</tr>\n",
       "<tr>\n",
       "  <th>Tags_Others</th>                                   <td>    0.7877</td> <td>    1.111</td> <td>    0.709</td> <td> 0.478</td> <td>   -1.390</td> <td>    2.965</td>\n",
       "</tr>\n",
       "<tr>\n",
       "  <th>Tags_Ringing</th>                                  <td>   -0.3912</td> <td>    1.115</td> <td>   -0.351</td> <td> 0.726</td> <td>   -2.577</td> <td>    1.795</td>\n",
       "</tr>\n",
       "<tr>\n",
       "  <th>Tags_Will revert after reading the email</th>      <td>    4.5679</td> <td>    1.082</td> <td>    4.223</td> <td> 0.000</td> <td>    2.448</td> <td>    6.688</td>\n",
       "</tr>\n",
       "<tr>\n",
       "  <th>Tags_switched off</th>                             <td>   -1.2773</td> <td>    1.278</td> <td>   -0.999</td> <td> 0.318</td> <td>   -3.782</td> <td>    1.227</td>\n",
       "</tr>\n",
       "<tr>\n",
       "  <th>Lead Quality_Low in Relevance</th>                 <td>   -0.5959</td> <td>    0.437</td> <td>   -1.364</td> <td> 0.173</td> <td>   -1.452</td> <td>    0.260</td>\n",
       "</tr>\n",
       "<tr>\n",
       "  <th>Lead Quality_Might be</th>                         <td>   -1.3410</td> <td>    0.409</td> <td>   -3.279</td> <td> 0.001</td> <td>   -2.142</td> <td>   -0.540</td>\n",
       "</tr>\n",
       "<tr>\n",
       "  <th>Lead Quality_Not Sure</th>                         <td>   -4.0769</td> <td>    0.392</td> <td>  -10.403</td> <td> 0.000</td> <td>   -4.845</td> <td>   -3.309</td>\n",
       "</tr>\n",
       "<tr>\n",
       "  <th>Lead Quality_Worst</th>                            <td>   -4.8882</td> <td>    1.055</td> <td>   -4.634</td> <td> 0.000</td> <td>   -6.956</td> <td>   -2.821</td>\n",
       "</tr>\n",
       "<tr>\n",
       "  <th>City_Other Cities</th>                             <td>   -0.1541</td> <td>    0.222</td> <td>   -0.696</td> <td> 0.487</td> <td>   -0.588</td> <td>    0.280</td>\n",
       "</tr>\n",
       "<tr>\n",
       "  <th>City_Other Cities of Maharashtra</th>              <td>   -0.1883</td> <td>    0.283</td> <td>   -0.665</td> <td> 0.506</td> <td>   -0.743</td> <td>    0.367</td>\n",
       "</tr>\n",
       "<tr>\n",
       "  <th>City_Other Metro Cities</th>                       <td>   -0.2621</td> <td>    0.296</td> <td>   -0.884</td> <td> 0.377</td> <td>   -0.843</td> <td>    0.319</td>\n",
       "</tr>\n",
       "<tr>\n",
       "  <th>City_Thane & Outskirts</th>                        <td>   -0.0475</td> <td>    0.214</td> <td>   -0.222</td> <td> 0.825</td> <td>   -0.467</td> <td>    0.372</td>\n",
       "</tr>\n",
       "<tr>\n",
       "  <th>City_Tier II Cities</th>                           <td>    0.9768</td> <td>    0.602</td> <td>    1.621</td> <td> 0.105</td> <td>   -0.204</td> <td>    2.158</td>\n",
       "</tr>\n",
       "<tr>\n",
       "  <th>A free copy of Mastering The Interview_Yes</th>    <td>   -0.2276</td> <td>    0.183</td> <td>   -1.246</td> <td> 0.213</td> <td>   -0.586</td> <td>    0.131</td>\n",
       "</tr>\n",
       "<tr>\n",
       "  <th>Last Notable Activity_Email Opened</th>            <td>    0.9260</td> <td>    0.562</td> <td>    1.648</td> <td> 0.099</td> <td>   -0.175</td> <td>    2.027</td>\n",
       "</tr>\n",
       "<tr>\n",
       "  <th>Last Notable Activity_Modified</th>                <td>   -0.0557</td> <td>    0.512</td> <td>   -0.109</td> <td> 0.913</td> <td>   -1.059</td> <td>    0.948</td>\n",
       "</tr>\n",
       "<tr>\n",
       "  <th>Last Notable Activity_Olark Chat Conversation</th> <td>   -0.1276</td> <td>    0.714</td> <td>   -0.179</td> <td> 0.858</td> <td>   -1.527</td> <td>    1.272</td>\n",
       "</tr>\n",
       "<tr>\n",
       "  <th>Last Notable Activity_Others</th>                  <td>    1.6739</td> <td>    0.729</td> <td>    2.295</td> <td> 0.022</td> <td>    0.244</td> <td>    3.103</td>\n",
       "</tr>\n",
       "<tr>\n",
       "  <th>Last Notable Activity_Page Visited on Website</th> <td>    0.6072</td> <td>    0.692</td> <td>    0.878</td> <td> 0.380</td> <td>   -0.749</td> <td>    1.963</td>\n",
       "</tr>\n",
       "<tr>\n",
       "  <th>Last Notable Activity_SMS Sent</th>                <td>    2.0227</td> <td>    0.553</td> <td>    3.660</td> <td> 0.000</td> <td>    0.940</td> <td>    3.106</td>\n",
       "</tr>\n",
       "</table>"
      ],
      "text/plain": [
       "<class 'statsmodels.iolib.summary.Summary'>\n",
       "\"\"\"\n",
       "                 Generalized Linear Model Regression Results                  \n",
       "==============================================================================\n",
       "Dep. Variable:              Converted   No. Observations:                 5891\n",
       "Model:                            GLM   Df Residuals:                     5839\n",
       "Model Family:                Binomial   Df Model:                           51\n",
       "Link Function:                  logit   Scale:                          1.0000\n",
       "Method:                          IRLS   Log-Likelihood:                -1220.4\n",
       "Date:                Mon, 21 Jun 2021   Deviance:                       2440.9\n",
       "Time:                        21:56:01   Pearson chi2:                 3.69e+04\n",
       "No. Iterations:                     9                                         \n",
       "Covariance Type:            nonrobust                                         \n",
       "=================================================================================================================\n",
       "                                                    coef    std err          z      P>|z|      [0.025      0.975]\n",
       "-----------------------------------------------------------------------------------------------------------------\n",
       "const                                            -2.1344      1.652     -1.292      0.196      -5.372       1.104\n",
       "Do Not Email                                     -1.4076      0.310     -4.539      0.000      -2.015      -0.800\n",
       "TotalVisits                                       0.0532      0.087      0.609      0.542      -0.118       0.224\n",
       "Total Time Spent on Website                       1.0438      0.064     16.418      0.000       0.919       1.168\n",
       "Page Views Per Visit                             -0.1683      0.097     -1.734      0.083      -0.358       0.022\n",
       "Lead Origin_Landing Page Submission              -0.6346      0.232     -2.730      0.006      -1.090      -0.179\n",
       "Lead Origin_Lead Add Form                         4.6923      0.843      5.569      0.000       3.041       6.344\n",
       "Lead Source_Google                               -0.0822      0.191     -0.431      0.666      -0.456       0.292\n",
       "Lead Source_Olark Chat                            0.6757      0.253      2.665      0.008       0.179       1.172\n",
       "Lead Source_Organic Search                        0.0062      0.226      0.028      0.978      -0.436       0.448\n",
       "Lead Source_Others                                0.0733      0.429      0.171      0.864      -0.768       0.914\n",
       "Lead Source_Reference                            -3.0382      0.942     -3.224      0.001      -4.885      -1.191\n",
       "Last Activity_Email Opened                        0.3467      0.361      0.961      0.337      -0.361       1.054\n",
       "Last Activity_Olark Chat Conversation            -0.6424      0.386     -1.666      0.096      -1.398       0.113\n",
       "Last Activity_Others                              0.6442      0.434      1.484      0.138      -0.207       1.495\n",
       "Last Activity_Page Visited on Website             0.3972      0.449      0.885      0.376      -0.482       1.276\n",
       "Last Activity_SMS Sent                            1.4237      0.345      4.127      0.000       0.748       2.100\n",
       "Last Activity_Unreachable                         0.3536      0.554      0.638      0.524      -0.733       1.440\n",
       "Specialization_Finance Management                -0.1622      0.314     -0.517      0.605      -0.777       0.453\n",
       "Specialization_Human Resource Management         -0.2910      0.321     -0.906      0.365      -0.920       0.338\n",
       "Specialization_IT Projects Management            -0.0681      0.384     -0.177      0.859      -0.820       0.684\n",
       "Specialization_Marketing Management               0.1913      0.317      0.603      0.546      -0.430       0.813\n",
       "Specialization_Not_Specified                     -0.4530      0.331     -1.367      0.172      -1.103       0.197\n",
       "Specialization_Operations Management              0.0408      0.363      0.112      0.911      -0.670       0.752\n",
       "Specialization_Others                            -0.2208      0.287     -0.770      0.441      -0.783       0.341\n",
       "Current Occupation_Student                        0.6777      1.088      0.623      0.533      -1.455       2.811\n",
       "Current Occupation_Unemployed                    -0.1918      0.952     -0.202      0.840      -2.057       1.673\n",
       "Current Occupation_Working Professional           1.1159      0.999      1.117      0.264      -0.842       3.074\n",
       "Tags_Busy                                         4.5250      1.110      4.076      0.000       2.349       6.701\n",
       "Tags_Closed by Horizzon                           8.8654      1.341      6.609      0.000       6.236      11.494\n",
       "Tags_Interested in other courses                  0.6676      1.142      0.585      0.559      -1.571       2.906\n",
       "Tags_Lost to EINS                                 9.2880      1.200      7.743      0.000       6.937      11.639\n",
       "Tags_Others                                       0.7877      1.111      0.709      0.478      -1.390       2.965\n",
       "Tags_Ringing                                     -0.3912      1.115     -0.351      0.726      -2.577       1.795\n",
       "Tags_Will revert after reading the email          4.5679      1.082      4.223      0.000       2.448       6.688\n",
       "Tags_switched off                                -1.2773      1.278     -0.999      0.318      -3.782       1.227\n",
       "Lead Quality_Low in Relevance                    -0.5959      0.437     -1.364      0.173      -1.452       0.260\n",
       "Lead Quality_Might be                            -1.3410      0.409     -3.279      0.001      -2.142      -0.540\n",
       "Lead Quality_Not Sure                            -4.0769      0.392    -10.403      0.000      -4.845      -3.309\n",
       "Lead Quality_Worst                               -4.8882      1.055     -4.634      0.000      -6.956      -2.821\n",
       "City_Other Cities                                -0.1541      0.222     -0.696      0.487      -0.588       0.280\n",
       "City_Other Cities of Maharashtra                 -0.1883      0.283     -0.665      0.506      -0.743       0.367\n",
       "City_Other Metro Cities                          -0.2621      0.296     -0.884      0.377      -0.843       0.319\n",
       "City_Thane & Outskirts                           -0.0475      0.214     -0.222      0.825      -0.467       0.372\n",
       "City_Tier II Cities                               0.9768      0.602      1.621      0.105      -0.204       2.158\n",
       "A free copy of Mastering The Interview_Yes       -0.2276      0.183     -1.246      0.213      -0.586       0.131\n",
       "Last Notable Activity_Email Opened                0.9260      0.562      1.648      0.099      -0.175       2.027\n",
       "Last Notable Activity_Modified                   -0.0557      0.512     -0.109      0.913      -1.059       0.948\n",
       "Last Notable Activity_Olark Chat Conversation    -0.1276      0.714     -0.179      0.858      -1.527       1.272\n",
       "Last Notable Activity_Others                      1.6739      0.729      2.295      0.022       0.244       3.103\n",
       "Last Notable Activity_Page Visited on Website     0.6072      0.692      0.878      0.380      -0.749       1.963\n",
       "Last Notable Activity_SMS Sent                    2.0227      0.553      3.660      0.000       0.940       3.106\n",
       "=================================================================================================================\n",
       "\"\"\""
      ]
     },
     "execution_count": 118,
     "metadata": {},
     "output_type": "execute_result"
    }
   ],
   "source": [
    "#building the model using Logistic Regression\n",
    "logm1 = sm.GLM(y_train,(sm.add_constant(X_train)), family = sm.families.Binomial())\n",
    "logm1.fit().summary()"
   ]
  },
  {
   "cell_type": "code",
   "execution_count": 119,
   "id": "c24f2f6b",
   "metadata": {
    "ExecuteTime": {
     "end_time": "2021-06-21T16:26:01.205969Z",
     "start_time": "2021-06-21T16:26:01.130081Z"
    }
   },
   "outputs": [],
   "source": [
    "from sklearn.linear_model import LogisticRegression\n",
    "logreg = LogisticRegression()"
   ]
  },
  {
   "cell_type": "code",
   "execution_count": 120,
   "id": "26a15bca",
   "metadata": {
    "ExecuteTime": {
     "end_time": "2021-06-21T16:26:02.697937Z",
     "start_time": "2021-06-21T16:26:01.206962Z"
    }
   },
   "outputs": [],
   "source": [
    "from sklearn.feature_selection import RFE\n",
    "rfe = RFE(logreg, 15)             # running RFE with 15 variables as output\n",
    "rfe = rfe.fit(X_train, y_train)"
   ]
  },
  {
   "cell_type": "code",
   "execution_count": 121,
   "id": "408899db",
   "metadata": {
    "ExecuteTime": {
     "end_time": "2021-06-21T16:26:02.713313Z",
     "start_time": "2021-06-21T16:26:02.699425Z"
    }
   },
   "outputs": [
    {
     "data": {
      "text/plain": [
       "[('Do Not Email', True, 1),\n",
       " ('TotalVisits', False, 33),\n",
       " ('Total Time Spent on Website', False, 4),\n",
       " ('Page Views Per Visit', False, 24),\n",
       " ('Lead Origin_Landing Page Submission', False, 12),\n",
       " ('Lead Origin_Lead Add Form', True, 1),\n",
       " ('Lead Source_Google', False, 35),\n",
       " ('Lead Source_Olark Chat', False, 3),\n",
       " ('Lead Source_Organic Search', False, 31),\n",
       " ('Lead Source_Others', False, 9),\n",
       " ('Lead Source_Reference', True, 1),\n",
       " ('Last Activity_Email Opened', False, 17),\n",
       " ('Last Activity_Olark Chat Conversation', True, 1),\n",
       " ('Last Activity_Others', False, 19),\n",
       " ('Last Activity_Page Visited on Website', False, 23),\n",
       " ('Last Activity_SMS Sent', False, 5),\n",
       " ('Last Activity_Unreachable', False, 20),\n",
       " ('Specialization_Finance Management', False, 30),\n",
       " ('Specialization_Human Resource Management', False, 26),\n",
       " ('Specialization_IT Projects Management', False, 37),\n",
       " ('Specialization_Marketing Management', False, 14),\n",
       " ('Specialization_Not_Specified', False, 16),\n",
       " ('Specialization_Operations Management', False, 36),\n",
       " ('Specialization_Others', False, 29),\n",
       " ('Current Occupation_Student', False, 32),\n",
       " ('Current Occupation_Unemployed', False, 13),\n",
       " ('Current Occupation_Working Professional', False, 2),\n",
       " ('Tags_Busy', True, 1),\n",
       " ('Tags_Closed by Horizzon', True, 1),\n",
       " ('Tags_Interested in other courses', True, 1),\n",
       " ('Tags_Lost to EINS', True, 1),\n",
       " ('Tags_Others', True, 1),\n",
       " ('Tags_Ringing', True, 1),\n",
       " ('Tags_Will revert after reading the email', True, 1),\n",
       " ('Tags_switched off', True, 1),\n",
       " ('Lead Quality_Low in Relevance', False, 28),\n",
       " ('Lead Quality_Might be', False, 8),\n",
       " ('Lead Quality_Not Sure', True, 1),\n",
       " ('Lead Quality_Worst', True, 1),\n",
       " ('City_Other Cities', False, 27),\n",
       " ('City_Other Cities of Maharashtra', False, 25),\n",
       " ('City_Other Metro Cities', False, 22),\n",
       " ('City_Thane & Outskirts', False, 34),\n",
       " ('City_Tier II Cities', False, 11),\n",
       " ('A free copy of Mastering The Interview_Yes', False, 21),\n",
       " ('Last Notable Activity_Email Opened', False, 15),\n",
       " ('Last Notable Activity_Modified', False, 6),\n",
       " ('Last Notable Activity_Olark Chat Conversation', False, 7),\n",
       " ('Last Notable Activity_Others', False, 10),\n",
       " ('Last Notable Activity_Page Visited on Website', False, 18),\n",
       " ('Last Notable Activity_SMS Sent', True, 1)]"
      ]
     },
     "execution_count": 121,
     "metadata": {},
     "output_type": "execute_result"
    }
   ],
   "source": [
    "list(zip(X_train.columns, rfe.support_, rfe.ranking_))"
   ]
  },
  {
   "cell_type": "code",
   "execution_count": 122,
   "id": "3c8bb36e",
   "metadata": {
    "ExecuteTime": {
     "end_time": "2021-06-21T16:26:02.728688Z",
     "start_time": "2021-06-21T16:26:02.714801Z"
    }
   },
   "outputs": [
    {
     "data": {
      "text/plain": [
       "Index(['Do Not Email', 'Lead Origin_Lead Add Form', 'Lead Source_Reference',\n",
       "       'Last Activity_Olark Chat Conversation', 'Tags_Busy',\n",
       "       'Tags_Closed by Horizzon', 'Tags_Interested in other courses',\n",
       "       'Tags_Lost to EINS', 'Tags_Others', 'Tags_Ringing',\n",
       "       'Tags_Will revert after reading the email', 'Tags_switched off',\n",
       "       'Lead Quality_Not Sure', 'Lead Quality_Worst',\n",
       "       'Last Notable Activity_SMS Sent'],\n",
       "      dtype='object')"
      ]
     },
     "execution_count": 122,
     "metadata": {},
     "output_type": "execute_result"
    }
   ],
   "source": [
    "#columns selected by RFE\n",
    "col = X_train.columns[rfe.support_]\n",
    "col"
   ]
  },
  {
   "cell_type": "code",
   "execution_count": 123,
   "id": "43557b3f",
   "metadata": {
    "ExecuteTime": {
     "end_time": "2021-06-21T16:26:02.744064Z",
     "start_time": "2021-06-21T16:26:02.730176Z"
    }
   },
   "outputs": [
    {
     "data": {
      "text/plain": [
       "Index(['TotalVisits', 'Total Time Spent on Website', 'Page Views Per Visit',\n",
       "       'Lead Origin_Landing Page Submission', 'Lead Source_Google',\n",
       "       'Lead Source_Olark Chat', 'Lead Source_Organic Search',\n",
       "       'Lead Source_Others', 'Last Activity_Email Opened',\n",
       "       'Last Activity_Others', 'Last Activity_Page Visited on Website',\n",
       "       'Last Activity_SMS Sent', 'Last Activity_Unreachable',\n",
       "       'Specialization_Finance Management',\n",
       "       'Specialization_Human Resource Management',\n",
       "       'Specialization_IT Projects Management',\n",
       "       'Specialization_Marketing Management', 'Specialization_Not_Specified',\n",
       "       'Specialization_Operations Management', 'Specialization_Others',\n",
       "       'Current Occupation_Student', 'Current Occupation_Unemployed',\n",
       "       'Current Occupation_Working Professional',\n",
       "       'Lead Quality_Low in Relevance', 'Lead Quality_Might be',\n",
       "       'City_Other Cities', 'City_Other Cities of Maharashtra',\n",
       "       'City_Other Metro Cities', 'City_Thane & Outskirts',\n",
       "       'City_Tier II Cities', 'A free copy of Mastering The Interview_Yes',\n",
       "       'Last Notable Activity_Email Opened', 'Last Notable Activity_Modified',\n",
       "       'Last Notable Activity_Olark Chat Conversation',\n",
       "       'Last Notable Activity_Others',\n",
       "       'Last Notable Activity_Page Visited on Website'],\n",
       "      dtype='object')"
      ]
     },
     "execution_count": 123,
     "metadata": {},
     "output_type": "execute_result"
    }
   ],
   "source": [
    "# columsn dropped by RFE\n",
    "X_train.columns[~rfe.support_]"
   ]
  },
  {
   "cell_type": "code",
   "execution_count": 124,
   "id": "1bb810d7",
   "metadata": {
    "ExecuteTime": {
     "end_time": "2021-06-21T16:26:02.790192Z",
     "start_time": "2021-06-21T16:26:02.745552Z"
    }
   },
   "outputs": [
    {
     "data": {
      "text/html": [
       "<table class=\"simpletable\">\n",
       "<caption>Generalized Linear Model Regression Results</caption>\n",
       "<tr>\n",
       "  <th>Dep. Variable:</th>       <td>Converted</td>    <th>  No. Observations:  </th>  <td>  5891</td> \n",
       "</tr>\n",
       "<tr>\n",
       "  <th>Model:</th>                  <td>GLM</td>       <th>  Df Residuals:      </th>  <td>  5875</td> \n",
       "</tr>\n",
       "<tr>\n",
       "  <th>Model Family:</th>        <td>Binomial</td>     <th>  Df Model:          </th>  <td>    15</td> \n",
       "</tr>\n",
       "<tr>\n",
       "  <th>Link Function:</th>         <td>logit</td>      <th>  Scale:             </th> <td>  1.0000</td>\n",
       "</tr>\n",
       "<tr>\n",
       "  <th>Method:</th>                <td>IRLS</td>       <th>  Log-Likelihood:    </th> <td> -1444.7</td>\n",
       "</tr>\n",
       "<tr>\n",
       "  <th>Date:</th>            <td>Mon, 21 Jun 2021</td> <th>  Deviance:          </th> <td>  2889.5</td>\n",
       "</tr>\n",
       "<tr>\n",
       "  <th>Time:</th>                <td>21:56:02</td>     <th>  Pearson chi2:      </th> <td>2.96e+04</td>\n",
       "</tr>\n",
       "<tr>\n",
       "  <th>No. Iterations:</th>          <td>9</td>        <th>                     </th>     <td> </td>   \n",
       "</tr>\n",
       "<tr>\n",
       "  <th>Covariance Type:</th>     <td>nonrobust</td>    <th>                     </th>     <td> </td>   \n",
       "</tr>\n",
       "</table>\n",
       "<table class=\"simpletable\">\n",
       "<tr>\n",
       "                      <td></td>                        <th>coef</th>     <th>std err</th>      <th>z</th>      <th>P>|z|</th>  <th>[0.025</th>    <th>0.975]</th>  \n",
       "</tr>\n",
       "<tr>\n",
       "  <th>const</th>                                    <td>   -2.8338</td> <td>    1.038</td> <td>   -2.730</td> <td> 0.006</td> <td>   -4.868</td> <td>   -0.799</td>\n",
       "</tr>\n",
       "<tr>\n",
       "  <th>Do Not Email</th>                             <td>   -1.3385</td> <td>    0.225</td> <td>   -5.957</td> <td> 0.000</td> <td>   -1.779</td> <td>   -0.898</td>\n",
       "</tr>\n",
       "<tr>\n",
       "  <th>Lead Origin_Lead Add Form</th>                <td>    4.2515</td> <td>    0.732</td> <td>    5.806</td> <td> 0.000</td> <td>    2.816</td> <td>    5.687</td>\n",
       "</tr>\n",
       "<tr>\n",
       "  <th>Lead Source_Reference</th>                    <td>   -2.8175</td> <td>    0.838</td> <td>   -3.362</td> <td> 0.001</td> <td>   -4.460</td> <td>   -1.175</td>\n",
       "</tr>\n",
       "<tr>\n",
       "  <th>Last Activity_Olark Chat Conversation</th>    <td>   -1.5471</td> <td>    0.201</td> <td>   -7.707</td> <td> 0.000</td> <td>   -1.941</td> <td>   -1.154</td>\n",
       "</tr>\n",
       "<tr>\n",
       "  <th>Tags_Busy</th>                                <td>    5.0926</td> <td>    1.069</td> <td>    4.763</td> <td> 0.000</td> <td>    2.997</td> <td>    7.188</td>\n",
       "</tr>\n",
       "<tr>\n",
       "  <th>Tags_Closed by Horizzon</th>                  <td>    8.8253</td> <td>    1.285</td> <td>    6.869</td> <td> 0.000</td> <td>    6.307</td> <td>   11.343</td>\n",
       "</tr>\n",
       "<tr>\n",
       "  <th>Tags_Interested in other courses</th>         <td>    1.0439</td> <td>    1.093</td> <td>    0.955</td> <td> 0.339</td> <td>   -1.098</td> <td>    3.186</td>\n",
       "</tr>\n",
       "<tr>\n",
       "  <th>Tags_Lost to EINS</th>                        <td>    9.4199</td> <td>    1.157</td> <td>    8.143</td> <td> 0.000</td> <td>    7.153</td> <td>   11.687</td>\n",
       "</tr>\n",
       "<tr>\n",
       "  <th>Tags_Others</th>                              <td>    1.0270</td> <td>    1.072</td> <td>    0.958</td> <td> 0.338</td> <td>   -1.074</td> <td>    3.127</td>\n",
       "</tr>\n",
       "<tr>\n",
       "  <th>Tags_Ringing</th>                             <td>   -0.4868</td> <td>    1.073</td> <td>   -0.454</td> <td> 0.650</td> <td>   -2.590</td> <td>    1.617</td>\n",
       "</tr>\n",
       "<tr>\n",
       "  <th>Tags_Will revert after reading the email</th> <td>    5.0476</td> <td>    1.042</td> <td>    4.844</td> <td> 0.000</td> <td>    3.005</td> <td>    7.090</td>\n",
       "</tr>\n",
       "<tr>\n",
       "  <th>Tags_switched off</th>                        <td>   -1.2451</td> <td>    1.213</td> <td>   -1.026</td> <td> 0.305</td> <td>   -3.623</td> <td>    1.133</td>\n",
       "</tr>\n",
       "<tr>\n",
       "  <th>Lead Quality_Not Sure</th>                    <td>   -3.4565</td> <td>    0.133</td> <td>  -25.953</td> <td> 0.000</td> <td>   -3.718</td> <td>   -3.195</td>\n",
       "</tr>\n",
       "<tr>\n",
       "  <th>Lead Quality_Worst</th>                       <td>   -3.6645</td> <td>    0.890</td> <td>   -4.119</td> <td> 0.000</td> <td>   -5.408</td> <td>   -1.921</td>\n",
       "</tr>\n",
       "<tr>\n",
       "  <th>Last Notable Activity_SMS Sent</th>           <td>    2.4084</td> <td>    0.122</td> <td>   19.763</td> <td> 0.000</td> <td>    2.170</td> <td>    2.647</td>\n",
       "</tr>\n",
       "</table>"
      ],
      "text/plain": [
       "<class 'statsmodels.iolib.summary.Summary'>\n",
       "\"\"\"\n",
       "                 Generalized Linear Model Regression Results                  \n",
       "==============================================================================\n",
       "Dep. Variable:              Converted   No. Observations:                 5891\n",
       "Model:                            GLM   Df Residuals:                     5875\n",
       "Model Family:                Binomial   Df Model:                           15\n",
       "Link Function:                  logit   Scale:                          1.0000\n",
       "Method:                          IRLS   Log-Likelihood:                -1444.7\n",
       "Date:                Mon, 21 Jun 2021   Deviance:                       2889.5\n",
       "Time:                        21:56:02   Pearson chi2:                 2.96e+04\n",
       "No. Iterations:                     9                                         \n",
       "Covariance Type:            nonrobust                                         \n",
       "============================================================================================================\n",
       "                                               coef    std err          z      P>|z|      [0.025      0.975]\n",
       "------------------------------------------------------------------------------------------------------------\n",
       "const                                       -2.8338      1.038     -2.730      0.006      -4.868      -0.799\n",
       "Do Not Email                                -1.3385      0.225     -5.957      0.000      -1.779      -0.898\n",
       "Lead Origin_Lead Add Form                    4.2515      0.732      5.806      0.000       2.816       5.687\n",
       "Lead Source_Reference                       -2.8175      0.838     -3.362      0.001      -4.460      -1.175\n",
       "Last Activity_Olark Chat Conversation       -1.5471      0.201     -7.707      0.000      -1.941      -1.154\n",
       "Tags_Busy                                    5.0926      1.069      4.763      0.000       2.997       7.188\n",
       "Tags_Closed by Horizzon                      8.8253      1.285      6.869      0.000       6.307      11.343\n",
       "Tags_Interested in other courses             1.0439      1.093      0.955      0.339      -1.098       3.186\n",
       "Tags_Lost to EINS                            9.4199      1.157      8.143      0.000       7.153      11.687\n",
       "Tags_Others                                  1.0270      1.072      0.958      0.338      -1.074       3.127\n",
       "Tags_Ringing                                -0.4868      1.073     -0.454      0.650      -2.590       1.617\n",
       "Tags_Will revert after reading the email     5.0476      1.042      4.844      0.000       3.005       7.090\n",
       "Tags_switched off                           -1.2451      1.213     -1.026      0.305      -3.623       1.133\n",
       "Lead Quality_Not Sure                       -3.4565      0.133    -25.953      0.000      -3.718      -3.195\n",
       "Lead Quality_Worst                          -3.6645      0.890     -4.119      0.000      -5.408      -1.921\n",
       "Last Notable Activity_SMS Sent               2.4084      0.122     19.763      0.000       2.170       2.647\n",
       "============================================================================================================\n",
       "\"\"\""
      ]
     },
     "execution_count": 124,
     "metadata": {},
     "output_type": "execute_result"
    }
   ],
   "source": [
    "# building model using the top RFE 15 columns\n",
    "X_train_sm = sm.add_constant(X_train[col])\n",
    "logm2 = sm.GLM(y_train,X_train_sm, family = sm.families.Binomial())\n",
    "res = logm2.fit()\n",
    "res.summary()"
   ]
  },
  {
   "cell_type": "markdown",
   "id": "966fcb24",
   "metadata": {},
   "source": [
    "Dropping the Tags_Ringing column as p-value is greater than 0.05 therefore feature is insignificant"
   ]
  },
  {
   "cell_type": "code",
   "execution_count": 125,
   "id": "07c68dd5",
   "metadata": {
    "ExecuteTime": {
     "end_time": "2021-06-21T16:26:02.805568Z",
     "start_time": "2021-06-21T16:26:02.791185Z"
    }
   },
   "outputs": [],
   "source": [
    "col1 = col.drop(\"Tags_Ringing\",1)"
   ]
  },
  {
   "cell_type": "code",
   "execution_count": 126,
   "id": "d5c97359",
   "metadata": {
    "ExecuteTime": {
     "end_time": "2021-06-21T16:26:02.851697Z",
     "start_time": "2021-06-21T16:26:02.807056Z"
    }
   },
   "outputs": [
    {
     "data": {
      "text/html": [
       "<table class=\"simpletable\">\n",
       "<caption>Generalized Linear Model Regression Results</caption>\n",
       "<tr>\n",
       "  <th>Dep. Variable:</th>       <td>Converted</td>    <th>  No. Observations:  </th>  <td>  5891</td> \n",
       "</tr>\n",
       "<tr>\n",
       "  <th>Model:</th>                  <td>GLM</td>       <th>  Df Residuals:      </th>  <td>  5876</td> \n",
       "</tr>\n",
       "<tr>\n",
       "  <th>Model Family:</th>        <td>Binomial</td>     <th>  Df Model:          </th>  <td>    14</td> \n",
       "</tr>\n",
       "<tr>\n",
       "  <th>Link Function:</th>         <td>logit</td>      <th>  Scale:             </th> <td>  1.0000</td>\n",
       "</tr>\n",
       "<tr>\n",
       "  <th>Method:</th>                <td>IRLS</td>       <th>  Log-Likelihood:    </th> <td> -1444.8</td>\n",
       "</tr>\n",
       "<tr>\n",
       "  <th>Date:</th>            <td>Mon, 21 Jun 2021</td> <th>  Deviance:          </th> <td>  2889.7</td>\n",
       "</tr>\n",
       "<tr>\n",
       "  <th>Time:</th>                <td>21:56:02</td>     <th>  Pearson chi2:      </th> <td>2.93e+04</td>\n",
       "</tr>\n",
       "<tr>\n",
       "  <th>No. Iterations:</th>          <td>9</td>        <th>                     </th>     <td> </td>   \n",
       "</tr>\n",
       "<tr>\n",
       "  <th>Covariance Type:</th>     <td>nonrobust</td>    <th>                     </th>     <td> </td>   \n",
       "</tr>\n",
       "</table>\n",
       "<table class=\"simpletable\">\n",
       "<tr>\n",
       "                      <td></td>                        <th>coef</th>     <th>std err</th>      <th>z</th>      <th>P>|z|</th>  <th>[0.025</th>    <th>0.975]</th>  \n",
       "</tr>\n",
       "<tr>\n",
       "  <th>const</th>                                    <td>   -3.2945</td> <td>    0.267</td> <td>  -12.345</td> <td> 0.000</td> <td>   -3.818</td> <td>   -2.771</td>\n",
       "</tr>\n",
       "<tr>\n",
       "  <th>Do Not Email</th>                             <td>   -1.3379</td> <td>    0.225</td> <td>   -5.956</td> <td> 0.000</td> <td>   -1.778</td> <td>   -0.898</td>\n",
       "</tr>\n",
       "<tr>\n",
       "  <th>Lead Origin_Lead Add Form</th>                <td>    4.2510</td> <td>    0.732</td> <td>    5.806</td> <td> 0.000</td> <td>    2.816</td> <td>    5.686</td>\n",
       "</tr>\n",
       "<tr>\n",
       "  <th>Lead Source_Reference</th>                    <td>   -2.8196</td> <td>    0.838</td> <td>   -3.366</td> <td> 0.001</td> <td>   -4.461</td> <td>   -1.178</td>\n",
       "</tr>\n",
       "<tr>\n",
       "  <th>Last Activity_Olark Chat Conversation</th>    <td>   -1.5474</td> <td>    0.201</td> <td>   -7.709</td> <td> 0.000</td> <td>   -1.941</td> <td>   -1.154</td>\n",
       "</tr>\n",
       "<tr>\n",
       "  <th>Tags_Busy</th>                                <td>    5.5547</td> <td>    0.359</td> <td>   15.474</td> <td> 0.000</td> <td>    4.851</td> <td>    6.258</td>\n",
       "</tr>\n",
       "<tr>\n",
       "  <th>Tags_Closed by Horizzon</th>                  <td>    9.2857</td> <td>    0.803</td> <td>   11.558</td> <td> 0.000</td> <td>    7.711</td> <td>   10.860</td>\n",
       "</tr>\n",
       "<tr>\n",
       "  <th>Tags_Interested in other courses</th>         <td>    1.5034</td> <td>    0.440</td> <td>    3.414</td> <td> 0.001</td> <td>    0.640</td> <td>    2.366</td>\n",
       "</tr>\n",
       "<tr>\n",
       "  <th>Tags_Lost to EINS</th>                        <td>    9.8766</td> <td>    0.595</td> <td>   16.612</td> <td> 0.000</td> <td>    8.711</td> <td>   11.042</td>\n",
       "</tr>\n",
       "<tr>\n",
       "  <th>Tags_Others</th>                              <td>    1.4848</td> <td>    0.396</td> <td>    3.749</td> <td> 0.000</td> <td>    0.709</td> <td>    2.261</td>\n",
       "</tr>\n",
       "<tr>\n",
       "  <th>Tags_Will revert after reading the email</th> <td>    5.5086</td> <td>    0.279</td> <td>   19.739</td> <td> 0.000</td> <td>    4.962</td> <td>    6.056</td>\n",
       "</tr>\n",
       "<tr>\n",
       "  <th>Tags_switched off</th>                        <td>   -0.7808</td> <td>    0.668</td> <td>   -1.170</td> <td> 0.242</td> <td>   -2.089</td> <td>    0.528</td>\n",
       "</tr>\n",
       "<tr>\n",
       "  <th>Lead Quality_Not Sure</th>                    <td>   -3.4558</td> <td>    0.133</td> <td>  -25.954</td> <td> 0.000</td> <td>   -3.717</td> <td>   -3.195</td>\n",
       "</tr>\n",
       "<tr>\n",
       "  <th>Lead Quality_Worst</th>                       <td>   -3.5983</td> <td>    0.882</td> <td>   -4.079</td> <td> 0.000</td> <td>   -5.327</td> <td>   -1.869</td>\n",
       "</tr>\n",
       "<tr>\n",
       "  <th>Last Notable Activity_SMS Sent</th>           <td>    2.4040</td> <td>    0.121</td> <td>   19.809</td> <td> 0.000</td> <td>    2.166</td> <td>    2.642</td>\n",
       "</tr>\n",
       "</table>"
      ],
      "text/plain": [
       "<class 'statsmodels.iolib.summary.Summary'>\n",
       "\"\"\"\n",
       "                 Generalized Linear Model Regression Results                  \n",
       "==============================================================================\n",
       "Dep. Variable:              Converted   No. Observations:                 5891\n",
       "Model:                            GLM   Df Residuals:                     5876\n",
       "Model Family:                Binomial   Df Model:                           14\n",
       "Link Function:                  logit   Scale:                          1.0000\n",
       "Method:                          IRLS   Log-Likelihood:                -1444.8\n",
       "Date:                Mon, 21 Jun 2021   Deviance:                       2889.7\n",
       "Time:                        21:56:02   Pearson chi2:                 2.93e+04\n",
       "No. Iterations:                     9                                         \n",
       "Covariance Type:            nonrobust                                         \n",
       "============================================================================================================\n",
       "                                               coef    std err          z      P>|z|      [0.025      0.975]\n",
       "------------------------------------------------------------------------------------------------------------\n",
       "const                                       -3.2945      0.267    -12.345      0.000      -3.818      -2.771\n",
       "Do Not Email                                -1.3379      0.225     -5.956      0.000      -1.778      -0.898\n",
       "Lead Origin_Lead Add Form                    4.2510      0.732      5.806      0.000       2.816       5.686\n",
       "Lead Source_Reference                       -2.8196      0.838     -3.366      0.001      -4.461      -1.178\n",
       "Last Activity_Olark Chat Conversation       -1.5474      0.201     -7.709      0.000      -1.941      -1.154\n",
       "Tags_Busy                                    5.5547      0.359     15.474      0.000       4.851       6.258\n",
       "Tags_Closed by Horizzon                      9.2857      0.803     11.558      0.000       7.711      10.860\n",
       "Tags_Interested in other courses             1.5034      0.440      3.414      0.001       0.640       2.366\n",
       "Tags_Lost to EINS                            9.8766      0.595     16.612      0.000       8.711      11.042\n",
       "Tags_Others                                  1.4848      0.396      3.749      0.000       0.709       2.261\n",
       "Tags_Will revert after reading the email     5.5086      0.279     19.739      0.000       4.962       6.056\n",
       "Tags_switched off                           -0.7808      0.668     -1.170      0.242      -2.089       0.528\n",
       "Lead Quality_Not Sure                       -3.4558      0.133    -25.954      0.000      -3.717      -3.195\n",
       "Lead Quality_Worst                          -3.5983      0.882     -4.079      0.000      -5.327      -1.869\n",
       "Last Notable Activity_SMS Sent               2.4040      0.121     19.809      0.000       2.166       2.642\n",
       "============================================================================================================\n",
       "\"\"\""
      ]
     },
     "execution_count": 126,
     "metadata": {},
     "output_type": "execute_result"
    }
   ],
   "source": [
    "X_train_sm = sm.add_constant(X_train[col1])\n",
    "logm2 = sm.GLM(y_train,X_train_sm, family = sm.families.Binomial())\n",
    "res = logm2.fit()\n",
    "res.summary()"
   ]
  },
  {
   "cell_type": "markdown",
   "id": "ae601135",
   "metadata": {},
   "source": [
    "Dropping the Tags_switched off column as p-value is greater than 0.05 therefore feature is insignificant"
   ]
  },
  {
   "cell_type": "code",
   "execution_count": 127,
   "id": "1da76edc",
   "metadata": {
    "ExecuteTime": {
     "end_time": "2021-06-21T16:26:02.867073Z",
     "start_time": "2021-06-21T16:26:02.853185Z"
    }
   },
   "outputs": [],
   "source": [
    "col2 = col1.drop(\"Tags_switched off\",1)"
   ]
  },
  {
   "cell_type": "code",
   "execution_count": 128,
   "id": "4d60f1e6",
   "metadata": {
    "ExecuteTime": {
     "end_time": "2021-06-21T16:26:02.913200Z",
     "start_time": "2021-06-21T16:26:02.868561Z"
    }
   },
   "outputs": [
    {
     "data": {
      "text/html": [
       "<table class=\"simpletable\">\n",
       "<caption>Generalized Linear Model Regression Results</caption>\n",
       "<tr>\n",
       "  <th>Dep. Variable:</th>       <td>Converted</td>    <th>  No. Observations:  </th>  <td>  5891</td> \n",
       "</tr>\n",
       "<tr>\n",
       "  <th>Model:</th>                  <td>GLM</td>       <th>  Df Residuals:      </th>  <td>  5877</td> \n",
       "</tr>\n",
       "<tr>\n",
       "  <th>Model Family:</th>        <td>Binomial</td>     <th>  Df Model:          </th>  <td>    13</td> \n",
       "</tr>\n",
       "<tr>\n",
       "  <th>Link Function:</th>         <td>logit</td>      <th>  Scale:             </th> <td>  1.0000</td>\n",
       "</tr>\n",
       "<tr>\n",
       "  <th>Method:</th>                <td>IRLS</td>       <th>  Log-Likelihood:    </th> <td> -1445.6</td>\n",
       "</tr>\n",
       "<tr>\n",
       "  <th>Date:</th>            <td>Mon, 21 Jun 2021</td> <th>  Deviance:          </th> <td>  2891.2</td>\n",
       "</tr>\n",
       "<tr>\n",
       "  <th>Time:</th>                <td>21:56:02</td>     <th>  Pearson chi2:      </th> <td>2.62e+04</td>\n",
       "</tr>\n",
       "<tr>\n",
       "  <th>No. Iterations:</th>          <td>9</td>        <th>                     </th>     <td> </td>   \n",
       "</tr>\n",
       "<tr>\n",
       "  <th>Covariance Type:</th>     <td>nonrobust</td>    <th>                     </th>     <td> </td>   \n",
       "</tr>\n",
       "</table>\n",
       "<table class=\"simpletable\">\n",
       "<tr>\n",
       "                      <td></td>                        <th>coef</th>     <th>std err</th>      <th>z</th>      <th>P>|z|</th>  <th>[0.025</th>    <th>0.975]</th>  \n",
       "</tr>\n",
       "<tr>\n",
       "  <th>const</th>                                    <td>   -3.4282</td> <td>    0.251</td> <td>  -13.664</td> <td> 0.000</td> <td>   -3.920</td> <td>   -2.936</td>\n",
       "</tr>\n",
       "<tr>\n",
       "  <th>Do Not Email</th>                             <td>   -1.3457</td> <td>    0.224</td> <td>   -6.003</td> <td> 0.000</td> <td>   -1.785</td> <td>   -0.906</td>\n",
       "</tr>\n",
       "<tr>\n",
       "  <th>Lead Origin_Lead Add Form</th>                <td>    4.2514</td> <td>    0.732</td> <td>    5.806</td> <td> 0.000</td> <td>    2.816</td> <td>    5.687</td>\n",
       "</tr>\n",
       "<tr>\n",
       "  <th>Lead Source_Reference</th>                    <td>   -2.7982</td> <td>    0.839</td> <td>   -3.334</td> <td> 0.001</td> <td>   -4.443</td> <td>   -1.153</td>\n",
       "</tr>\n",
       "<tr>\n",
       "  <th>Last Activity_Olark Chat Conversation</th>    <td>   -1.5481</td> <td>    0.201</td> <td>   -7.715</td> <td> 0.000</td> <td>   -1.941</td> <td>   -1.155</td>\n",
       "</tr>\n",
       "<tr>\n",
       "  <th>Tags_Busy</th>                                <td>    5.6864</td> <td>    0.348</td> <td>   16.348</td> <td> 0.000</td> <td>    5.005</td> <td>    6.368</td>\n",
       "</tr>\n",
       "<tr>\n",
       "  <th>Tags_Closed by Horizzon</th>                  <td>    9.4136</td> <td>    0.799</td> <td>   11.780</td> <td> 0.000</td> <td>    7.847</td> <td>   10.980</td>\n",
       "</tr>\n",
       "<tr>\n",
       "  <th>Tags_Interested in other courses</th>         <td>    1.6359</td> <td>    0.431</td> <td>    3.794</td> <td> 0.000</td> <td>    0.791</td> <td>    2.481</td>\n",
       "</tr>\n",
       "<tr>\n",
       "  <th>Tags_Lost to EINS</th>                        <td>   10.0061</td> <td>    0.588</td> <td>   17.005</td> <td> 0.000</td> <td>    8.853</td> <td>   11.159</td>\n",
       "</tr>\n",
       "<tr>\n",
       "  <th>Tags_Others</th>                              <td>    1.6182</td> <td>    0.385</td> <td>    4.198</td> <td> 0.000</td> <td>    0.863</td> <td>    2.374</td>\n",
       "</tr>\n",
       "<tr>\n",
       "  <th>Tags_Will revert after reading the email</th> <td>    5.6394</td> <td>    0.265</td> <td>   21.273</td> <td> 0.000</td> <td>    5.120</td> <td>    6.159</td>\n",
       "</tr>\n",
       "<tr>\n",
       "  <th>Lead Quality_Not Sure</th>                    <td>   -3.4512</td> <td>    0.133</td> <td>  -25.926</td> <td> 0.000</td> <td>   -3.712</td> <td>   -3.190</td>\n",
       "</tr>\n",
       "<tr>\n",
       "  <th>Lead Quality_Worst</th>                       <td>   -3.5881</td> <td>    0.883</td> <td>   -4.063</td> <td> 0.000</td> <td>   -5.319</td> <td>   -1.857</td>\n",
       "</tr>\n",
       "<tr>\n",
       "  <th>Last Notable Activity_SMS Sent</th>           <td>    2.3999</td> <td>    0.121</td> <td>   19.775</td> <td> 0.000</td> <td>    2.162</td> <td>    2.638</td>\n",
       "</tr>\n",
       "</table>"
      ],
      "text/plain": [
       "<class 'statsmodels.iolib.summary.Summary'>\n",
       "\"\"\"\n",
       "                 Generalized Linear Model Regression Results                  \n",
       "==============================================================================\n",
       "Dep. Variable:              Converted   No. Observations:                 5891\n",
       "Model:                            GLM   Df Residuals:                     5877\n",
       "Model Family:                Binomial   Df Model:                           13\n",
       "Link Function:                  logit   Scale:                          1.0000\n",
       "Method:                          IRLS   Log-Likelihood:                -1445.6\n",
       "Date:                Mon, 21 Jun 2021   Deviance:                       2891.2\n",
       "Time:                        21:56:02   Pearson chi2:                 2.62e+04\n",
       "No. Iterations:                     9                                         \n",
       "Covariance Type:            nonrobust                                         \n",
       "============================================================================================================\n",
       "                                               coef    std err          z      P>|z|      [0.025      0.975]\n",
       "------------------------------------------------------------------------------------------------------------\n",
       "const                                       -3.4282      0.251    -13.664      0.000      -3.920      -2.936\n",
       "Do Not Email                                -1.3457      0.224     -6.003      0.000      -1.785      -0.906\n",
       "Lead Origin_Lead Add Form                    4.2514      0.732      5.806      0.000       2.816       5.687\n",
       "Lead Source_Reference                       -2.7982      0.839     -3.334      0.001      -4.443      -1.153\n",
       "Last Activity_Olark Chat Conversation       -1.5481      0.201     -7.715      0.000      -1.941      -1.155\n",
       "Tags_Busy                                    5.6864      0.348     16.348      0.000       5.005       6.368\n",
       "Tags_Closed by Horizzon                      9.4136      0.799     11.780      0.000       7.847      10.980\n",
       "Tags_Interested in other courses             1.6359      0.431      3.794      0.000       0.791       2.481\n",
       "Tags_Lost to EINS                           10.0061      0.588     17.005      0.000       8.853      11.159\n",
       "Tags_Others                                  1.6182      0.385      4.198      0.000       0.863       2.374\n",
       "Tags_Will revert after reading the email     5.6394      0.265     21.273      0.000       5.120       6.159\n",
       "Lead Quality_Not Sure                       -3.4512      0.133    -25.926      0.000      -3.712      -3.190\n",
       "Lead Quality_Worst                          -3.5881      0.883     -4.063      0.000      -5.319      -1.857\n",
       "Last Notable Activity_SMS Sent               2.3999      0.121     19.775      0.000       2.162       2.638\n",
       "============================================================================================================\n",
       "\"\"\""
      ]
     },
     "execution_count": 128,
     "metadata": {},
     "output_type": "execute_result"
    }
   ],
   "source": [
    "X_train_sm = sm.add_constant(X_train[col2])\n",
    "logm3 = sm.GLM(y_train,X_train_sm, family = sm.families.Binomial())\n",
    "res = logm3.fit()\n",
    "res.summary()"
   ]
  },
  {
   "cell_type": "code",
   "execution_count": 129,
   "id": "53a7c049",
   "metadata": {
    "ExecuteTime": {
     "end_time": "2021-06-21T16:26:02.928605Z",
     "start_time": "2021-06-21T16:26:02.914688Z"
    }
   },
   "outputs": [
    {
     "data": {
      "text/plain": [
       "6519    0.011213\n",
       "7518    0.769765\n",
       "349     0.001102\n",
       "1474    0.001028\n",
       "7512    0.453702\n",
       "905     0.001028\n",
       "5151    0.224439\n",
       "1825    0.005254\n",
       "919     0.140637\n",
       "3584    0.005162\n",
       "dtype: float64"
      ]
     },
     "execution_count": 129,
     "metadata": {},
     "output_type": "execute_result"
    }
   ],
   "source": [
    "#Prediciting the results by using above model\n",
    "y_train_pred = res.predict(X_train_sm)\n",
    "y_train_pred[:10]"
   ]
  },
  {
   "cell_type": "code",
   "execution_count": 130,
   "id": "c0f26277",
   "metadata": {
    "ExecuteTime": {
     "end_time": "2021-06-21T16:26:02.943953Z",
     "start_time": "2021-06-21T16:26:02.930064Z"
    }
   },
   "outputs": [
    {
     "data": {
      "text/plain": [
       "array([0.01121256, 0.76976538, 0.00110231, 0.00102775, 0.45370186,\n",
       "       0.00102775, 0.22443919, 0.00525422, 0.14063723, 0.00516235])"
      ]
     },
     "execution_count": 130,
     "metadata": {},
     "output_type": "execute_result"
    }
   ],
   "source": [
    "y_train_pred = y_train_pred.values.reshape(-1)\n",
    "y_train_pred[:10]"
   ]
  },
  {
   "cell_type": "code",
   "execution_count": 131,
   "id": "8a86173b",
   "metadata": {
    "ExecuteTime": {
     "end_time": "2021-06-21T16:26:02.959380Z",
     "start_time": "2021-06-21T16:26:02.945970Z"
    }
   },
   "outputs": [
    {
     "data": {
      "text/html": [
       "<div>\n",
       "<style scoped>\n",
       "    .dataframe tbody tr th:only-of-type {\n",
       "        vertical-align: middle;\n",
       "    }\n",
       "\n",
       "    .dataframe tbody tr th {\n",
       "        vertical-align: top;\n",
       "    }\n",
       "\n",
       "    .dataframe thead th {\n",
       "        text-align: right;\n",
       "    }\n",
       "</style>\n",
       "<table border=\"1\" class=\"dataframe\">\n",
       "  <thead>\n",
       "    <tr style=\"text-align: right;\">\n",
       "      <th></th>\n",
       "      <th>Converted</th>\n",
       "      <th>Converted_prob</th>\n",
       "      <th>Prospect ID</th>\n",
       "    </tr>\n",
       "  </thead>\n",
       "  <tbody>\n",
       "    <tr>\n",
       "      <th>0</th>\n",
       "      <td>0</td>\n",
       "      <td>0.011213</td>\n",
       "      <td>6519</td>\n",
       "    </tr>\n",
       "    <tr>\n",
       "      <th>1</th>\n",
       "      <td>0</td>\n",
       "      <td>0.769765</td>\n",
       "      <td>7518</td>\n",
       "    </tr>\n",
       "    <tr>\n",
       "      <th>2</th>\n",
       "      <td>0</td>\n",
       "      <td>0.001102</td>\n",
       "      <td>349</td>\n",
       "    </tr>\n",
       "    <tr>\n",
       "      <th>3</th>\n",
       "      <td>0</td>\n",
       "      <td>0.001028</td>\n",
       "      <td>1474</td>\n",
       "    </tr>\n",
       "    <tr>\n",
       "      <th>4</th>\n",
       "      <td>0</td>\n",
       "      <td>0.453702</td>\n",
       "      <td>7512</td>\n",
       "    </tr>\n",
       "  </tbody>\n",
       "</table>\n",
       "</div>"
      ],
      "text/plain": [
       "   Converted  Converted_prob  Prospect ID\n",
       "0          0        0.011213         6519\n",
       "1          0        0.769765         7518\n",
       "2          0        0.001102          349\n",
       "3          0        0.001028         1474\n",
       "4          0        0.453702         7512"
      ]
     },
     "execution_count": 131,
     "metadata": {},
     "output_type": "execute_result"
    }
   ],
   "source": [
    "y_train_pred_final = pd.DataFrame({'Converted':y_train.values, 'Converted_prob':y_train_pred})\n",
    "y_train_pred_final['Prospect ID'] = y_train.index\n",
    "y_train_pred_final.head()"
   ]
  },
  {
   "cell_type": "code",
   "execution_count": 132,
   "id": "680d84ff",
   "metadata": {
    "ExecuteTime": {
     "end_time": "2021-06-21T16:26:02.974704Z",
     "start_time": "2021-06-21T16:26:02.960320Z"
    }
   },
   "outputs": [
    {
     "data": {
      "text/html": [
       "<div>\n",
       "<style scoped>\n",
       "    .dataframe tbody tr th:only-of-type {\n",
       "        vertical-align: middle;\n",
       "    }\n",
       "\n",
       "    .dataframe tbody tr th {\n",
       "        vertical-align: top;\n",
       "    }\n",
       "\n",
       "    .dataframe thead th {\n",
       "        text-align: right;\n",
       "    }\n",
       "</style>\n",
       "<table border=\"1\" class=\"dataframe\">\n",
       "  <thead>\n",
       "    <tr style=\"text-align: right;\">\n",
       "      <th></th>\n",
       "      <th>Converted</th>\n",
       "      <th>Converted_prob</th>\n",
       "      <th>Prospect ID</th>\n",
       "      <th>predicted</th>\n",
       "    </tr>\n",
       "  </thead>\n",
       "  <tbody>\n",
       "    <tr>\n",
       "      <th>0</th>\n",
       "      <td>0</td>\n",
       "      <td>0.011213</td>\n",
       "      <td>6519</td>\n",
       "      <td>0</td>\n",
       "    </tr>\n",
       "    <tr>\n",
       "      <th>1</th>\n",
       "      <td>0</td>\n",
       "      <td>0.769765</td>\n",
       "      <td>7518</td>\n",
       "      <td>1</td>\n",
       "    </tr>\n",
       "    <tr>\n",
       "      <th>2</th>\n",
       "      <td>0</td>\n",
       "      <td>0.001102</td>\n",
       "      <td>349</td>\n",
       "      <td>0</td>\n",
       "    </tr>\n",
       "    <tr>\n",
       "      <th>3</th>\n",
       "      <td>0</td>\n",
       "      <td>0.001028</td>\n",
       "      <td>1474</td>\n",
       "      <td>0</td>\n",
       "    </tr>\n",
       "    <tr>\n",
       "      <th>4</th>\n",
       "      <td>0</td>\n",
       "      <td>0.453702</td>\n",
       "      <td>7512</td>\n",
       "      <td>0</td>\n",
       "    </tr>\n",
       "  </tbody>\n",
       "</table>\n",
       "</div>"
      ],
      "text/plain": [
       "   Converted  Converted_prob  Prospect ID  predicted\n",
       "0          0        0.011213         6519          0\n",
       "1          0        0.769765         7518          1\n",
       "2          0        0.001102          349          0\n",
       "3          0        0.001028         1474          0\n",
       "4          0        0.453702         7512          0"
      ]
     },
     "execution_count": 132,
     "metadata": {},
     "output_type": "execute_result"
    }
   ],
   "source": [
    "#taking the probability cuttof as 0.5\n",
    "y_train_pred_final['predicted'] = y_train_pred_final.Converted_prob.map(lambda x: 1 if x > 0.5 else 0)\n",
    "y_train_pred_final.head()"
   ]
  },
  {
   "cell_type": "code",
   "execution_count": 133,
   "id": "07c04b72",
   "metadata": {
    "ExecuteTime": {
     "end_time": "2021-06-21T16:26:02.990082Z",
     "start_time": "2021-06-21T16:26:02.976192Z"
    }
   },
   "outputs": [
    {
     "name": "stdout",
     "output_type": "stream",
     "text": [
      "[[3504  144]\n",
      " [ 329 1914]]\n"
     ]
    }
   ],
   "source": [
    "from sklearn import metrics\n",
    "\n",
    "# Confusion matrix \n",
    "confusion = metrics.confusion_matrix(y_train_pred_final.Converted, y_train_pred_final.predicted )\n",
    "print(confusion)"
   ]
  },
  {
   "cell_type": "code",
   "execution_count": 134,
   "id": "acc06510",
   "metadata": {
    "ExecuteTime": {
     "end_time": "2021-06-21T16:26:03.005456Z",
     "start_time": "2021-06-21T16:26:02.991568Z"
    }
   },
   "outputs": [
    {
     "name": "stdout",
     "output_type": "stream",
     "text": [
      "0.9197080291970803\n"
     ]
    }
   ],
   "source": [
    "print(metrics.accuracy_score(y_train_pred_final.Converted, y_train_pred_final.predicted))"
   ]
  },
  {
   "cell_type": "markdown",
   "id": "609a885e",
   "metadata": {},
   "source": [
    "### Checking the VIF values for all the features"
   ]
  },
  {
   "cell_type": "code",
   "execution_count": 135,
   "id": "fd2b18e4",
   "metadata": {
    "ExecuteTime": {
     "end_time": "2021-06-21T16:26:03.020832Z",
     "start_time": "2021-06-21T16:26:03.006959Z"
    }
   },
   "outputs": [],
   "source": [
    "from statsmodels.stats.outliers_influence import variance_inflation_factor"
   ]
  },
  {
   "cell_type": "code",
   "execution_count": 136,
   "id": "802caed8",
   "metadata": {
    "ExecuteTime": {
     "end_time": "2021-06-21T16:26:03.097746Z",
     "start_time": "2021-06-21T16:26:03.022320Z"
    }
   },
   "outputs": [
    {
     "data": {
      "text/html": [
       "<div>\n",
       "<style scoped>\n",
       "    .dataframe tbody tr th:only-of-type {\n",
       "        vertical-align: middle;\n",
       "    }\n",
       "\n",
       "    .dataframe tbody tr th {\n",
       "        vertical-align: top;\n",
       "    }\n",
       "\n",
       "    .dataframe thead th {\n",
       "        text-align: right;\n",
       "    }\n",
       "</style>\n",
       "<table border=\"1\" class=\"dataframe\">\n",
       "  <thead>\n",
       "    <tr style=\"text-align: right;\">\n",
       "      <th></th>\n",
       "      <th>Features</th>\n",
       "      <th>VIF</th>\n",
       "    </tr>\n",
       "  </thead>\n",
       "  <tbody>\n",
       "    <tr>\n",
       "      <th>1</th>\n",
       "      <td>Lead Origin_Lead Add Form</td>\n",
       "      <td>4.48</td>\n",
       "    </tr>\n",
       "    <tr>\n",
       "      <th>2</th>\n",
       "      <td>Lead Source_Reference</td>\n",
       "      <td>4.44</td>\n",
       "    </tr>\n",
       "    <tr>\n",
       "      <th>12</th>\n",
       "      <td>Last Notable Activity_SMS Sent</td>\n",
       "      <td>3.51</td>\n",
       "    </tr>\n",
       "    <tr>\n",
       "      <th>10</th>\n",
       "      <td>Lead Quality_Not Sure</td>\n",
       "      <td>3.04</td>\n",
       "    </tr>\n",
       "    <tr>\n",
       "      <th>9</th>\n",
       "      <td>Tags_Will revert after reading the email</td>\n",
       "      <td>1.67</td>\n",
       "    </tr>\n",
       "    <tr>\n",
       "      <th>8</th>\n",
       "      <td>Tags_Others</td>\n",
       "      <td>1.30</td>\n",
       "    </tr>\n",
       "    <tr>\n",
       "      <th>3</th>\n",
       "      <td>Last Activity_Olark Chat Conversation</td>\n",
       "      <td>1.24</td>\n",
       "    </tr>\n",
       "    <tr>\n",
       "      <th>6</th>\n",
       "      <td>Tags_Interested in other courses</td>\n",
       "      <td>1.21</td>\n",
       "    </tr>\n",
       "    <tr>\n",
       "      <th>5</th>\n",
       "      <td>Tags_Closed by Horizzon</td>\n",
       "      <td>1.15</td>\n",
       "    </tr>\n",
       "    <tr>\n",
       "      <th>11</th>\n",
       "      <td>Lead Quality_Worst</td>\n",
       "      <td>1.14</td>\n",
       "    </tr>\n",
       "    <tr>\n",
       "      <th>4</th>\n",
       "      <td>Tags_Busy</td>\n",
       "      <td>1.13</td>\n",
       "    </tr>\n",
       "    <tr>\n",
       "      <th>0</th>\n",
       "      <td>Do Not Email</td>\n",
       "      <td>1.11</td>\n",
       "    </tr>\n",
       "    <tr>\n",
       "      <th>7</th>\n",
       "      <td>Tags_Lost to EINS</td>\n",
       "      <td>1.05</td>\n",
       "    </tr>\n",
       "  </tbody>\n",
       "</table>\n",
       "</div>"
      ],
      "text/plain": [
       "                                    Features   VIF\n",
       "1                  Lead Origin_Lead Add Form  4.48\n",
       "2                      Lead Source_Reference  4.44\n",
       "12            Last Notable Activity_SMS Sent  3.51\n",
       "10                     Lead Quality_Not Sure  3.04\n",
       "9   Tags_Will revert after reading the email  1.67\n",
       "8                                Tags_Others  1.30\n",
       "3      Last Activity_Olark Chat Conversation  1.24\n",
       "6           Tags_Interested in other courses  1.21\n",
       "5                    Tags_Closed by Horizzon  1.15\n",
       "11                        Lead Quality_Worst  1.14\n",
       "4                                  Tags_Busy  1.13\n",
       "0                               Do Not Email  1.11\n",
       "7                          Tags_Lost to EINS  1.05"
      ]
     },
     "execution_count": 136,
     "metadata": {},
     "output_type": "execute_result"
    }
   ],
   "source": [
    "vif = pd.DataFrame()\n",
    "vif['Features'] = X_train[col2].columns\n",
    "vif['VIF'] = [variance_inflation_factor(X_train[col].values, i) for i in range(X_train[col2].shape[1])]\n",
    "vif['VIF'] = round(vif['VIF'], 2)\n",
    "vif = vif.sort_values(by = \"VIF\", ascending = False)\n",
    "vif"
   ]
  },
  {
   "cell_type": "markdown",
   "id": "a2e273f2",
   "metadata": {},
   "source": [
    "AS all the VIF values are under 5 so need to remove any features and we can proceed with selected features"
   ]
  },
  {
   "cell_type": "code",
   "execution_count": 137,
   "id": "33c87c08",
   "metadata": {
    "ExecuteTime": {
     "end_time": "2021-06-21T16:26:03.113088Z",
     "start_time": "2021-06-21T16:26:03.099698Z"
    }
   },
   "outputs": [],
   "source": [
    "TP = confusion[1,1] # true positive \n",
    "TN = confusion[0,0] # true negatives\n",
    "FP = confusion[0,1] # false positives\n",
    "FN = confusion[1,0] # false negatives"
   ]
  },
  {
   "cell_type": "code",
   "execution_count": 138,
   "id": "51342e55",
   "metadata": {
    "ExecuteTime": {
     "end_time": "2021-06-21T16:26:03.128465Z",
     "start_time": "2021-06-21T16:26:03.114576Z"
    }
   },
   "outputs": [
    {
     "data": {
      "text/plain": [
       "0.8533214444939813"
      ]
     },
     "execution_count": 138,
     "metadata": {},
     "output_type": "execute_result"
    }
   ],
   "source": [
    "# Let's see the sensitivity of our logistic regression model\n",
    "TP / float(TP+FN)"
   ]
  },
  {
   "cell_type": "code",
   "execution_count": 139,
   "id": "a1d2cefb",
   "metadata": {
    "ExecuteTime": {
     "end_time": "2021-06-21T16:26:03.143840Z",
     "start_time": "2021-06-21T16:26:03.129952Z"
    }
   },
   "outputs": [
    {
     "data": {
      "text/plain": [
       "0.9605263157894737"
      ]
     },
     "execution_count": 139,
     "metadata": {},
     "output_type": "execute_result"
    }
   ],
   "source": [
    "# Let us calculate specificity\n",
    "TN / float(TN+FP)"
   ]
  },
  {
   "cell_type": "code",
   "execution_count": 140,
   "id": "08995382",
   "metadata": {
    "ExecuteTime": {
     "end_time": "2021-06-21T16:26:03.159216Z",
     "start_time": "2021-06-21T16:26:03.144832Z"
    }
   },
   "outputs": [
    {
     "name": "stdout",
     "output_type": "stream",
     "text": [
      "0.039473684210526314\n"
     ]
    }
   ],
   "source": [
    "# Calculate false postive rate - predicting churn when customer does not have churned\n",
    "print(FP/ float(TN+FP))"
   ]
  },
  {
   "cell_type": "code",
   "execution_count": 141,
   "id": "00f838bd",
   "metadata": {
    "ExecuteTime": {
     "end_time": "2021-06-21T16:26:03.174627Z",
     "start_time": "2021-06-21T16:26:03.161200Z"
    }
   },
   "outputs": [
    {
     "name": "stdout",
     "output_type": "stream",
     "text": [
      "0.9300291545189504\n"
     ]
    }
   ],
   "source": [
    "# positive predictive value \n",
    "print (TP / float(TP+FP))"
   ]
  },
  {
   "cell_type": "code",
   "execution_count": 142,
   "id": "3eb276c2",
   "metadata": {
    "ExecuteTime": {
     "end_time": "2021-06-21T16:26:03.190018Z",
     "start_time": "2021-06-21T16:26:03.176082Z"
    }
   },
   "outputs": [
    {
     "name": "stdout",
     "output_type": "stream",
     "text": [
      "0.9141664492564571\n"
     ]
    }
   ],
   "source": [
    "# Negative predictive value\n",
    "print (TN / float(TN+ FN))"
   ]
  },
  {
   "cell_type": "markdown",
   "id": "4bea26ef",
   "metadata": {},
   "source": [
    "# Plotting ROC curve"
   ]
  },
  {
   "cell_type": "code",
   "execution_count": 143,
   "id": "3f6611a5",
   "metadata": {
    "ExecuteTime": {
     "end_time": "2021-06-21T16:26:03.205345Z",
     "start_time": "2021-06-21T16:26:03.191986Z"
    }
   },
   "outputs": [],
   "source": [
    "def draw_roc( actual, probs ):\n",
    "    fpr, tpr, thresholds = metrics.roc_curve( actual, probs,\n",
    "                                              drop_intermediate = False )\n",
    "    auc_score = metrics.roc_auc_score( actual, probs )\n",
    "    plt.figure(figsize=(5, 5))\n",
    "    plt.plot( fpr, tpr, label='ROC curve (area = %0.2f)' % auc_score )\n",
    "    plt.plot([0, 1], [0, 1], 'k--')\n",
    "    plt.xlim([0.0, 1.0])\n",
    "    plt.ylim([0.0, 1.05])\n",
    "    plt.xlabel('False Positive Rate or [1 - True Negative Rate]')\n",
    "    plt.ylabel('True Positive Rate')\n",
    "    plt.title('Receiver operating characteristic example')\n",
    "    plt.legend(loc=\"lower right\")\n",
    "    plt.show()\n",
    "\n",
    "    return None"
   ]
  },
  {
   "cell_type": "code",
   "execution_count": 144,
   "id": "c2c3e68c",
   "metadata": {
    "ExecuteTime": {
     "end_time": "2021-06-21T16:26:03.220721Z",
     "start_time": "2021-06-21T16:26:03.206833Z"
    }
   },
   "outputs": [],
   "source": [
    "fpr, tpr, thresholds = metrics.roc_curve( y_train_pred_final.Converted, y_train_pred_final.Converted_prob, drop_intermediate = False )"
   ]
  },
  {
   "cell_type": "code",
   "execution_count": 145,
   "id": "ed20d464",
   "metadata": {
    "ExecuteTime": {
     "end_time": "2021-06-21T16:26:03.328390Z",
     "start_time": "2021-06-21T16:26:03.221713Z"
    }
   },
   "outputs": [
    {
     "data": {
      "image/png": "[encoded data removed]",
      "text/plain": [
       "<Figure size 360x360 with 1 Axes>"
      ]
     },
     "metadata": {
      "needs_background": "light"
     },
     "output_type": "display_data"
    }
   ],
   "source": [
    "#plotting the ROC curve\n",
    "draw_roc(y_train_pred_final.Converted, y_train_pred_final.Converted_prob)"
   ]
  },
  {
   "cell_type": "markdown",
   "id": "d8128fb9",
   "metadata": {},
   "source": [
    "# Plotting Accuracy, sensitivity and specificity"
   ]
  },
  {
   "cell_type": "code",
   "execution_count": 146,
   "id": "7f76a487",
   "metadata": {
    "ExecuteTime": {
     "end_time": "2021-06-21T16:26:03.374520Z",
     "start_time": "2021-06-21T16:26:03.329344Z"
    }
   },
   "outputs": [
    {
     "data": {
      "text/html": [
       "<div>\n",
       "<style scoped>\n",
       "    .dataframe tbody tr th:only-of-type {\n",
       "        vertical-align: middle;\n",
       "    }\n",
       "\n",
       "    .dataframe tbody tr th {\n",
       "        vertical-align: top;\n",
       "    }\n",
       "\n",
       "    .dataframe thead th {\n",
       "        text-align: right;\n",
       "    }\n",
       "</style>\n",
       "<table border=\"1\" class=\"dataframe\">\n",
       "  <thead>\n",
       "    <tr style=\"text-align: right;\">\n",
       "      <th></th>\n",
       "      <th>Converted</th>\n",
       "      <th>Converted_prob</th>\n",
       "      <th>Prospect ID</th>\n",
       "      <th>predicted</th>\n",
       "      <th>0.0</th>\n",
       "      <th>0.1</th>\n",
       "      <th>0.2</th>\n",
       "      <th>0.3</th>\n",
       "      <th>0.4</th>\n",
       "      <th>0.5</th>\n",
       "      <th>0.6</th>\n",
       "      <th>0.7</th>\n",
       "      <th>0.8</th>\n",
       "      <th>0.9</th>\n",
       "    </tr>\n",
       "  </thead>\n",
       "  <tbody>\n",
       "    <tr>\n",
       "      <th>0</th>\n",
       "      <td>0</td>\n",
       "      <td>0.011213</td>\n",
       "      <td>6519</td>\n",
       "      <td>0</td>\n",
       "      <td>1</td>\n",
       "      <td>0</td>\n",
       "      <td>0</td>\n",
       "      <td>0</td>\n",
       "      <td>0</td>\n",
       "      <td>0</td>\n",
       "      <td>0</td>\n",
       "      <td>0</td>\n",
       "      <td>0</td>\n",
       "      <td>0</td>\n",
       "    </tr>\n",
       "    <tr>\n",
       "      <th>1</th>\n",
       "      <td>0</td>\n",
       "      <td>0.769765</td>\n",
       "      <td>7518</td>\n",
       "      <td>1</td>\n",
       "      <td>1</td>\n",
       "      <td>1</td>\n",
       "      <td>1</td>\n",
       "      <td>1</td>\n",
       "      <td>1</td>\n",
       "      <td>1</td>\n",
       "      <td>1</td>\n",
       "      <td>1</td>\n",
       "      <td>0</td>\n",
       "      <td>0</td>\n",
       "    </tr>\n",
       "    <tr>\n",
       "      <th>2</th>\n",
       "      <td>0</td>\n",
       "      <td>0.001102</td>\n",
       "      <td>349</td>\n",
       "      <td>0</td>\n",
       "      <td>1</td>\n",
       "      <td>0</td>\n",
       "      <td>0</td>\n",
       "      <td>0</td>\n",
       "      <td>0</td>\n",
       "      <td>0</td>\n",
       "      <td>0</td>\n",
       "      <td>0</td>\n",
       "      <td>0</td>\n",
       "      <td>0</td>\n",
       "    </tr>\n",
       "    <tr>\n",
       "      <th>3</th>\n",
       "      <td>0</td>\n",
       "      <td>0.001028</td>\n",
       "      <td>1474</td>\n",
       "      <td>0</td>\n",
       "      <td>1</td>\n",
       "      <td>0</td>\n",
       "      <td>0</td>\n",
       "      <td>0</td>\n",
       "      <td>0</td>\n",
       "      <td>0</td>\n",
       "      <td>0</td>\n",
       "      <td>0</td>\n",
       "      <td>0</td>\n",
       "      <td>0</td>\n",
       "    </tr>\n",
       "    <tr>\n",
       "      <th>4</th>\n",
       "      <td>0</td>\n",
       "      <td>0.453702</td>\n",
       "      <td>7512</td>\n",
       "      <td>0</td>\n",
       "      <td>1</td>\n",
       "      <td>1</td>\n",
       "      <td>1</td>\n",
       "      <td>1</td>\n",
       "      <td>1</td>\n",
       "      <td>0</td>\n",
       "      <td>0</td>\n",
       "      <td>0</td>\n",
       "      <td>0</td>\n",
       "      <td>0</td>\n",
       "    </tr>\n",
       "  </tbody>\n",
       "</table>\n",
       "</div>"
      ],
      "text/plain": [
       "   Converted  Converted_prob  Prospect ID  predicted  0.0  0.1  0.2  0.3  0.4  \\\n",
       "0          0        0.011213         6519          0    1    0    0    0    0   \n",
       "1          0        0.769765         7518          1    1    1    1    1    1   \n",
       "2          0        0.001102          349          0    1    0    0    0    0   \n",
       "3          0        0.001028         1474          0    1    0    0    0    0   \n",
       "4          0        0.453702         7512          0    1    1    1    1    1   \n",
       "\n",
       "   0.5  0.6  0.7  0.8  0.9  \n",
       "0    0    0    0    0    0  \n",
       "1    1    1    1    0    0  \n",
       "2    0    0    0    0    0  \n",
       "3    0    0    0    0    0  \n",
       "4    0    0    0    0    0  "
      ]
     },
     "execution_count": 146,
     "metadata": {},
     "output_type": "execute_result"
    }
   ],
   "source": [
    "# Let's create columns with different probability cutoffs \n",
    "numbers = [float(x)/10 for x in range(10)]\n",
    "for i in numbers:\n",
    "    y_train_pred_final[i]= y_train_pred_final.Converted_prob.map(lambda x: 1 if x > i else 0)\n",
    "y_train_pred_final.head()"
   ]
  },
  {
   "cell_type": "code",
   "execution_count": 147,
   "id": "934f4bae",
   "metadata": {
    "ExecuteTime": {
     "end_time": "2021-06-21T16:26:03.435858Z",
     "start_time": "2021-06-21T16:26:03.376003Z"
    }
   },
   "outputs": [
    {
     "name": "stdout",
     "output_type": "stream",
     "text": [
      "     prob  accuracy     sensi     speci\n",
      "0.0   0.0  0.380750  1.000000  0.000000\n",
      "0.1   0.1  0.768121  0.974588  0.641173\n",
      "0.2   0.2  0.781531  0.971913  0.664474\n",
      "0.3   0.3  0.919538  0.857334  0.957785\n",
      "0.4   0.4  0.919708  0.857334  0.958059\n",
      "0.5   0.5  0.919708  0.853321  0.960526\n",
      "0.6   0.6  0.919199  0.851984  0.960526\n",
      "0.7   0.7  0.916992  0.841730  0.963268\n",
      "0.8   0.8  0.875573  0.693714  0.987390\n",
      "0.9   0.9  0.873875  0.689255  0.987390\n"
     ]
    }
   ],
   "source": [
    "# Now let's calculate accuracy sensitivity and specificity for various probability cutoffs.\n",
    "cutoff_df = pd.DataFrame( columns = ['prob','accuracy','sensi','speci'])\n",
    "from sklearn.metrics import confusion_matrix\n",
    "\n",
    "num = [0.0,0.1,0.2,0.3,0.4,0.5,0.6,0.7,0.8,0.9]\n",
    "for i in num:\n",
    "    cm1 = metrics.confusion_matrix(y_train_pred_final.Converted, y_train_pred_final[i] )\n",
    "    total1=sum(sum(cm1))\n",
    "    accuracy = (cm1[0,0]+cm1[1,1])/total1\n",
    "    \n",
    "    speci = cm1[0,0]/(cm1[0,0]+cm1[0,1])\n",
    "    sensi = cm1[1,1]/(cm1[1,0]+cm1[1,1])\n",
    "    cutoff_df.loc[i] =[ i ,accuracy,sensi,speci]\n",
    "print(cutoff_df)"
   ]
  },
  {
   "cell_type": "code",
   "execution_count": 148,
   "id": "51896a4a",
   "metadata": {
    "ExecuteTime": {
     "end_time": "2021-06-21T16:26:03.543623Z",
     "start_time": "2021-06-21T16:26:03.437345Z"
    }
   },
   "outputs": [
    {
     "data": {
      "image/png": "[encoded data removed]",
      "text/plain": [
       "<Figure size 432x288 with 1 Axes>"
      ]
     },
     "metadata": {
      "needs_background": "light"
     },
     "output_type": "display_data"
    }
   ],
   "source": [
    "#plotting accuracy, sensitivity and specificity for deifferent probability cuttofs\n",
    "cutoff_df.plot.line(x='prob', y=['accuracy','sensi','speci'])\n",
    "plt.show()"
   ]
  },
  {
   "cell_type": "code",
   "execution_count": 149,
   "id": "99df1fec",
   "metadata": {
    "ExecuteTime": {
     "end_time": "2021-06-21T16:26:03.559006Z",
     "start_time": "2021-06-21T16:26:03.545122Z"
    }
   },
   "outputs": [
    {
     "data": {
      "text/html": [
       "<div>\n",
       "<style scoped>\n",
       "    .dataframe tbody tr th:only-of-type {\n",
       "        vertical-align: middle;\n",
       "    }\n",
       "\n",
       "    .dataframe tbody tr th {\n",
       "        vertical-align: top;\n",
       "    }\n",
       "\n",
       "    .dataframe thead th {\n",
       "        text-align: right;\n",
       "    }\n",
       "</style>\n",
       "<table border=\"1\" class=\"dataframe\">\n",
       "  <thead>\n",
       "    <tr style=\"text-align: right;\">\n",
       "      <th></th>\n",
       "      <th>Converted</th>\n",
       "      <th>Converted_prob</th>\n",
       "      <th>Prospect ID</th>\n",
       "      <th>predicted</th>\n",
       "      <th>0.0</th>\n",
       "      <th>0.1</th>\n",
       "      <th>0.2</th>\n",
       "      <th>0.3</th>\n",
       "      <th>0.4</th>\n",
       "      <th>0.5</th>\n",
       "      <th>0.6</th>\n",
       "      <th>0.7</th>\n",
       "      <th>0.8</th>\n",
       "      <th>0.9</th>\n",
       "      <th>final_predicted</th>\n",
       "    </tr>\n",
       "  </thead>\n",
       "  <tbody>\n",
       "    <tr>\n",
       "      <th>0</th>\n",
       "      <td>0</td>\n",
       "      <td>0.011213</td>\n",
       "      <td>6519</td>\n",
       "      <td>0</td>\n",
       "      <td>1</td>\n",
       "      <td>0</td>\n",
       "      <td>0</td>\n",
       "      <td>0</td>\n",
       "      <td>0</td>\n",
       "      <td>0</td>\n",
       "      <td>0</td>\n",
       "      <td>0</td>\n",
       "      <td>0</td>\n",
       "      <td>0</td>\n",
       "      <td>0</td>\n",
       "    </tr>\n",
       "    <tr>\n",
       "      <th>1</th>\n",
       "      <td>0</td>\n",
       "      <td>0.769765</td>\n",
       "      <td>7518</td>\n",
       "      <td>1</td>\n",
       "      <td>1</td>\n",
       "      <td>1</td>\n",
       "      <td>1</td>\n",
       "      <td>1</td>\n",
       "      <td>1</td>\n",
       "      <td>1</td>\n",
       "      <td>1</td>\n",
       "      <td>1</td>\n",
       "      <td>0</td>\n",
       "      <td>0</td>\n",
       "      <td>1</td>\n",
       "    </tr>\n",
       "    <tr>\n",
       "      <th>2</th>\n",
       "      <td>0</td>\n",
       "      <td>0.001102</td>\n",
       "      <td>349</td>\n",
       "      <td>0</td>\n",
       "      <td>1</td>\n",
       "      <td>0</td>\n",
       "      <td>0</td>\n",
       "      <td>0</td>\n",
       "      <td>0</td>\n",
       "      <td>0</td>\n",
       "      <td>0</td>\n",
       "      <td>0</td>\n",
       "      <td>0</td>\n",
       "      <td>0</td>\n",
       "      <td>0</td>\n",
       "    </tr>\n",
       "    <tr>\n",
       "      <th>3</th>\n",
       "      <td>0</td>\n",
       "      <td>0.001028</td>\n",
       "      <td>1474</td>\n",
       "      <td>0</td>\n",
       "      <td>1</td>\n",
       "      <td>0</td>\n",
       "      <td>0</td>\n",
       "      <td>0</td>\n",
       "      <td>0</td>\n",
       "      <td>0</td>\n",
       "      <td>0</td>\n",
       "      <td>0</td>\n",
       "      <td>0</td>\n",
       "      <td>0</td>\n",
       "      <td>0</td>\n",
       "    </tr>\n",
       "    <tr>\n",
       "      <th>4</th>\n",
       "      <td>0</td>\n",
       "      <td>0.453702</td>\n",
       "      <td>7512</td>\n",
       "      <td>0</td>\n",
       "      <td>1</td>\n",
       "      <td>1</td>\n",
       "      <td>1</td>\n",
       "      <td>1</td>\n",
       "      <td>1</td>\n",
       "      <td>0</td>\n",
       "      <td>0</td>\n",
       "      <td>0</td>\n",
       "      <td>0</td>\n",
       "      <td>0</td>\n",
       "      <td>1</td>\n",
       "    </tr>\n",
       "  </tbody>\n",
       "</table>\n",
       "</div>"
      ],
      "text/plain": [
       "   Converted  Converted_prob  Prospect ID  predicted  0.0  0.1  0.2  0.3  0.4  \\\n",
       "0          0        0.011213         6519          0    1    0    0    0    0   \n",
       "1          0        0.769765         7518          1    1    1    1    1    1   \n",
       "2          0        0.001102          349          0    1    0    0    0    0   \n",
       "3          0        0.001028         1474          0    1    0    0    0    0   \n",
       "4          0        0.453702         7512          0    1    1    1    1    1   \n",
       "\n",
       "   0.5  0.6  0.7  0.8  0.9  final_predicted  \n",
       "0    0    0    0    0    0                0  \n",
       "1    1    1    1    0    0                1  \n",
       "2    0    0    0    0    0                0  \n",
       "3    0    0    0    0    0                0  \n",
       "4    0    0    0    0    0                1  "
      ]
     },
     "execution_count": 149,
     "metadata": {},
     "output_type": "execute_result"
    }
   ],
   "source": [
    "#taking the probability cuttof from above graph as 0.3\n",
    "y_train_pred_final['final_predicted'] = y_train_pred_final.Converted_prob.map( lambda x: 1 if x > 0.3 else 0)\n",
    "\n",
    "y_train_pred_final.head()"
   ]
  },
  {
   "cell_type": "code",
   "execution_count": 150,
   "id": "455e27ea",
   "metadata": {
    "ExecuteTime": {
     "end_time": "2021-06-21T16:26:03.589751Z",
     "start_time": "2021-06-21T16:26:03.560983Z"
    }
   },
   "outputs": [
    {
     "data": {
      "text/html": [
       "<div>\n",
       "<style scoped>\n",
       "    .dataframe tbody tr th:only-of-type {\n",
       "        vertical-align: middle;\n",
       "    }\n",
       "\n",
       "    .dataframe tbody tr th {\n",
       "        vertical-align: top;\n",
       "    }\n",
       "\n",
       "    .dataframe thead th {\n",
       "        text-align: right;\n",
       "    }\n",
       "</style>\n",
       "<table border=\"1\" class=\"dataframe\">\n",
       "  <thead>\n",
       "    <tr style=\"text-align: right;\">\n",
       "      <th></th>\n",
       "      <th>Converted</th>\n",
       "      <th>Converted_prob</th>\n",
       "      <th>Prospect ID</th>\n",
       "      <th>predicted</th>\n",
       "      <th>0.0</th>\n",
       "      <th>0.1</th>\n",
       "      <th>0.2</th>\n",
       "      <th>0.3</th>\n",
       "      <th>0.4</th>\n",
       "      <th>0.5</th>\n",
       "      <th>0.6</th>\n",
       "      <th>0.7</th>\n",
       "      <th>0.8</th>\n",
       "      <th>0.9</th>\n",
       "      <th>final_predicted</th>\n",
       "      <th>Lead_Score</th>\n",
       "    </tr>\n",
       "  </thead>\n",
       "  <tbody>\n",
       "    <tr>\n",
       "      <th>0</th>\n",
       "      <td>0</td>\n",
       "      <td>0.011213</td>\n",
       "      <td>6519</td>\n",
       "      <td>0</td>\n",
       "      <td>1</td>\n",
       "      <td>0</td>\n",
       "      <td>0</td>\n",
       "      <td>0</td>\n",
       "      <td>0</td>\n",
       "      <td>0</td>\n",
       "      <td>0</td>\n",
       "      <td>0</td>\n",
       "      <td>0</td>\n",
       "      <td>0</td>\n",
       "      <td>0</td>\n",
       "      <td>1</td>\n",
       "    </tr>\n",
       "    <tr>\n",
       "      <th>1</th>\n",
       "      <td>0</td>\n",
       "      <td>0.769765</td>\n",
       "      <td>7518</td>\n",
       "      <td>1</td>\n",
       "      <td>1</td>\n",
       "      <td>1</td>\n",
       "      <td>1</td>\n",
       "      <td>1</td>\n",
       "      <td>1</td>\n",
       "      <td>1</td>\n",
       "      <td>1</td>\n",
       "      <td>1</td>\n",
       "      <td>0</td>\n",
       "      <td>0</td>\n",
       "      <td>1</td>\n",
       "      <td>77</td>\n",
       "    </tr>\n",
       "    <tr>\n",
       "      <th>2</th>\n",
       "      <td>0</td>\n",
       "      <td>0.001102</td>\n",
       "      <td>349</td>\n",
       "      <td>0</td>\n",
       "      <td>1</td>\n",
       "      <td>0</td>\n",
       "      <td>0</td>\n",
       "      <td>0</td>\n",
       "      <td>0</td>\n",
       "      <td>0</td>\n",
       "      <td>0</td>\n",
       "      <td>0</td>\n",
       "      <td>0</td>\n",
       "      <td>0</td>\n",
       "      <td>0</td>\n",
       "      <td>0</td>\n",
       "    </tr>\n",
       "    <tr>\n",
       "      <th>3</th>\n",
       "      <td>0</td>\n",
       "      <td>0.001028</td>\n",
       "      <td>1474</td>\n",
       "      <td>0</td>\n",
       "      <td>1</td>\n",
       "      <td>0</td>\n",
       "      <td>0</td>\n",
       "      <td>0</td>\n",
       "      <td>0</td>\n",
       "      <td>0</td>\n",
       "      <td>0</td>\n",
       "      <td>0</td>\n",
       "      <td>0</td>\n",
       "      <td>0</td>\n",
       "      <td>0</td>\n",
       "      <td>0</td>\n",
       "    </tr>\n",
       "    <tr>\n",
       "      <th>4</th>\n",
       "      <td>0</td>\n",
       "      <td>0.453702</td>\n",
       "      <td>7512</td>\n",
       "      <td>0</td>\n",
       "      <td>1</td>\n",
       "      <td>1</td>\n",
       "      <td>1</td>\n",
       "      <td>1</td>\n",
       "      <td>1</td>\n",
       "      <td>0</td>\n",
       "      <td>0</td>\n",
       "      <td>0</td>\n",
       "      <td>0</td>\n",
       "      <td>0</td>\n",
       "      <td>1</td>\n",
       "      <td>45</td>\n",
       "    </tr>\n",
       "  </tbody>\n",
       "</table>\n",
       "</div>"
      ],
      "text/plain": [
       "   Converted  Converted_prob  Prospect ID  predicted  0.0  0.1  0.2  0.3  0.4  \\\n",
       "0          0        0.011213         6519          0    1    0    0    0    0   \n",
       "1          0        0.769765         7518          1    1    1    1    1    1   \n",
       "2          0        0.001102          349          0    1    0    0    0    0   \n",
       "3          0        0.001028         1474          0    1    0    0    0    0   \n",
       "4          0        0.453702         7512          0    1    1    1    1    1   \n",
       "\n",
       "   0.5  0.6  0.7  0.8  0.9  final_predicted  Lead_Score  \n",
       "0    0    0    0    0    0                0           1  \n",
       "1    1    1    1    0    0                1          77  \n",
       "2    0    0    0    0    0                0           0  \n",
       "3    0    0    0    0    0                0           0  \n",
       "4    0    0    0    0    0                1          45  "
      ]
     },
     "execution_count": 150,
     "metadata": {},
     "output_type": "execute_result"
    }
   ],
   "source": [
    "#Calcualting the lead score for train data\n",
    "y_train_pred_final['Lead_Score'] = y_train_pred_final.Converted_prob.map( lambda x: round(x*100))\n",
    "\n",
    "y_train_pred_final.head()"
   ]
  },
  {
   "cell_type": "code",
   "execution_count": 151,
   "id": "4b7e263e",
   "metadata": {
    "ExecuteTime": {
     "end_time": "2021-06-21T16:26:03.605127Z",
     "start_time": "2021-06-21T16:26:03.590743Z"
    }
   },
   "outputs": [
    {
     "data": {
      "text/plain": [
       "0.9195382787302665"
      ]
     },
     "execution_count": 151,
     "metadata": {},
     "output_type": "execute_result"
    }
   ],
   "source": [
    "# Let's check the overall accuracy.\n",
    "metrics.accuracy_score(y_train_pred_final.Converted, y_train_pred_final.final_predicted)"
   ]
  },
  {
   "cell_type": "code",
   "execution_count": 152,
   "id": "01ca82a6",
   "metadata": {
    "ExecuteTime": {
     "end_time": "2021-06-21T16:26:03.620503Z",
     "start_time": "2021-06-21T16:26:03.606119Z"
    }
   },
   "outputs": [
    {
     "data": {
      "text/plain": [
       "array([[3494,  154],\n",
       "       [ 320, 1923]], dtype=int64)"
      ]
     },
     "execution_count": 152,
     "metadata": {},
     "output_type": "execute_result"
    }
   ],
   "source": [
    "#confusion matrix\n",
    "confusion2 = metrics.confusion_matrix(y_train_pred_final.Converted, y_train_pred_final.final_predicted )\n",
    "confusion2"
   ]
  },
  {
   "cell_type": "code",
   "execution_count": 153,
   "id": "2878caf6",
   "metadata": {
    "ExecuteTime": {
     "end_time": "2021-06-21T16:26:03.635879Z",
     "start_time": "2021-06-21T16:26:03.621991Z"
    }
   },
   "outputs": [],
   "source": [
    "TP = confusion2[1,1] # true positive \n",
    "TN = confusion2[0,0] # true negatives\n",
    "FP = confusion2[0,1] # false positives\n",
    "FN = confusion2[1,0] # false negatives"
   ]
  },
  {
   "cell_type": "code",
   "execution_count": 154,
   "id": "4e19f2bc",
   "metadata": {
    "ExecuteTime": {
     "end_time": "2021-06-21T16:26:03.651255Z",
     "start_time": "2021-06-21T16:26:03.636871Z"
    }
   },
   "outputs": [
    {
     "data": {
      "text/plain": [
       "0.8573339277753009"
      ]
     },
     "execution_count": 154,
     "metadata": {},
     "output_type": "execute_result"
    }
   ],
   "source": [
    "# Let's see the sensitivity of our logistic regression model\n",
    "TP / float(TP+FN)"
   ]
  },
  {
   "cell_type": "code",
   "execution_count": 155,
   "id": "61e6bdbf",
   "metadata": {
    "ExecuteTime": {
     "end_time": "2021-06-21T16:26:03.666631Z",
     "start_time": "2021-06-21T16:26:03.652743Z"
    }
   },
   "outputs": [
    {
     "data": {
      "text/plain": [
       "0.9577850877192983"
      ]
     },
     "execution_count": 155,
     "metadata": {},
     "output_type": "execute_result"
    }
   ],
   "source": [
    "# Let us calculate specificity\n",
    "TN / float(TN+FP)"
   ]
  },
  {
   "cell_type": "code",
   "execution_count": 156,
   "id": "73b34f93",
   "metadata": {
    "ExecuteTime": {
     "end_time": "2021-06-21T16:26:03.682007Z",
     "start_time": "2021-06-21T16:26:03.668119Z"
    }
   },
   "outputs": [
    {
     "name": "stdout",
     "output_type": "stream",
     "text": [
      "0.042214912280701754\n"
     ]
    }
   ],
   "source": [
    "# Calculate false postive rate - predicting churn when customer does not have churned\n",
    "print(FP/ float(TN+FP))"
   ]
  },
  {
   "cell_type": "code",
   "execution_count": 157,
   "id": "fad1f67d",
   "metadata": {
    "ExecuteTime": {
     "end_time": "2021-06-21T16:26:03.697566Z",
     "start_time": "2021-06-21T16:26:03.682999Z"
    }
   },
   "outputs": [
    {
     "name": "stdout",
     "output_type": "stream",
     "text": [
      "0.9258545979778526\n"
     ]
    }
   ],
   "source": [
    "# Positive predictive value \n",
    "print (TP / float(TP+FP))"
   ]
  },
  {
   "cell_type": "code",
   "execution_count": 158,
   "id": "acd8e8b4",
   "metadata": {
    "ExecuteTime": {
     "end_time": "2021-06-21T16:26:03.712934Z",
     "start_time": "2021-06-21T16:26:03.698552Z"
    }
   },
   "outputs": [
    {
     "name": "stdout",
     "output_type": "stream",
     "text": [
      "0.9160985841636078\n"
     ]
    }
   ],
   "source": [
    "# Negative predictive value\n",
    "print (TN / float(TN+ FN))"
   ]
  },
  {
   "cell_type": "code",
   "execution_count": 159,
   "id": "961ee485",
   "metadata": {
    "ExecuteTime": {
     "end_time": "2021-06-21T16:26:03.728311Z",
     "start_time": "2021-06-21T16:26:03.714385Z"
    }
   },
   "outputs": [
    {
     "data": {
      "text/plain": [
       "array([[3504,  144],\n",
       "       [ 329, 1914]], dtype=int64)"
      ]
     },
     "execution_count": 159,
     "metadata": {},
     "output_type": "execute_result"
    }
   ],
   "source": [
    "#Looking at the confusion matrix again\n",
    "\n",
    "confusion = metrics.confusion_matrix(y_train_pred_final.Converted, y_train_pred_final.predicted )\n",
    "confusion"
   ]
  },
  {
   "cell_type": "code",
   "execution_count": 160,
   "id": "ffa58e90",
   "metadata": {
    "ExecuteTime": {
     "end_time": "2021-06-21T16:26:03.743650Z",
     "start_time": "2021-06-21T16:26:03.729299Z"
    }
   },
   "outputs": [
    {
     "data": {
      "text/plain": [
       "0.9300291545189504"
      ]
     },
     "execution_count": 160,
     "metadata": {},
     "output_type": "execute_result"
    }
   ],
   "source": [
    "confusion[1,1]/(confusion[0,1]+confusion[1,1])"
   ]
  },
  {
   "cell_type": "code",
   "execution_count": 161,
   "id": "88650d8b",
   "metadata": {
    "ExecuteTime": {
     "end_time": "2021-06-21T16:26:03.759058Z",
     "start_time": "2021-06-21T16:26:03.745137Z"
    }
   },
   "outputs": [
    {
     "data": {
      "text/plain": [
       "0.8533214444939813"
      ]
     },
     "execution_count": 161,
     "metadata": {},
     "output_type": "execute_result"
    }
   ],
   "source": [
    "confusion[1,1]/(confusion[1,0]+confusion[1,1])"
   ]
  },
  {
   "cell_type": "markdown",
   "id": "1bc15d2e",
   "metadata": {},
   "source": [
    "# Precision and Recall Curve"
   ]
  },
  {
   "cell_type": "code",
   "execution_count": 162,
   "id": "422af3ae",
   "metadata": {
    "ExecuteTime": {
     "end_time": "2021-06-21T16:26:03.774403Z",
     "start_time": "2021-06-21T16:26:03.760044Z"
    }
   },
   "outputs": [],
   "source": [
    "from sklearn.metrics import precision_score, recall_score"
   ]
  },
  {
   "cell_type": "code",
   "execution_count": 163,
   "id": "ac607d2e",
   "metadata": {
    "ExecuteTime": {
     "end_time": "2021-06-21T16:26:03.789820Z",
     "start_time": "2021-06-21T16:26:03.775889Z"
    }
   },
   "outputs": [
    {
     "data": {
      "text/plain": [
       "0.9300291545189504"
      ]
     },
     "execution_count": 163,
     "metadata": {},
     "output_type": "execute_result"
    }
   ],
   "source": [
    "#calculating precision score\n",
    "precision_score(y_train_pred_final.Converted, y_train_pred_final.predicted)"
   ]
  },
  {
   "cell_type": "code",
   "execution_count": 164,
   "id": "a4ddbe96",
   "metadata": {
    "ExecuteTime": {
     "end_time": "2021-06-21T16:26:03.805867Z",
     "start_time": "2021-06-21T16:26:03.791266Z"
    }
   },
   "outputs": [
    {
     "data": {
      "text/plain": [
       "0.8533214444939813"
      ]
     },
     "execution_count": 164,
     "metadata": {},
     "output_type": "execute_result"
    }
   ],
   "source": [
    "#calcualting recall score\n",
    "recall_score(y_train_pred_final.Converted, y_train_pred_final.predicted)"
   ]
  },
  {
   "cell_type": "code",
   "execution_count": 165,
   "id": "a41d6ae9",
   "metadata": {
    "ExecuteTime": {
     "end_time": "2021-06-21T16:26:03.820529Z",
     "start_time": "2021-06-21T16:26:03.807642Z"
    }
   },
   "outputs": [],
   "source": [
    "from sklearn.metrics import precision_recall_curve"
   ]
  },
  {
   "cell_type": "code",
   "execution_count": 166,
   "id": "193a4968",
   "metadata": {
    "ExecuteTime": {
     "end_time": "2021-06-21T16:26:03.835950Z",
     "start_time": "2021-06-21T16:26:03.822017Z"
    }
   },
   "outputs": [
    {
     "data": {
      "text/plain": [
       "(0       0\n",
       " 1       0\n",
       " 2       0\n",
       " 3       0\n",
       " 4       0\n",
       "        ..\n",
       " 5886    0\n",
       " 5887    0\n",
       " 5888    0\n",
       " 5889    0\n",
       " 5890    0\n",
       " Name: Converted, Length: 5891, dtype: int64,\n",
       " 0       0\n",
       " 1       1\n",
       " 2       0\n",
       " 3       0\n",
       " 4       0\n",
       "        ..\n",
       " 5886    0\n",
       " 5887    0\n",
       " 5888    0\n",
       " 5889    0\n",
       " 5890    0\n",
       " Name: predicted, Length: 5891, dtype: int64)"
      ]
     },
     "execution_count": 166,
     "metadata": {},
     "output_type": "execute_result"
    }
   ],
   "source": [
    "y_train_pred_final.Converted, y_train_pred_final.predicted"
   ]
  },
  {
   "cell_type": "code",
   "execution_count": 167,
   "id": "16647098",
   "metadata": {
    "ExecuteTime": {
     "end_time": "2021-06-21T16:26:03.851335Z",
     "start_time": "2021-06-21T16:26:03.836930Z"
    }
   },
   "outputs": [],
   "source": [
    "p, r, thresholds = precision_recall_curve(y_train_pred_final.Converted, y_train_pred_final.Converted_prob)"
   ]
  },
  {
   "cell_type": "code",
   "execution_count": 168,
   "id": "1badb282",
   "metadata": {
    "ExecuteTime": {
     "end_time": "2021-06-21T16:26:03.928262Z",
     "start_time": "2021-06-21T16:26:03.852770Z"
    }
   },
   "outputs": [
    {
     "data": {
      "image/png": "[encoded data removed]",
      "text/plain": [
       "<Figure size 432x288 with 1 Axes>"
      ]
     },
     "metadata": {
      "needs_background": "light"
     },
     "output_type": "display_data"
    }
   ],
   "source": [
    "#plotting precision and recall curve for finding the optimal probability\n",
    "plt.plot(thresholds, p[:-1], \"g-\")\n",
    "plt.plot(thresholds, r[:-1], \"r-\")\n",
    "plt.show()"
   ]
  },
  {
   "cell_type": "markdown",
   "id": "0c8614f4",
   "metadata": {},
   "source": [
    "# Prediciting on test data"
   ]
  },
  {
   "cell_type": "code",
   "execution_count": 169,
   "id": "d87d5c68",
   "metadata": {
    "ExecuteTime": {
     "end_time": "2021-06-21T16:26:03.959025Z",
     "start_time": "2021-06-21T16:26:03.929714Z"
    }
   },
   "outputs": [
    {
     "data": {
      "text/html": [
       "<div>\n",
       "<style scoped>\n",
       "    .dataframe tbody tr th:only-of-type {\n",
       "        vertical-align: middle;\n",
       "    }\n",
       "\n",
       "    .dataframe tbody tr th {\n",
       "        vertical-align: top;\n",
       "    }\n",
       "\n",
       "    .dataframe thead th {\n",
       "        text-align: right;\n",
       "    }\n",
       "</style>\n",
       "<table border=\"1\" class=\"dataframe\">\n",
       "  <thead>\n",
       "    <tr style=\"text-align: right;\">\n",
       "      <th></th>\n",
       "      <th>Do Not Email</th>\n",
       "      <th>TotalVisits</th>\n",
       "      <th>Total Time Spent on Website</th>\n",
       "      <th>Page Views Per Visit</th>\n",
       "      <th>Lead Origin_Landing Page Submission</th>\n",
       "      <th>Lead Origin_Lead Add Form</th>\n",
       "      <th>Lead Source_Google</th>\n",
       "      <th>Lead Source_Olark Chat</th>\n",
       "      <th>Lead Source_Organic Search</th>\n",
       "      <th>Lead Source_Others</th>\n",
       "      <th>Lead Source_Reference</th>\n",
       "      <th>Last Activity_Email Opened</th>\n",
       "      <th>Last Activity_Olark Chat Conversation</th>\n",
       "      <th>Last Activity_Others</th>\n",
       "      <th>Last Activity_Page Visited on Website</th>\n",
       "      <th>Last Activity_SMS Sent</th>\n",
       "      <th>Last Activity_Unreachable</th>\n",
       "      <th>Specialization_Finance Management</th>\n",
       "      <th>Specialization_Human Resource Management</th>\n",
       "      <th>Specialization_IT Projects Management</th>\n",
       "      <th>Specialization_Marketing Management</th>\n",
       "      <th>Specialization_Not_Specified</th>\n",
       "      <th>Specialization_Operations Management</th>\n",
       "      <th>Specialization_Others</th>\n",
       "      <th>Current Occupation_Student</th>\n",
       "      <th>Current Occupation_Unemployed</th>\n",
       "      <th>Current Occupation_Working Professional</th>\n",
       "      <th>Tags_Busy</th>\n",
       "      <th>Tags_Closed by Horizzon</th>\n",
       "      <th>Tags_Interested in other courses</th>\n",
       "      <th>Tags_Lost to EINS</th>\n",
       "      <th>Tags_Others</th>\n",
       "      <th>Tags_Ringing</th>\n",
       "      <th>Tags_Will revert after reading the email</th>\n",
       "      <th>Tags_switched off</th>\n",
       "      <th>Lead Quality_Low in Relevance</th>\n",
       "      <th>Lead Quality_Might be</th>\n",
       "      <th>Lead Quality_Not Sure</th>\n",
       "      <th>Lead Quality_Worst</th>\n",
       "      <th>City_Other Cities</th>\n",
       "      <th>City_Other Cities of Maharashtra</th>\n",
       "      <th>City_Other Metro Cities</th>\n",
       "      <th>City_Thane &amp; Outskirts</th>\n",
       "      <th>City_Tier II Cities</th>\n",
       "      <th>A free copy of Mastering The Interview_Yes</th>\n",
       "      <th>Last Notable Activity_Email Opened</th>\n",
       "      <th>Last Notable Activity_Modified</th>\n",
       "      <th>Last Notable Activity_Olark Chat Conversation</th>\n",
       "      <th>Last Notable Activity_Others</th>\n",
       "      <th>Last Notable Activity_Page Visited on Website</th>\n",
       "      <th>Last Notable Activity_SMS Sent</th>\n",
       "    </tr>\n",
       "  </thead>\n",
       "  <tbody>\n",
       "    <tr>\n",
       "      <th>869</th>\n",
       "      <td>0</td>\n",
       "      <td>0.549946</td>\n",
       "      <td>-0.775755</td>\n",
       "      <td>-0.445053</td>\n",
       "      <td>0</td>\n",
       "      <td>0</td>\n",
       "      <td>1</td>\n",
       "      <td>0</td>\n",
       "      <td>0</td>\n",
       "      <td>0</td>\n",
       "      <td>0</td>\n",
       "      <td>0</td>\n",
       "      <td>0</td>\n",
       "      <td>1</td>\n",
       "      <td>0</td>\n",
       "      <td>0</td>\n",
       "      <td>0</td>\n",
       "      <td>1</td>\n",
       "      <td>0</td>\n",
       "      <td>0</td>\n",
       "      <td>0</td>\n",
       "      <td>0</td>\n",
       "      <td>0</td>\n",
       "      <td>0</td>\n",
       "      <td>0</td>\n",
       "      <td>1</td>\n",
       "      <td>0</td>\n",
       "      <td>0</td>\n",
       "      <td>0</td>\n",
       "      <td>0</td>\n",
       "      <td>0</td>\n",
       "      <td>0</td>\n",
       "      <td>1</td>\n",
       "      <td>0</td>\n",
       "      <td>0</td>\n",
       "      <td>0</td>\n",
       "      <td>0</td>\n",
       "      <td>1</td>\n",
       "      <td>0</td>\n",
       "      <td>0</td>\n",
       "      <td>0</td>\n",
       "      <td>0</td>\n",
       "      <td>0</td>\n",
       "      <td>0</td>\n",
       "      <td>1</td>\n",
       "      <td>0</td>\n",
       "      <td>1</td>\n",
       "      <td>0</td>\n",
       "      <td>0</td>\n",
       "      <td>0</td>\n",
       "      <td>0</td>\n",
       "    </tr>\n",
       "    <tr>\n",
       "      <th>3470</th>\n",
       "      <td>0</td>\n",
       "      <td>-0.314559</td>\n",
       "      <td>-0.308489</td>\n",
       "      <td>-0.038001</td>\n",
       "      <td>1</td>\n",
       "      <td>0</td>\n",
       "      <td>1</td>\n",
       "      <td>0</td>\n",
       "      <td>0</td>\n",
       "      <td>0</td>\n",
       "      <td>0</td>\n",
       "      <td>0</td>\n",
       "      <td>0</td>\n",
       "      <td>0</td>\n",
       "      <td>0</td>\n",
       "      <td>0</td>\n",
       "      <td>0</td>\n",
       "      <td>0</td>\n",
       "      <td>0</td>\n",
       "      <td>0</td>\n",
       "      <td>0</td>\n",
       "      <td>0</td>\n",
       "      <td>0</td>\n",
       "      <td>1</td>\n",
       "      <td>0</td>\n",
       "      <td>1</td>\n",
       "      <td>0</td>\n",
       "      <td>0</td>\n",
       "      <td>0</td>\n",
       "      <td>1</td>\n",
       "      <td>0</td>\n",
       "      <td>0</td>\n",
       "      <td>0</td>\n",
       "      <td>0</td>\n",
       "      <td>0</td>\n",
       "      <td>1</td>\n",
       "      <td>0</td>\n",
       "      <td>0</td>\n",
       "      <td>0</td>\n",
       "      <td>0</td>\n",
       "      <td>1</td>\n",
       "      <td>0</td>\n",
       "      <td>0</td>\n",
       "      <td>0</td>\n",
       "      <td>0</td>\n",
       "      <td>0</td>\n",
       "      <td>1</td>\n",
       "      <td>0</td>\n",
       "      <td>0</td>\n",
       "      <td>0</td>\n",
       "      <td>0</td>\n",
       "    </tr>\n",
       "    <tr>\n",
       "      <th>8217</th>\n",
       "      <td>0</td>\n",
       "      <td>0.549946</td>\n",
       "      <td>-0.447753</td>\n",
       "      <td>1.177079</td>\n",
       "      <td>1</td>\n",
       "      <td>0</td>\n",
       "      <td>1</td>\n",
       "      <td>0</td>\n",
       "      <td>0</td>\n",
       "      <td>0</td>\n",
       "      <td>0</td>\n",
       "      <td>0</td>\n",
       "      <td>0</td>\n",
       "      <td>0</td>\n",
       "      <td>0</td>\n",
       "      <td>1</td>\n",
       "      <td>0</td>\n",
       "      <td>0</td>\n",
       "      <td>1</td>\n",
       "      <td>0</td>\n",
       "      <td>0</td>\n",
       "      <td>0</td>\n",
       "      <td>0</td>\n",
       "      <td>0</td>\n",
       "      <td>0</td>\n",
       "      <td>1</td>\n",
       "      <td>0</td>\n",
       "      <td>0</td>\n",
       "      <td>0</td>\n",
       "      <td>0</td>\n",
       "      <td>0</td>\n",
       "      <td>0</td>\n",
       "      <td>0</td>\n",
       "      <td>0</td>\n",
       "      <td>1</td>\n",
       "      <td>0</td>\n",
       "      <td>1</td>\n",
       "      <td>0</td>\n",
       "      <td>0</td>\n",
       "      <td>1</td>\n",
       "      <td>0</td>\n",
       "      <td>0</td>\n",
       "      <td>0</td>\n",
       "      <td>0</td>\n",
       "      <td>0</td>\n",
       "      <td>0</td>\n",
       "      <td>0</td>\n",
       "      <td>0</td>\n",
       "      <td>0</td>\n",
       "      <td>0</td>\n",
       "      <td>1</td>\n",
       "    </tr>\n",
       "    <tr>\n",
       "      <th>1239</th>\n",
       "      <td>0</td>\n",
       "      <td>-0.314559</td>\n",
       "      <td>-0.689631</td>\n",
       "      <td>-0.038001</td>\n",
       "      <td>1</td>\n",
       "      <td>0</td>\n",
       "      <td>0</td>\n",
       "      <td>0</td>\n",
       "      <td>0</td>\n",
       "      <td>0</td>\n",
       "      <td>0</td>\n",
       "      <td>1</td>\n",
       "      <td>0</td>\n",
       "      <td>0</td>\n",
       "      <td>0</td>\n",
       "      <td>0</td>\n",
       "      <td>0</td>\n",
       "      <td>0</td>\n",
       "      <td>0</td>\n",
       "      <td>0</td>\n",
       "      <td>0</td>\n",
       "      <td>0</td>\n",
       "      <td>0</td>\n",
       "      <td>1</td>\n",
       "      <td>0</td>\n",
       "      <td>1</td>\n",
       "      <td>0</td>\n",
       "      <td>0</td>\n",
       "      <td>0</td>\n",
       "      <td>0</td>\n",
       "      <td>0</td>\n",
       "      <td>0</td>\n",
       "      <td>0</td>\n",
       "      <td>0</td>\n",
       "      <td>1</td>\n",
       "      <td>0</td>\n",
       "      <td>0</td>\n",
       "      <td>1</td>\n",
       "      <td>0</td>\n",
       "      <td>0</td>\n",
       "      <td>1</td>\n",
       "      <td>0</td>\n",
       "      <td>0</td>\n",
       "      <td>0</td>\n",
       "      <td>1</td>\n",
       "      <td>1</td>\n",
       "      <td>0</td>\n",
       "      <td>0</td>\n",
       "      <td>0</td>\n",
       "      <td>0</td>\n",
       "      <td>0</td>\n",
       "    </tr>\n",
       "    <tr>\n",
       "      <th>4279</th>\n",
       "      <td>0</td>\n",
       "      <td>-1.179064</td>\n",
       "      <td>-0.867375</td>\n",
       "      <td>-1.253082</td>\n",
       "      <td>0</td>\n",
       "      <td>0</td>\n",
       "      <td>0</td>\n",
       "      <td>1</td>\n",
       "      <td>0</td>\n",
       "      <td>0</td>\n",
       "      <td>0</td>\n",
       "      <td>1</td>\n",
       "      <td>0</td>\n",
       "      <td>0</td>\n",
       "      <td>0</td>\n",
       "      <td>0</td>\n",
       "      <td>0</td>\n",
       "      <td>0</td>\n",
       "      <td>0</td>\n",
       "      <td>0</td>\n",
       "      <td>0</td>\n",
       "      <td>1</td>\n",
       "      <td>0</td>\n",
       "      <td>0</td>\n",
       "      <td>0</td>\n",
       "      <td>1</td>\n",
       "      <td>0</td>\n",
       "      <td>0</td>\n",
       "      <td>0</td>\n",
       "      <td>0</td>\n",
       "      <td>0</td>\n",
       "      <td>0</td>\n",
       "      <td>0</td>\n",
       "      <td>1</td>\n",
       "      <td>0</td>\n",
       "      <td>0</td>\n",
       "      <td>0</td>\n",
       "      <td>1</td>\n",
       "      <td>0</td>\n",
       "      <td>0</td>\n",
       "      <td>0</td>\n",
       "      <td>0</td>\n",
       "      <td>0</td>\n",
       "      <td>0</td>\n",
       "      <td>0</td>\n",
       "      <td>1</td>\n",
       "      <td>0</td>\n",
       "      <td>0</td>\n",
       "      <td>0</td>\n",
       "      <td>0</td>\n",
       "      <td>0</td>\n",
       "    </tr>\n",
       "  </tbody>\n",
       "</table>\n",
       "</div>"
      ],
      "text/plain": [
       "      Do Not Email  TotalVisits  Total Time Spent on Website  \\\n",
       "869              0     0.549946                    -0.775755   \n",
       "3470             0    -0.314559                    -0.308489   \n",
       "8217             0     0.549946                    -0.447753   \n",
       "1239             0    -0.314559                    -0.689631   \n",
       "4279             0    -1.179064                    -0.867375   \n",
       "\n",
       "      Page Views Per Visit  Lead Origin_Landing Page Submission  \\\n",
       "869              -0.445053                                    0   \n",
       "3470             -0.038001                                    1   \n",
       "8217              1.177079                                    1   \n",
       "1239             -0.038001                                    1   \n",
       "4279             -1.253082                                    0   \n",
       "\n",
       "      Lead Origin_Lead Add Form  Lead Source_Google  Lead Source_Olark Chat  \\\n",
       "869                           0                   1                       0   \n",
       "3470                          0                   1                       0   \n",
       "8217                          0                   1                       0   \n",
       "1239                          0                   0                       0   \n",
       "4279                          0                   0                       1   \n",
       "\n",
       "      Lead Source_Organic Search  Lead Source_Others  Lead Source_Reference  \\\n",
       "869                            0                   0                      0   \n",
       "3470                           0                   0                      0   \n",
       "8217                           0                   0                      0   \n",
       "1239                           0                   0                      0   \n",
       "4279                           0                   0                      0   \n",
       "\n",
       "      Last Activity_Email Opened  Last Activity_Olark Chat Conversation  \\\n",
       "869                            0                                      0   \n",
       "3470                           0                                      0   \n",
       "8217                           0                                      0   \n",
       "1239                           1                                      0   \n",
       "4279                           1                                      0   \n",
       "\n",
       "      Last Activity_Others  Last Activity_Page Visited on Website  \\\n",
       "869                      1                                      0   \n",
       "3470                     0                                      0   \n",
       "8217                     0                                      0   \n",
       "1239                     0                                      0   \n",
       "4279                     0                                      0   \n",
       "\n",
       "      Last Activity_SMS Sent  Last Activity_Unreachable  \\\n",
       "869                        0                          0   \n",
       "3470                       0                          0   \n",
       "8217                       1                          0   \n",
       "1239                       0                          0   \n",
       "4279                       0                          0   \n",
       "\n",
       "      Specialization_Finance Management  \\\n",
       "869                                   1   \n",
       "3470                                  0   \n",
       "8217                                  0   \n",
       "1239                                  0   \n",
       "4279                                  0   \n",
       "\n",
       "      Specialization_Human Resource Management  \\\n",
       "869                                          0   \n",
       "3470                                         0   \n",
       "8217                                         1   \n",
       "1239                                         0   \n",
       "4279                                         0   \n",
       "\n",
       "      Specialization_IT Projects Management  \\\n",
       "869                                       0   \n",
       "3470                                      0   \n",
       "8217                                      0   \n",
       "1239                                      0   \n",
       "4279                                      0   \n",
       "\n",
       "      Specialization_Marketing Management  Specialization_Not_Specified  \\\n",
       "869                                     0                             0   \n",
       "3470                                    0                             0   \n",
       "8217                                    0                             0   \n",
       "1239                                    0                             0   \n",
       "4279                                    0                             1   \n",
       "\n",
       "      Specialization_Operations Management  Specialization_Others  \\\n",
       "869                                      0                      0   \n",
       "3470                                     0                      1   \n",
       "8217                                     0                      0   \n",
       "1239                                     0                      1   \n",
       "4279                                     0                      0   \n",
       "\n",
       "      Current Occupation_Student  Current Occupation_Unemployed  \\\n",
       "869                            0                              1   \n",
       "3470                           0                              1   \n",
       "8217                           0                              1   \n",
       "1239                           0                              1   \n",
       "4279                           0                              1   \n",
       "\n",
       "      Current Occupation_Working Professional  Tags_Busy  \\\n",
       "869                                         0          0   \n",
       "3470                                        0          0   \n",
       "8217                                        0          0   \n",
       "1239                                        0          0   \n",
       "4279                                        0          0   \n",
       "\n",
       "      Tags_Closed by Horizzon  Tags_Interested in other courses  \\\n",
       "869                         0                                 0   \n",
       "3470                        0                                 1   \n",
       "8217                        0                                 0   \n",
       "1239                        0                                 0   \n",
       "4279                        0                                 0   \n",
       "\n",
       "      Tags_Lost to EINS  Tags_Others  Tags_Ringing  \\\n",
       "869                   0            0             1   \n",
       "3470                  0            0             0   \n",
       "8217                  0            0             0   \n",
       "1239                  0            0             0   \n",
       "4279                  0            0             0   \n",
       "\n",
       "      Tags_Will revert after reading the email  Tags_switched off  \\\n",
       "869                                          0                  0   \n",
       "3470                                         0                  0   \n",
       "8217                                         0                  1   \n",
       "1239                                         0                  1   \n",
       "4279                                         1                  0   \n",
       "\n",
       "      Lead Quality_Low in Relevance  Lead Quality_Might be  \\\n",
       "869                               0                      0   \n",
       "3470                              1                      0   \n",
       "8217                              0                      1   \n",
       "1239                              0                      0   \n",
       "4279                              0                      0   \n",
       "\n",
       "      Lead Quality_Not Sure  Lead Quality_Worst  City_Other Cities  \\\n",
       "869                       1                   0                  0   \n",
       "3470                      0                   0                  0   \n",
       "8217                      0                   0                  1   \n",
       "1239                      1                   0                  0   \n",
       "4279                      1                   0                  0   \n",
       "\n",
       "      City_Other Cities of Maharashtra  City_Other Metro Cities  \\\n",
       "869                                  0                        0   \n",
       "3470                                 1                        0   \n",
       "8217                                 0                        0   \n",
       "1239                                 1                        0   \n",
       "4279                                 0                        0   \n",
       "\n",
       "      City_Thane & Outskirts  City_Tier II Cities  \\\n",
       "869                        0                    0   \n",
       "3470                       0                    0   \n",
       "8217                       0                    0   \n",
       "1239                       0                    0   \n",
       "4279                       0                    0   \n",
       "\n",
       "      A free copy of Mastering The Interview_Yes  \\\n",
       "869                                            1   \n",
       "3470                                           0   \n",
       "8217                                           0   \n",
       "1239                                           1   \n",
       "4279                                           0   \n",
       "\n",
       "      Last Notable Activity_Email Opened  Last Notable Activity_Modified  \\\n",
       "869                                    0                               1   \n",
       "3470                                   0                               1   \n",
       "8217                                   0                               0   \n",
       "1239                                   1                               0   \n",
       "4279                                   1                               0   \n",
       "\n",
       "      Last Notable Activity_Olark Chat Conversation  \\\n",
       "869                                               0   \n",
       "3470                                              0   \n",
       "8217                                              0   \n",
       "1239                                              0   \n",
       "4279                                              0   \n",
       "\n",
       "      Last Notable Activity_Others  \\\n",
       "869                              0   \n",
       "3470                             0   \n",
       "8217                             0   \n",
       "1239                             0   \n",
       "4279                             0   \n",
       "\n",
       "      Last Notable Activity_Page Visited on Website  \\\n",
       "869                                               0   \n",
       "3470                                              0   \n",
       "8217                                              0   \n",
       "1239                                              0   \n",
       "4279                                              0   \n",
       "\n",
       "      Last Notable Activity_SMS Sent  \n",
       "869                                0  \n",
       "3470                               0  \n",
       "8217                               1  \n",
       "1239                               0  \n",
       "4279                               0  "
      ]
     },
     "execution_count": 169,
     "metadata": {},
     "output_type": "execute_result"
    }
   ],
   "source": [
    "#transforming the numerical variables according to the fit_transform from train\n",
    "X_test[num_variables] = scaler.transform(X_test[num_variables])\n",
    "\n",
    "X_test.head()"
   ]
  },
  {
   "cell_type": "code",
   "execution_count": 170,
   "id": "d8abf2c1",
   "metadata": {
    "ExecuteTime": {
     "end_time": "2021-06-21T16:26:03.974404Z",
     "start_time": "2021-06-21T16:26:03.960502Z"
    }
   },
   "outputs": [
    {
     "data": {
      "text/html": [
       "<div>\n",
       "<style scoped>\n",
       "    .dataframe tbody tr th:only-of-type {\n",
       "        vertical-align: middle;\n",
       "    }\n",
       "\n",
       "    .dataframe tbody tr th {\n",
       "        vertical-align: top;\n",
       "    }\n",
       "\n",
       "    .dataframe thead th {\n",
       "        text-align: right;\n",
       "    }\n",
       "</style>\n",
       "<table border=\"1\" class=\"dataframe\">\n",
       "  <thead>\n",
       "    <tr style=\"text-align: right;\">\n",
       "      <th></th>\n",
       "      <th>Do Not Email</th>\n",
       "      <th>Lead Origin_Lead Add Form</th>\n",
       "      <th>Lead Source_Reference</th>\n",
       "      <th>Last Activity_Olark Chat Conversation</th>\n",
       "      <th>Tags_Busy</th>\n",
       "      <th>Tags_Closed by Horizzon</th>\n",
       "      <th>Tags_Interested in other courses</th>\n",
       "      <th>Tags_Lost to EINS</th>\n",
       "      <th>Tags_Others</th>\n",
       "      <th>Tags_Will revert after reading the email</th>\n",
       "      <th>Lead Quality_Not Sure</th>\n",
       "      <th>Lead Quality_Worst</th>\n",
       "      <th>Last Notable Activity_SMS Sent</th>\n",
       "    </tr>\n",
       "  </thead>\n",
       "  <tbody>\n",
       "    <tr>\n",
       "      <th>869</th>\n",
       "      <td>0</td>\n",
       "      <td>0</td>\n",
       "      <td>0</td>\n",
       "      <td>0</td>\n",
       "      <td>0</td>\n",
       "      <td>0</td>\n",
       "      <td>0</td>\n",
       "      <td>0</td>\n",
       "      <td>0</td>\n",
       "      <td>0</td>\n",
       "      <td>1</td>\n",
       "      <td>0</td>\n",
       "      <td>0</td>\n",
       "    </tr>\n",
       "    <tr>\n",
       "      <th>3470</th>\n",
       "      <td>0</td>\n",
       "      <td>0</td>\n",
       "      <td>0</td>\n",
       "      <td>0</td>\n",
       "      <td>0</td>\n",
       "      <td>0</td>\n",
       "      <td>1</td>\n",
       "      <td>0</td>\n",
       "      <td>0</td>\n",
       "      <td>0</td>\n",
       "      <td>0</td>\n",
       "      <td>0</td>\n",
       "      <td>0</td>\n",
       "    </tr>\n",
       "    <tr>\n",
       "      <th>8217</th>\n",
       "      <td>0</td>\n",
       "      <td>0</td>\n",
       "      <td>0</td>\n",
       "      <td>0</td>\n",
       "      <td>0</td>\n",
       "      <td>0</td>\n",
       "      <td>0</td>\n",
       "      <td>0</td>\n",
       "      <td>0</td>\n",
       "      <td>0</td>\n",
       "      <td>0</td>\n",
       "      <td>0</td>\n",
       "      <td>1</td>\n",
       "    </tr>\n",
       "    <tr>\n",
       "      <th>1239</th>\n",
       "      <td>0</td>\n",
       "      <td>0</td>\n",
       "      <td>0</td>\n",
       "      <td>0</td>\n",
       "      <td>0</td>\n",
       "      <td>0</td>\n",
       "      <td>0</td>\n",
       "      <td>0</td>\n",
       "      <td>0</td>\n",
       "      <td>0</td>\n",
       "      <td>1</td>\n",
       "      <td>0</td>\n",
       "      <td>0</td>\n",
       "    </tr>\n",
       "    <tr>\n",
       "      <th>4279</th>\n",
       "      <td>0</td>\n",
       "      <td>0</td>\n",
       "      <td>0</td>\n",
       "      <td>0</td>\n",
       "      <td>0</td>\n",
       "      <td>0</td>\n",
       "      <td>0</td>\n",
       "      <td>0</td>\n",
       "      <td>0</td>\n",
       "      <td>1</td>\n",
       "      <td>1</td>\n",
       "      <td>0</td>\n",
       "      <td>0</td>\n",
       "    </tr>\n",
       "  </tbody>\n",
       "</table>\n",
       "</div>"
      ],
      "text/plain": [
       "      Do Not Email  Lead Origin_Lead Add Form  Lead Source_Reference  \\\n",
       "869              0                          0                      0   \n",
       "3470             0                          0                      0   \n",
       "8217             0                          0                      0   \n",
       "1239             0                          0                      0   \n",
       "4279             0                          0                      0   \n",
       "\n",
       "      Last Activity_Olark Chat Conversation  Tags_Busy  \\\n",
       "869                                       0          0   \n",
       "3470                                      0          0   \n",
       "8217                                      0          0   \n",
       "1239                                      0          0   \n",
       "4279                                      0          0   \n",
       "\n",
       "      Tags_Closed by Horizzon  Tags_Interested in other courses  \\\n",
       "869                         0                                 0   \n",
       "3470                        0                                 1   \n",
       "8217                        0                                 0   \n",
       "1239                        0                                 0   \n",
       "4279                        0                                 0   \n",
       "\n",
       "      Tags_Lost to EINS  Tags_Others  \\\n",
       "869                   0            0   \n",
       "3470                  0            0   \n",
       "8217                  0            0   \n",
       "1239                  0            0   \n",
       "4279                  0            0   \n",
       "\n",
       "      Tags_Will revert after reading the email  Lead Quality_Not Sure  \\\n",
       "869                                          0                      1   \n",
       "3470                                         0                      0   \n",
       "8217                                         0                      0   \n",
       "1239                                         0                      1   \n",
       "4279                                         1                      1   \n",
       "\n",
       "      Lead Quality_Worst  Last Notable Activity_SMS Sent  \n",
       "869                    0                               0  \n",
       "3470                   0                               0  \n",
       "8217                   0                               1  \n",
       "1239                   0                               0  \n",
       "4279                   0                               0  "
      ]
     },
     "execution_count": 170,
     "metadata": {},
     "output_type": "execute_result"
    }
   ],
   "source": [
    "# Taking only columns required for predicting\n",
    "X_test = X_test[col2]\n",
    "X_test.head()"
   ]
  },
  {
   "cell_type": "code",
   "execution_count": 171,
   "id": "379ee21c",
   "metadata": {
    "ExecuteTime": {
     "end_time": "2021-06-21T16:26:03.989797Z",
     "start_time": "2021-06-21T16:26:03.975384Z"
    }
   },
   "outputs": [],
   "source": [
    "#adding connstant to data set\n",
    "X_test_sm = sm.add_constant(X_test)"
   ]
  },
  {
   "cell_type": "code",
   "execution_count": 172,
   "id": "1954bb97",
   "metadata": {
    "ExecuteTime": {
     "end_time": "2021-06-21T16:26:04.005159Z",
     "start_time": "2021-06-21T16:26:03.990778Z"
    }
   },
   "outputs": [],
   "source": [
    "#prediciting the probability\n",
    "y_test_pred = res.predict(X_test_sm)"
   ]
  },
  {
   "cell_type": "code",
   "execution_count": 173,
   "id": "d250539d",
   "metadata": {
    "ExecuteTime": {
     "end_time": "2021-06-21T16:26:04.020496Z",
     "start_time": "2021-06-21T16:26:04.007103Z"
    }
   },
   "outputs": [
    {
     "data": {
      "text/plain": [
       "869     0.001028\n",
       "3470    0.142794\n",
       "8217    0.263421\n",
       "1239    0.001028\n",
       "4279    0.224439\n",
       "6532    0.761320\n",
       "8584    0.005254\n",
       "231     0.001028\n",
       "7447    0.224439\n",
       "2183    0.224439\n",
       "dtype: float64"
      ]
     },
     "execution_count": 173,
     "metadata": {},
     "output_type": "execute_result"
    }
   ],
   "source": [
    "y_test_pred[:10]"
   ]
  },
  {
   "cell_type": "code",
   "execution_count": 174,
   "id": "abf065a8",
   "metadata": {
    "ExecuteTime": {
     "end_time": "2021-06-21T16:26:04.035872Z",
     "start_time": "2021-06-21T16:26:04.021984Z"
    }
   },
   "outputs": [],
   "source": [
    "# Converting y_pred to a dataframe which is an array\n",
    "y_pred_1 = pd.DataFrame(y_test_pred)"
   ]
  },
  {
   "cell_type": "code",
   "execution_count": 175,
   "id": "91b40a32",
   "metadata": {
    "ExecuteTime": {
     "end_time": "2021-06-21T16:26:04.128128Z",
     "start_time": "2021-06-21T16:26:04.037360Z"
    }
   },
   "outputs": [
    {
     "data": {
      "text/html": [
       "<div>\n",
       "<style scoped>\n",
       "    .dataframe tbody tr th:only-of-type {\n",
       "        vertical-align: middle;\n",
       "    }\n",
       "\n",
       "    .dataframe tbody tr th {\n",
       "        vertical-align: top;\n",
       "    }\n",
       "\n",
       "    .dataframe thead th {\n",
       "        text-align: right;\n",
       "    }\n",
       "</style>\n",
       "<table border=\"1\" class=\"dataframe\">\n",
       "  <thead>\n",
       "    <tr style=\"text-align: right;\">\n",
       "      <th></th>\n",
       "      <th>0</th>\n",
       "    </tr>\n",
       "  </thead>\n",
       "  <tbody>\n",
       "    <tr>\n",
       "      <th>869</th>\n",
       "      <td>0.001028</td>\n",
       "    </tr>\n",
       "    <tr>\n",
       "      <th>3470</th>\n",
       "      <td>0.142794</td>\n",
       "    </tr>\n",
       "    <tr>\n",
       "      <th>8217</th>\n",
       "      <td>0.263421</td>\n",
       "    </tr>\n",
       "    <tr>\n",
       "      <th>1239</th>\n",
       "      <td>0.001028</td>\n",
       "    </tr>\n",
       "    <tr>\n",
       "      <th>4279</th>\n",
       "      <td>0.224439</td>\n",
       "    </tr>\n",
       "  </tbody>\n",
       "</table>\n",
       "</div>"
      ],
      "text/plain": [
       "             0\n",
       "869   0.001028\n",
       "3470  0.142794\n",
       "8217  0.263421\n",
       "1239  0.001028\n",
       "4279  0.224439"
      ]
     },
     "execution_count": 175,
     "metadata": {},
     "output_type": "execute_result"
    }
   ],
   "source": [
    "# Let's see the head\n",
    "y_pred_1.head()"
   ]
  },
  {
   "cell_type": "code",
   "execution_count": 176,
   "id": "290501c4",
   "metadata": {
    "ExecuteTime": {
     "end_time": "2021-06-21T16:26:04.143504Z",
     "start_time": "2021-06-21T16:26:04.129616Z"
    }
   },
   "outputs": [],
   "source": [
    "# Converting y_test to dataframe\n",
    "y_test_df = pd.DataFrame(y_test)"
   ]
  },
  {
   "cell_type": "code",
   "execution_count": 177,
   "id": "e515f891",
   "metadata": {
    "ExecuteTime": {
     "end_time": "2021-06-21T16:26:04.158879Z",
     "start_time": "2021-06-21T16:26:04.144991Z"
    }
   },
   "outputs": [],
   "source": [
    "# Putting CustID to index\n",
    "y_test_df['Prospect ID'] = y_test_df.index"
   ]
  },
  {
   "cell_type": "code",
   "execution_count": 178,
   "id": "7742adfb",
   "metadata": {
    "ExecuteTime": {
     "end_time": "2021-06-21T16:26:04.174255Z",
     "start_time": "2021-06-21T16:26:04.160368Z"
    }
   },
   "outputs": [],
   "source": [
    "# Removing index for both dataframes to append them side by side \n",
    "y_pred_1.reset_index(drop=True, inplace=True)\n",
    "y_test_df.reset_index(drop=True, inplace=True)"
   ]
  },
  {
   "cell_type": "code",
   "execution_count": 179,
   "id": "d568cc6e",
   "metadata": {
    "ExecuteTime": {
     "end_time": "2021-06-21T16:26:04.189632Z",
     "start_time": "2021-06-21T16:26:04.175744Z"
    }
   },
   "outputs": [],
   "source": [
    "# Appending y_test_df and y_pred_1\n",
    "y_pred_final = pd.concat([y_test_df, y_pred_1],axis=1)"
   ]
  },
  {
   "cell_type": "code",
   "execution_count": 180,
   "id": "5911c482",
   "metadata": {
    "ExecuteTime": {
     "end_time": "2021-06-21T16:26:04.205057Z",
     "start_time": "2021-06-21T16:26:04.191119Z"
    }
   },
   "outputs": [
    {
     "data": {
      "text/html": [
       "<div>\n",
       "<style scoped>\n",
       "    .dataframe tbody tr th:only-of-type {\n",
       "        vertical-align: middle;\n",
       "    }\n",
       "\n",
       "    .dataframe tbody tr th {\n",
       "        vertical-align: top;\n",
       "    }\n",
       "\n",
       "    .dataframe thead th {\n",
       "        text-align: right;\n",
       "    }\n",
       "</style>\n",
       "<table border=\"1\" class=\"dataframe\">\n",
       "  <thead>\n",
       "    <tr style=\"text-align: right;\">\n",
       "      <th></th>\n",
       "      <th>Converted</th>\n",
       "      <th>Prospect ID</th>\n",
       "      <th>0</th>\n",
       "    </tr>\n",
       "  </thead>\n",
       "  <tbody>\n",
       "    <tr>\n",
       "      <th>0</th>\n",
       "      <td>0</td>\n",
       "      <td>869</td>\n",
       "      <td>0.001028</td>\n",
       "    </tr>\n",
       "    <tr>\n",
       "      <th>1</th>\n",
       "      <td>0</td>\n",
       "      <td>3470</td>\n",
       "      <td>0.142794</td>\n",
       "    </tr>\n",
       "    <tr>\n",
       "      <th>2</th>\n",
       "      <td>0</td>\n",
       "      <td>8217</td>\n",
       "      <td>0.263421</td>\n",
       "    </tr>\n",
       "    <tr>\n",
       "      <th>3</th>\n",
       "      <td>0</td>\n",
       "      <td>1239</td>\n",
       "      <td>0.001028</td>\n",
       "    </tr>\n",
       "    <tr>\n",
       "      <th>4</th>\n",
       "      <td>0</td>\n",
       "      <td>4279</td>\n",
       "      <td>0.224439</td>\n",
       "    </tr>\n",
       "  </tbody>\n",
       "</table>\n",
       "</div>"
      ],
      "text/plain": [
       "   Converted  Prospect ID         0\n",
       "0          0          869  0.001028\n",
       "1          0         3470  0.142794\n",
       "2          0         8217  0.263421\n",
       "3          0         1239  0.001028\n",
       "4          0         4279  0.224439"
      ]
     },
     "execution_count": 180,
     "metadata": {},
     "output_type": "execute_result"
    }
   ],
   "source": [
    "y_pred_final.head()"
   ]
  },
  {
   "cell_type": "code",
   "execution_count": 181,
   "id": "08d19368",
   "metadata": {
    "ExecuteTime": {
     "end_time": "2021-06-21T16:26:04.220433Z",
     "start_time": "2021-06-21T16:26:04.206497Z"
    }
   },
   "outputs": [],
   "source": [
    "# Renaming the column \n",
    "y_pred_final= y_pred_final.rename(columns={ 0 : 'Converted_prob'})"
   ]
  },
  {
   "cell_type": "code",
   "execution_count": 182,
   "id": "54c20930",
   "metadata": {
    "ExecuteTime": {
     "end_time": "2021-06-21T16:26:04.235798Z",
     "start_time": "2021-06-21T16:26:04.221872Z"
    }
   },
   "outputs": [],
   "source": [
    "# Rearranging the columns\n",
    "y_pred_final = y_pred_final.reindex(['Prospect ID','Converted','Converted_prob'], axis=1)"
   ]
  },
  {
   "cell_type": "code",
   "execution_count": 183,
   "id": "8df59f1d",
   "metadata": {
    "ExecuteTime": {
     "end_time": "2021-06-21T16:26:04.251221Z",
     "start_time": "2021-06-21T16:26:04.237286Z"
    }
   },
   "outputs": [
    {
     "data": {
      "text/html": [
       "<div>\n",
       "<style scoped>\n",
       "    .dataframe tbody tr th:only-of-type {\n",
       "        vertical-align: middle;\n",
       "    }\n",
       "\n",
       "    .dataframe tbody tr th {\n",
       "        vertical-align: top;\n",
       "    }\n",
       "\n",
       "    .dataframe thead th {\n",
       "        text-align: right;\n",
       "    }\n",
       "</style>\n",
       "<table border=\"1\" class=\"dataframe\">\n",
       "  <thead>\n",
       "    <tr style=\"text-align: right;\">\n",
       "      <th></th>\n",
       "      <th>Prospect ID</th>\n",
       "      <th>Converted</th>\n",
       "      <th>Converted_prob</th>\n",
       "    </tr>\n",
       "  </thead>\n",
       "  <tbody>\n",
       "    <tr>\n",
       "      <th>0</th>\n",
       "      <td>869</td>\n",
       "      <td>0</td>\n",
       "      <td>0.001028</td>\n",
       "    </tr>\n",
       "    <tr>\n",
       "      <th>1</th>\n",
       "      <td>3470</td>\n",
       "      <td>0</td>\n",
       "      <td>0.142794</td>\n",
       "    </tr>\n",
       "    <tr>\n",
       "      <th>2</th>\n",
       "      <td>8217</td>\n",
       "      <td>0</td>\n",
       "      <td>0.263421</td>\n",
       "    </tr>\n",
       "    <tr>\n",
       "      <th>3</th>\n",
       "      <td>1239</td>\n",
       "      <td>0</td>\n",
       "      <td>0.001028</td>\n",
       "    </tr>\n",
       "    <tr>\n",
       "      <th>4</th>\n",
       "      <td>4279</td>\n",
       "      <td>0</td>\n",
       "      <td>0.224439</td>\n",
       "    </tr>\n",
       "  </tbody>\n",
       "</table>\n",
       "</div>"
      ],
      "text/plain": [
       "   Prospect ID  Converted  Converted_prob\n",
       "0          869          0        0.001028\n",
       "1         3470          0        0.142794\n",
       "2         8217          0        0.263421\n",
       "3         1239          0        0.001028\n",
       "4         4279          0        0.224439"
      ]
     },
     "execution_count": 183,
     "metadata": {},
     "output_type": "execute_result"
    }
   ],
   "source": [
    "y_pred_final.head()"
   ]
  },
  {
   "cell_type": "code",
   "execution_count": 184,
   "id": "e0505458",
   "metadata": {
    "ExecuteTime": {
     "end_time": "2021-06-21T16:26:04.266550Z",
     "start_time": "2021-06-21T16:26:04.252705Z"
    }
   },
   "outputs": [],
   "source": [
    "y_pred_final['final_predicted'] = y_pred_final.Converted_prob.map(lambda x: 1 if x > 0.3 else 0)"
   ]
  },
  {
   "cell_type": "code",
   "execution_count": 185,
   "id": "05a1f4e1",
   "metadata": {
    "ExecuteTime": {
     "end_time": "2021-06-21T16:26:04.281926Z",
     "start_time": "2021-06-21T16:26:04.268038Z"
    }
   },
   "outputs": [],
   "source": [
    "y_pred_final['lead_score'] = y_pred_final.Converted_prob.apply(lambda x:round(x*100))"
   ]
  },
  {
   "cell_type": "code",
   "execution_count": 186,
   "id": "f7e747d5",
   "metadata": {
    "ExecuteTime": {
     "end_time": "2021-06-21T16:26:04.297302Z",
     "start_time": "2021-06-21T16:26:04.283414Z"
    }
   },
   "outputs": [
    {
     "data": {
      "text/html": [
       "<div>\n",
       "<style scoped>\n",
       "    .dataframe tbody tr th:only-of-type {\n",
       "        vertical-align: middle;\n",
       "    }\n",
       "\n",
       "    .dataframe tbody tr th {\n",
       "        vertical-align: top;\n",
       "    }\n",
       "\n",
       "    .dataframe thead th {\n",
       "        text-align: right;\n",
       "    }\n",
       "</style>\n",
       "<table border=\"1\" class=\"dataframe\">\n",
       "  <thead>\n",
       "    <tr style=\"text-align: right;\">\n",
       "      <th></th>\n",
       "      <th>Prospect ID</th>\n",
       "      <th>Converted</th>\n",
       "      <th>Converted_prob</th>\n",
       "      <th>final_predicted</th>\n",
       "      <th>lead_score</th>\n",
       "    </tr>\n",
       "  </thead>\n",
       "  <tbody>\n",
       "    <tr>\n",
       "      <th>0</th>\n",
       "      <td>869</td>\n",
       "      <td>0</td>\n",
       "      <td>0.001028</td>\n",
       "      <td>0</td>\n",
       "      <td>0</td>\n",
       "    </tr>\n",
       "    <tr>\n",
       "      <th>1</th>\n",
       "      <td>3470</td>\n",
       "      <td>0</td>\n",
       "      <td>0.142794</td>\n",
       "      <td>0</td>\n",
       "      <td>14</td>\n",
       "    </tr>\n",
       "    <tr>\n",
       "      <th>2</th>\n",
       "      <td>8217</td>\n",
       "      <td>0</td>\n",
       "      <td>0.263421</td>\n",
       "      <td>0</td>\n",
       "      <td>26</td>\n",
       "    </tr>\n",
       "    <tr>\n",
       "      <th>3</th>\n",
       "      <td>1239</td>\n",
       "      <td>0</td>\n",
       "      <td>0.001028</td>\n",
       "      <td>0</td>\n",
       "      <td>0</td>\n",
       "    </tr>\n",
       "    <tr>\n",
       "      <th>4</th>\n",
       "      <td>4279</td>\n",
       "      <td>0</td>\n",
       "      <td>0.224439</td>\n",
       "      <td>0</td>\n",
       "      <td>22</td>\n",
       "    </tr>\n",
       "  </tbody>\n",
       "</table>\n",
       "</div>"
      ],
      "text/plain": [
       "   Prospect ID  Converted  Converted_prob  final_predicted  lead_score\n",
       "0          869          0        0.001028                0           0\n",
       "1         3470          0        0.142794                0          14\n",
       "2         8217          0        0.263421                0          26\n",
       "3         1239          0        0.001028                0           0\n",
       "4         4279          0        0.224439                0          22"
      ]
     },
     "execution_count": 186,
     "metadata": {},
     "output_type": "execute_result"
    }
   ],
   "source": [
    "y_pred_final.head()"
   ]
  },
  {
   "cell_type": "code",
   "execution_count": 187,
   "id": "dd6e6705",
   "metadata": {
    "ExecuteTime": {
     "end_time": "2021-06-21T16:26:04.312679Z",
     "start_time": "2021-06-21T16:26:04.298790Z"
    }
   },
   "outputs": [
    {
     "data": {
      "text/plain": [
       "0.9148514851485149"
      ]
     },
     "execution_count": 187,
     "metadata": {},
     "output_type": "execute_result"
    }
   ],
   "source": [
    "#checking the accuracy\n",
    "metrics.accuracy_score(y_pred_final.Converted, y_pred_final.final_predicted)"
   ]
  },
  {
   "cell_type": "code",
   "execution_count": 188,
   "id": "ab51bda1",
   "metadata": {
    "ExecuteTime": {
     "end_time": "2021-06-21T16:26:04.328054Z",
     "start_time": "2021-06-21T16:26:04.314167Z"
    }
   },
   "outputs": [
    {
     "data": {
      "text/plain": [
       "array([[1540,   72],\n",
       "       [ 143,  770]], dtype=int64)"
      ]
     },
     "execution_count": 188,
     "metadata": {},
     "output_type": "execute_result"
    }
   ],
   "source": [
    "confusion2 = metrics.confusion_matrix(y_pred_final.Converted, y_pred_final.final_predicted )\n",
    "confusion2"
   ]
  },
  {
   "cell_type": "code",
   "execution_count": 189,
   "id": "fdc7d4c5",
   "metadata": {
    "ExecuteTime": {
     "end_time": "2021-06-21T16:26:04.343430Z",
     "start_time": "2021-06-21T16:26:04.329542Z"
    }
   },
   "outputs": [],
   "source": [
    "TP = confusion2[1,1] # true positive \n",
    "TN = confusion2[0,0] # true negatives\n",
    "FP = confusion2[0,1] # false positives\n",
    "FN = confusion2[1,0] # false negatives"
   ]
  },
  {
   "cell_type": "code",
   "execution_count": 190,
   "id": "123064ab",
   "metadata": {
    "ExecuteTime": {
     "end_time": "2021-06-21T16:26:04.358853Z",
     "start_time": "2021-06-21T16:26:04.344422Z"
    }
   },
   "outputs": [
    {
     "data": {
      "text/plain": [
       "0.8433734939759037"
      ]
     },
     "execution_count": 190,
     "metadata": {},
     "output_type": "execute_result"
    }
   ],
   "source": [
    "# Let's see the sensitivity of our logistic regression model\n",
    "TP / float(TP+FN)"
   ]
  },
  {
   "cell_type": "code",
   "execution_count": 191,
   "id": "e0ff5d9d",
   "metadata": {
    "ExecuteTime": {
     "end_time": "2021-06-21T16:26:04.374182Z",
     "start_time": "2021-06-21T16:26:04.359821Z"
    }
   },
   "outputs": [
    {
     "data": {
      "text/plain": [
       "0.9553349875930521"
      ]
     },
     "execution_count": 191,
     "metadata": {},
     "output_type": "execute_result"
    }
   ],
   "source": [
    "# Let us calculate specificity\n",
    "TN / float(TN+FP)"
   ]
  },
  {
   "cell_type": "markdown",
   "id": "604474fb",
   "metadata": {},
   "source": [
    "### Accuracy, Sensitivity and Specificity on Test Data Set"
   ]
  },
  {
   "cell_type": "markdown",
   "id": "237c2910",
   "metadata": {},
   "source": [
    "- Accuracy: 91.48%\n",
    "- Sensitivity: 84.33%\n",
    "- Specificity: 95.53%"
   ]
  }
 ],
 "metadata": {
  "kernelspec": {
   "display_name": "Python 3",
   "language": "python",
   "name": "python3"
  },
  "language_info": {
   "codemirror_mode": {
    "name": "ipython",
    "version": 3
   },
   "file_extension": ".py",
   "mimetype": "text/x-python",
   "name": "python",
   "nbconvert_exporter": "python",
   "pygments_lexer": "ipython3",
   "version": "3.7.10"
  },
  "toc": {
   "base_numbering": 1,
   "nav_menu": {},
   "number_sections": true,
   "sideBar": true,
   "skip_h1_title": false,
   "title_cell": "Table of Contents",
   "title_sidebar": "Contents",
   "toc_cell": false,
   "toc_position": {},
   "toc_section_display": true,
   "toc_window_display": false
  },
  "varInspector": {
   "cols": {
    "lenName": 16,
    "lenType": 16,
    "lenVar": 40
   },
   "kernels_config": {
    "python": {
     "delete_cmd_postfix": "",
     "delete_cmd_prefix": "del ",
     "library": "var_list.py",
     "varRefreshCmd": "print(var_dic_list())"
    },
    "r": {
     "delete_cmd_postfix": ") ",
     "delete_cmd_prefix": "rm(",
     "library": "var_list.r",
     "varRefreshCmd": "cat(var_dic_list()) "
    }
   },
   "types_to_exclude": [
    "module",
    "function",
    "builtin_function_or_method",
    "instance",
    "_Feature"
   ],
   "window_display": false
  }
 },
 "nbformat": 4,
 "nbformat_minor": 5
}
